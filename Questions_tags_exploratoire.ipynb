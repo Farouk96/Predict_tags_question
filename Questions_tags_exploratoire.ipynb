{
  "nbformat": 4,
  "nbformat_minor": 0,
  "metadata": {
    "colab": {
      "name": "Questions_tags_exploratoire.ipynb",
      "provenance": [],
      "toc_visible": true,
      "mount_file_id": "13NG9o3DRHZCK7dRpMXo1htOVhf5DjJUV",
      "authorship_tag": "ABX9TyMexFM2v7wkkZedDUlI01hk",
      "include_colab_link": true
    },
    "kernelspec": {
      "display_name": "Python 3",
      "name": "python3"
    },
    "language_info": {
      "name": "python"
    }
  },
  "cells": [
    {
      "cell_type": "markdown",
      "metadata": {
        "id": "view-in-github",
        "colab_type": "text"
      },
      "source": [
        "<a href=\"https://colab.research.google.com/github/Farouk96/Predict_tags_question/blob/main/Questions_tags_exploratoire.ipynb\" target=\"_parent\"><img src=\"https://colab.research.google.com/assets/colab-badge.svg\" alt=\"Open In Colab\"/></a>"
      ]
    },
    {
      "cell_type": "code",
      "metadata": {
        "colab": {
          "base_uri": "https://localhost:8080/"
        },
        "id": "tYyH2s1eP-il",
        "outputId": "2e7aa4e7-b15b-4bc7-f1a6-bf217ce0385f"
      },
      "source": [
        "import pandas as pd\n",
        "import numpy as np\n",
        "\n",
        "\n",
        "import matplotlib.pyplot as plt\n",
        "import matplotlib.lines as mlines\n",
        "import seaborn as sns\n",
        "from matplotlib import pyplot\n",
        "\n",
        "import time\n",
        "\n",
        "import re\n",
        "from bs4 import BeautifulSoup\n",
        "import nltk\n",
        "nltk.download('stopwords')\n",
        "nltk.download('wordnet')\n",
        "nltk.download('punkt')\n",
        "from nltk.tokenize import ToktokTokenizer\n",
        "from nltk.tokenize import word_tokenize\n",
        "from nltk.stem.wordnet import WordNetLemmatizer\n",
        "from nltk.corpus import stopwords\n",
        "from string import punctuation\n",
        "\n",
        "from sklearn.feature_extraction.text import TfidfVectorizer,CountVectorizer\n",
        "from sklearn.decomposition import LatentDirichletAllocation,NMF,PCA"
      ],
      "execution_count": null,
      "outputs": [
        {
          "output_type": "stream",
          "name": "stdout",
          "text": [
            "[nltk_data] Downloading package stopwords to /root/nltk_data...\n",
            "[nltk_data]   Package stopwords is already up-to-date!\n",
            "[nltk_data] Downloading package wordnet to /root/nltk_data...\n",
            "[nltk_data]   Package wordnet is already up-to-date!\n",
            "[nltk_data] Downloading package punkt to /root/nltk_data...\n",
            "[nltk_data]   Package punkt is already up-to-date!\n"
          ]
        }
      ]
    },
    {
      "cell_type": "code",
      "metadata": {
        "id": "peT3Gq3q9UKY"
      },
      "source": [
        "import pandas as pd\n",
        "data=pd.read_csv('/content/drive/MyDrive/QueryResults.csv', sep=',')"
      ],
      "execution_count": null,
      "outputs": []
    },
    {
      "cell_type": "code",
      "metadata": {
        "colab": {
          "base_uri": "https://localhost:8080/",
          "height": 600
        },
        "id": "SPZ07svhmyqw",
        "outputId": "af549693-3a02-4871-a178-806870340e1e"
      },
      "source": [
        "data.head(5)"
      ],
      "execution_count": null,
      "outputs": [
        {
          "output_type": "execute_result",
          "data": {
            "text/html": [
              "\n",
              "  <div id=\"df-74ec0b2a-b385-4bd9-b5a2-7b93fd25c35e\">\n",
              "    <div class=\"colab-df-container\">\n",
              "      <div>\n",
              "<style scoped>\n",
              "    .dataframe tbody tr th:only-of-type {\n",
              "        vertical-align: middle;\n",
              "    }\n",
              "\n",
              "    .dataframe tbody tr th {\n",
              "        vertical-align: top;\n",
              "    }\n",
              "\n",
              "    .dataframe thead th {\n",
              "        text-align: right;\n",
              "    }\n",
              "</style>\n",
              "<table border=\"1\" class=\"dataframe\">\n",
              "  <thead>\n",
              "    <tr style=\"text-align: right;\">\n",
              "      <th></th>\n",
              "      <th>Id</th>\n",
              "      <th>PostTypeId</th>\n",
              "      <th>AcceptedAnswerId</th>\n",
              "      <th>ParentId</th>\n",
              "      <th>CreationDate</th>\n",
              "      <th>DeletionDate</th>\n",
              "      <th>Score</th>\n",
              "      <th>ViewCount</th>\n",
              "      <th>Body</th>\n",
              "      <th>OwnerUserId</th>\n",
              "      <th>OwnerDisplayName</th>\n",
              "      <th>LastEditorUserId</th>\n",
              "      <th>LastEditorDisplayName</th>\n",
              "      <th>LastEditDate</th>\n",
              "      <th>LastActivityDate</th>\n",
              "      <th>Title</th>\n",
              "      <th>Tags</th>\n",
              "      <th>AnswerCount</th>\n",
              "      <th>CommentCount</th>\n",
              "      <th>FavoriteCount</th>\n",
              "      <th>ClosedDate</th>\n",
              "      <th>CommunityOwnedDate</th>\n",
              "      <th>ContentLicense</th>\n",
              "    </tr>\n",
              "  </thead>\n",
              "  <tbody>\n",
              "    <tr>\n",
              "      <th>0</th>\n",
              "      <td>65000001</td>\n",
              "      <td>1</td>\n",
              "      <td>NaN</td>\n",
              "      <td>NaN</td>\n",
              "      <td>2020-11-25 07:14:44</td>\n",
              "      <td>NaN</td>\n",
              "      <td>0</td>\n",
              "      <td>718.0</td>\n",
              "      <td>&lt;pre&gt;&lt;code&gt;import javax.swing.*;\\n\\nimport jav...</td>\n",
              "      <td>14404483.0</td>\n",
              "      <td>NaN</td>\n",
              "      <td>466862.0</td>\n",
              "      <td>NaN</td>\n",
              "      <td>2021-02-14 11:19:29</td>\n",
              "      <td>2021-02-14 11:19:29</td>\n",
              "      <td>how to fix the cannot find symbol in actionPer...</td>\n",
              "      <td>&lt;java&gt;&lt;error-handling&gt;&lt;actionlistener&gt;</td>\n",
              "      <td>1.0</td>\n",
              "      <td>3</td>\n",
              "      <td>NaN</td>\n",
              "      <td>2021-02-14 11:19:33</td>\n",
              "      <td>NaN</td>\n",
              "      <td>CC BY-SA 4.0</td>\n",
              "    </tr>\n",
              "    <tr>\n",
              "      <th>1</th>\n",
              "      <td>65000002</td>\n",
              "      <td>2</td>\n",
              "      <td>NaN</td>\n",
              "      <td>64993028.0</td>\n",
              "      <td>2020-11-25 07:14:45</td>\n",
              "      <td>NaN</td>\n",
              "      <td>0</td>\n",
              "      <td>NaN</td>\n",
              "      <td>&lt;p&gt;you can try this code, you might need to se...</td>\n",
              "      <td>3021161.0</td>\n",
              "      <td>NaN</td>\n",
              "      <td>NaN</td>\n",
              "      <td>NaN</td>\n",
              "      <td>NaN</td>\n",
              "      <td>2020-11-25 07:14:45</td>\n",
              "      <td>NaN</td>\n",
              "      <td>NaN</td>\n",
              "      <td>NaN</td>\n",
              "      <td>1</td>\n",
              "      <td>NaN</td>\n",
              "      <td>NaN</td>\n",
              "      <td>NaN</td>\n",
              "      <td>CC BY-SA 4.0</td>\n",
              "    </tr>\n",
              "    <tr>\n",
              "      <th>2</th>\n",
              "      <td>65000003</td>\n",
              "      <td>1</td>\n",
              "      <td>65002545.0</td>\n",
              "      <td>NaN</td>\n",
              "      <td>2020-11-25 07:14:47</td>\n",
              "      <td>NaN</td>\n",
              "      <td>0</td>\n",
              "      <td>56.0</td>\n",
              "      <td>&lt;p&gt;Please the take this example:&lt;/p&gt;\\n&lt;pre cla...</td>\n",
              "      <td>3370568.0</td>\n",
              "      <td>NaN</td>\n",
              "      <td>3370568.0</td>\n",
              "      <td>NaN</td>\n",
              "      <td>2020-11-25 07:22:10</td>\n",
              "      <td>2020-11-25 10:11:52</td>\n",
              "      <td>Why types inside the .forEach callback functio...</td>\n",
              "      <td>&lt;typescript&gt;</td>\n",
              "      <td>1.0</td>\n",
              "      <td>5</td>\n",
              "      <td>NaN</td>\n",
              "      <td>NaN</td>\n",
              "      <td>NaN</td>\n",
              "      <td>CC BY-SA 4.0</td>\n",
              "    </tr>\n",
              "    <tr>\n",
              "      <th>3</th>\n",
              "      <td>65000004</td>\n",
              "      <td>1</td>\n",
              "      <td>NaN</td>\n",
              "      <td>NaN</td>\n",
              "      <td>2020-11-25 07:14:49</td>\n",
              "      <td>NaN</td>\n",
              "      <td>1</td>\n",
              "      <td>65.0</td>\n",
              "      <td>&lt;p&gt;Is there a way to include a value from the ...</td>\n",
              "      <td>370039.0</td>\n",
              "      <td>NaN</td>\n",
              "      <td>NaN</td>\n",
              "      <td>NaN</td>\n",
              "      <td>NaN</td>\n",
              "      <td>2020-11-25 07:14:49</td>\n",
              "      <td>Getting username from flask session into gunic...</td>\n",
              "      <td>&lt;python&gt;&lt;flask&gt;&lt;gunicorn&gt;</td>\n",
              "      <td>0.0</td>\n",
              "      <td>0</td>\n",
              "      <td>NaN</td>\n",
              "      <td>NaN</td>\n",
              "      <td>NaN</td>\n",
              "      <td>CC BY-SA 4.0</td>\n",
              "    </tr>\n",
              "    <tr>\n",
              "      <th>4</th>\n",
              "      <td>65000007</td>\n",
              "      <td>1</td>\n",
              "      <td>NaN</td>\n",
              "      <td>NaN</td>\n",
              "      <td>2020-11-25 07:14:58</td>\n",
              "      <td>NaN</td>\n",
              "      <td>0</td>\n",
              "      <td>25.0</td>\n",
              "      <td>&lt;p&gt;I am trying to make a connection from &lt;stro...</td>\n",
              "      <td>8412603.0</td>\n",
              "      <td>NaN</td>\n",
              "      <td>NaN</td>\n",
              "      <td>NaN</td>\n",
              "      <td>NaN</td>\n",
              "      <td>2020-11-25 07:14:58</td>\n",
              "      <td>Make Connection Using Sybase in Laravel 5.2</td>\n",
              "      <td>&lt;php&gt;&lt;laravel&gt;</td>\n",
              "      <td>0.0</td>\n",
              "      <td>1</td>\n",
              "      <td>NaN</td>\n",
              "      <td>NaN</td>\n",
              "      <td>NaN</td>\n",
              "      <td>CC BY-SA 4.0</td>\n",
              "    </tr>\n",
              "  </tbody>\n",
              "</table>\n",
              "</div>\n",
              "      <button class=\"colab-df-convert\" onclick=\"convertToInteractive('df-74ec0b2a-b385-4bd9-b5a2-7b93fd25c35e')\"\n",
              "              title=\"Convert this dataframe to an interactive table.\"\n",
              "              style=\"display:none;\">\n",
              "        \n",
              "  <svg xmlns=\"http://www.w3.org/2000/svg\" height=\"24px\"viewBox=\"0 0 24 24\"\n",
              "       width=\"24px\">\n",
              "    <path d=\"M0 0h24v24H0V0z\" fill=\"none\"/>\n",
              "    <path d=\"M18.56 5.44l.94 2.06.94-2.06 2.06-.94-2.06-.94-.94-2.06-.94 2.06-2.06.94zm-11 1L8.5 8.5l.94-2.06 2.06-.94-2.06-.94L8.5 2.5l-.94 2.06-2.06.94zm10 10l.94 2.06.94-2.06 2.06-.94-2.06-.94-.94-2.06-.94 2.06-2.06.94z\"/><path d=\"M17.41 7.96l-1.37-1.37c-.4-.4-.92-.59-1.43-.59-.52 0-1.04.2-1.43.59L10.3 9.45l-7.72 7.72c-.78.78-.78 2.05 0 2.83L4 21.41c.39.39.9.59 1.41.59.51 0 1.02-.2 1.41-.59l7.78-7.78 2.81-2.81c.8-.78.8-2.07 0-2.86zM5.41 20L4 18.59l7.72-7.72 1.47 1.35L5.41 20z\"/>\n",
              "  </svg>\n",
              "      </button>\n",
              "      \n",
              "  <style>\n",
              "    .colab-df-container {\n",
              "      display:flex;\n",
              "      flex-wrap:wrap;\n",
              "      gap: 12px;\n",
              "    }\n",
              "\n",
              "    .colab-df-convert {\n",
              "      background-color: #E8F0FE;\n",
              "      border: none;\n",
              "      border-radius: 50%;\n",
              "      cursor: pointer;\n",
              "      display: none;\n",
              "      fill: #1967D2;\n",
              "      height: 32px;\n",
              "      padding: 0 0 0 0;\n",
              "      width: 32px;\n",
              "    }\n",
              "\n",
              "    .colab-df-convert:hover {\n",
              "      background-color: #E2EBFA;\n",
              "      box-shadow: 0px 1px 2px rgba(60, 64, 67, 0.3), 0px 1px 3px 1px rgba(60, 64, 67, 0.15);\n",
              "      fill: #174EA6;\n",
              "    }\n",
              "\n",
              "    [theme=dark] .colab-df-convert {\n",
              "      background-color: #3B4455;\n",
              "      fill: #D2E3FC;\n",
              "    }\n",
              "\n",
              "    [theme=dark] .colab-df-convert:hover {\n",
              "      background-color: #434B5C;\n",
              "      box-shadow: 0px 1px 3px 1px rgba(0, 0, 0, 0.15);\n",
              "      filter: drop-shadow(0px 1px 2px rgba(0, 0, 0, 0.3));\n",
              "      fill: #FFFFFF;\n",
              "    }\n",
              "  </style>\n",
              "\n",
              "      <script>\n",
              "        const buttonEl =\n",
              "          document.querySelector('#df-74ec0b2a-b385-4bd9-b5a2-7b93fd25c35e button.colab-df-convert');\n",
              "        buttonEl.style.display =\n",
              "          google.colab.kernel.accessAllowed ? 'block' : 'none';\n",
              "\n",
              "        async function convertToInteractive(key) {\n",
              "          const element = document.querySelector('#df-74ec0b2a-b385-4bd9-b5a2-7b93fd25c35e');\n",
              "          const dataTable =\n",
              "            await google.colab.kernel.invokeFunction('convertToInteractive',\n",
              "                                                     [key], {});\n",
              "          if (!dataTable) return;\n",
              "\n",
              "          const docLinkHtml = 'Like what you see? Visit the ' +\n",
              "            '<a target=\"_blank\" href=https://colab.research.google.com/notebooks/data_table.ipynb>data table notebook</a>'\n",
              "            + ' to learn more about interactive tables.';\n",
              "          element.innerHTML = '';\n",
              "          dataTable['output_type'] = 'display_data';\n",
              "          await google.colab.output.renderOutput(dataTable, element);\n",
              "          const docLink = document.createElement('div');\n",
              "          docLink.innerHTML = docLinkHtml;\n",
              "          element.appendChild(docLink);\n",
              "        }\n",
              "      </script>\n",
              "    </div>\n",
              "  </div>\n",
              "  "
            ],
            "text/plain": [
              "         Id  PostTypeId  ...  CommunityOwnedDate  ContentLicense\n",
              "0  65000001           1  ...                 NaN    CC BY-SA 4.0\n",
              "1  65000002           2  ...                 NaN    CC BY-SA 4.0\n",
              "2  65000003           1  ...                 NaN    CC BY-SA 4.0\n",
              "3  65000004           1  ...                 NaN    CC BY-SA 4.0\n",
              "4  65000007           1  ...                 NaN    CC BY-SA 4.0\n",
              "\n",
              "[5 rows x 23 columns]"
            ]
          },
          "metadata": {},
          "execution_count": 21
        }
      ]
    },
    {
      "cell_type": "code",
      "metadata": {
        "colab": {
          "base_uri": "https://localhost:8080/"
        },
        "id": "c658e2Cqnufc",
        "outputId": "47072334-c722-4b8e-c626-b03e41741dfe"
      },
      "source": [
        "data.shape"
      ],
      "execution_count": null,
      "outputs": [
        {
          "output_type": "execute_result",
          "data": {
            "text/plain": [
              "(50000, 23)"
            ]
          },
          "metadata": {},
          "execution_count": 22
        }
      ]
    },
    {
      "cell_type": "code",
      "metadata": {
        "colab": {
          "base_uri": "https://localhost:8080/"
        },
        "id": "DJFJ_-PjnBW8",
        "outputId": "2ded5af6-d754-4393-d3d8-4825068a9099"
      },
      "source": [
        "data.isnull().sum()"
      ],
      "execution_count": null,
      "outputs": [
        {
          "output_type": "execute_result",
          "data": {
            "text/plain": [
              "Id                           0\n",
              "PostTypeId                   0\n",
              "AcceptedAnswerId         41249\n",
              "ParentId                 23864\n",
              "CreationDate                 0\n",
              "DeletionDate             50000\n",
              "Score                        0\n",
              "ViewCount                26174\n",
              "Body                        19\n",
              "OwnerUserId                522\n",
              "OwnerDisplayName         49470\n",
              "LastEditorUserId         31928\n",
              "LastEditorDisplayName    49862\n",
              "LastEditDate             31792\n",
              "LastActivityDate             0\n",
              "Title                    26174\n",
              "Tags                     26174\n",
              "AnswerCount              26174\n",
              "CommentCount                 0\n",
              "FavoriteCount            47979\n",
              "ClosedDate               48629\n",
              "CommunityOwnedDate       49963\n",
              "ContentLicense               0\n",
              "dtype: int64"
            ]
          },
          "metadata": {},
          "execution_count": 23
        }
      ]
    },
    {
      "cell_type": "code",
      "metadata": {
        "colab": {
          "base_uri": "https://localhost:8080/"
        },
        "id": "o4U4UsDRnol5",
        "outputId": "8f95c297-e238-4445-f4a4-65ce01670b4b"
      },
      "source": [
        "#Eliminer toutes les lignes ne contient pas des tags\n",
        "data.drop(data[data['Tags'].isnull()].index,axis=0,inplace=True)\n",
        "data.isnull().sum()"
      ],
      "execution_count": null,
      "outputs": [
        {
          "output_type": "execute_result",
          "data": {
            "text/plain": [
              "Id                           0\n",
              "PostTypeId                   0\n",
              "AcceptedAnswerId         15075\n",
              "ParentId                 23826\n",
              "CreationDate                 0\n",
              "DeletionDate             23826\n",
              "Score                        0\n",
              "ViewCount                    0\n",
              "Body                         0\n",
              "OwnerUserId                364\n",
              "OwnerDisplayName         23457\n",
              "LastEditorUserId         13073\n",
              "LastEditorDisplayName    23727\n",
              "LastEditDate             12976\n",
              "LastActivityDate             0\n",
              "Title                        0\n",
              "Tags                         0\n",
              "AnswerCount                  0\n",
              "CommentCount                 0\n",
              "FavoriteCount            21805\n",
              "ClosedDate               22455\n",
              "CommunityOwnedDate       23826\n",
              "ContentLicense               0\n",
              "dtype: int64"
            ]
          },
          "metadata": {},
          "execution_count": 24
        }
      ]
    },
    {
      "cell_type": "code",
      "metadata": {
        "id": "iSVE8SmIr4SF"
      },
      "source": [
        "import seaborn as sns\n",
        "import matplotlib.pyplot as plt"
      ],
      "execution_count": null,
      "outputs": []
    },
    {
      "cell_type": "code",
      "metadata": {
        "colab": {
          "base_uri": "https://localhost:8080/",
          "height": 955
        },
        "id": "6nY3lHRBsj3K",
        "outputId": "24e2c9e0-2d3d-4581-ff41-aae5c56aa452"
      },
      "source": [
        "plt.figure(figsize=(15,15))\n",
        "sns.countplot(data['Score'])\n",
        "plt.xticks(rotation=90)\n",
        "plt.title('distribution des scores')\n",
        "plt.show()"
      ],
      "execution_count": null,
      "outputs": [
        {
          "output_type": "stream",
          "name": "stderr",
          "text": [
            "/usr/local/lib/python3.7/dist-packages/seaborn/_decorators.py:43: FutureWarning: Pass the following variable as a keyword arg: x. From version 0.12, the only valid positional argument will be `data`, and passing other arguments without an explicit keyword will result in an error or misinterpretation.\n",
            "  FutureWarning\n"
          ]
        },
        {
          "output_type": "display_data",
          "data": {
            "image/png": "[encoded data removed]",
            "text/plain": [
              "<Figure size 1080x1080 with 1 Axes>"
            ]
          },
          "metadata": {
            "needs_background": "light"
          }
        }
      ]
    },
    {
      "cell_type": "code",
      "metadata": {
        "id": "ocW57bGUtuyu"
      },
      "source": [
        "data=data[data['Score']>=0]"
      ],
      "execution_count": null,
      "outputs": []
    },
    {
      "cell_type": "code",
      "metadata": {
        "colab": {
          "base_uri": "https://localhost:8080/"
        },
        "id": "tnOmBLPCufNP",
        "outputId": "59be9be4-bf4a-4f61-959c-7b5af7f468bb"
      },
      "source": [
        "data.shape"
      ],
      "execution_count": null,
      "outputs": [
        {
          "output_type": "execute_result",
          "data": {
            "text/plain": [
              "(22205, 23)"
            ]
          },
          "metadata": {},
          "execution_count": 28
        }
      ]
    },
    {
      "cell_type": "code",
      "metadata": {
        "colab": {
          "base_uri": "https://localhost:8080/",
          "height": 214
        },
        "id": "LNKZ3CXmt707",
        "outputId": "79a7de65-0bae-4077-d6d8-714acff1c3fe"
      },
      "source": [
        "data.head(1)"
      ],
      "execution_count": null,
      "outputs": [
        {
          "output_type": "execute_result",
          "data": {
            "text/html": [
              "\n",
              "  <div id=\"df-213f8805-340e-4d22-99fa-6ac8bb5f0f58\">\n",
              "    <div class=\"colab-df-container\">\n",
              "      <div>\n",
              "<style scoped>\n",
              "    .dataframe tbody tr th:only-of-type {\n",
              "        vertical-align: middle;\n",
              "    }\n",
              "\n",
              "    .dataframe tbody tr th {\n",
              "        vertical-align: top;\n",
              "    }\n",
              "\n",
              "    .dataframe thead th {\n",
              "        text-align: right;\n",
              "    }\n",
              "</style>\n",
              "<table border=\"1\" class=\"dataframe\">\n",
              "  <thead>\n",
              "    <tr style=\"text-align: right;\">\n",
              "      <th></th>\n",
              "      <th>Id</th>\n",
              "      <th>PostTypeId</th>\n",
              "      <th>AcceptedAnswerId</th>\n",
              "      <th>ParentId</th>\n",
              "      <th>CreationDate</th>\n",
              "      <th>DeletionDate</th>\n",
              "      <th>Score</th>\n",
              "      <th>ViewCount</th>\n",
              "      <th>Body</th>\n",
              "      <th>OwnerUserId</th>\n",
              "      <th>OwnerDisplayName</th>\n",
              "      <th>LastEditorUserId</th>\n",
              "      <th>LastEditorDisplayName</th>\n",
              "      <th>LastEditDate</th>\n",
              "      <th>LastActivityDate</th>\n",
              "      <th>Title</th>\n",
              "      <th>Tags</th>\n",
              "      <th>AnswerCount</th>\n",
              "      <th>CommentCount</th>\n",
              "      <th>FavoriteCount</th>\n",
              "      <th>ClosedDate</th>\n",
              "      <th>CommunityOwnedDate</th>\n",
              "      <th>ContentLicense</th>\n",
              "    </tr>\n",
              "  </thead>\n",
              "  <tbody>\n",
              "    <tr>\n",
              "      <th>0</th>\n",
              "      <td>65000001</td>\n",
              "      <td>1</td>\n",
              "      <td>NaN</td>\n",
              "      <td>NaN</td>\n",
              "      <td>2020-11-25 07:14:44</td>\n",
              "      <td>NaN</td>\n",
              "      <td>0</td>\n",
              "      <td>718.0</td>\n",
              "      <td>&lt;pre&gt;&lt;code&gt;import javax.swing.*;\\n\\nimport jav...</td>\n",
              "      <td>14404483.0</td>\n",
              "      <td>NaN</td>\n",
              "      <td>466862.0</td>\n",
              "      <td>NaN</td>\n",
              "      <td>2021-02-14 11:19:29</td>\n",
              "      <td>2021-02-14 11:19:29</td>\n",
              "      <td>how to fix the cannot find symbol in actionPer...</td>\n",
              "      <td>&lt;java&gt;&lt;error-handling&gt;&lt;actionlistener&gt;</td>\n",
              "      <td>1.0</td>\n",
              "      <td>3</td>\n",
              "      <td>NaN</td>\n",
              "      <td>2021-02-14 11:19:33</td>\n",
              "      <td>NaN</td>\n",
              "      <td>CC BY-SA 4.0</td>\n",
              "    </tr>\n",
              "  </tbody>\n",
              "</table>\n",
              "</div>\n",
              "      <button class=\"colab-df-convert\" onclick=\"convertToInteractive('df-213f8805-340e-4d22-99fa-6ac8bb5f0f58')\"\n",
              "              title=\"Convert this dataframe to an interactive table.\"\n",
              "              style=\"display:none;\">\n",
              "        \n",
              "  <svg xmlns=\"http://www.w3.org/2000/svg\" height=\"24px\"viewBox=\"0 0 24 24\"\n",
              "       width=\"24px\">\n",
              "    <path d=\"M0 0h24v24H0V0z\" fill=\"none\"/>\n",
              "    <path d=\"M18.56 5.44l.94 2.06.94-2.06 2.06-.94-2.06-.94-.94-2.06-.94 2.06-2.06.94zm-11 1L8.5 8.5l.94-2.06 2.06-.94-2.06-.94L8.5 2.5l-.94 2.06-2.06.94zm10 10l.94 2.06.94-2.06 2.06-.94-2.06-.94-.94-2.06-.94 2.06-2.06.94z\"/><path d=\"M17.41 7.96l-1.37-1.37c-.4-.4-.92-.59-1.43-.59-.52 0-1.04.2-1.43.59L10.3 9.45l-7.72 7.72c-.78.78-.78 2.05 0 2.83L4 21.41c.39.39.9.59 1.41.59.51 0 1.02-.2 1.41-.59l7.78-7.78 2.81-2.81c.8-.78.8-2.07 0-2.86zM5.41 20L4 18.59l7.72-7.72 1.47 1.35L5.41 20z\"/>\n",
              "  </svg>\n",
              "      </button>\n",
              "      \n",
              "  <style>\n",
              "    .colab-df-container {\n",
              "      display:flex;\n",
              "      flex-wrap:wrap;\n",
              "      gap: 12px;\n",
              "    }\n",
              "\n",
              "    .colab-df-convert {\n",
              "      background-color: #E8F0FE;\n",
              "      border: none;\n",
              "      border-radius: 50%;\n",
              "      cursor: pointer;\n",
              "      display: none;\n",
              "      fill: #1967D2;\n",
              "      height: 32px;\n",
              "      padding: 0 0 0 0;\n",
              "      width: 32px;\n",
              "    }\n",
              "\n",
              "    .colab-df-convert:hover {\n",
              "      background-color: #E2EBFA;\n",
              "      box-shadow: 0px 1px 2px rgba(60, 64, 67, 0.3), 0px 1px 3px 1px rgba(60, 64, 67, 0.15);\n",
              "      fill: #174EA6;\n",
              "    }\n",
              "\n",
              "    [theme=dark] .colab-df-convert {\n",
              "      background-color: #3B4455;\n",
              "      fill: #D2E3FC;\n",
              "    }\n",
              "\n",
              "    [theme=dark] .colab-df-convert:hover {\n",
              "      background-color: #434B5C;\n",
              "      box-shadow: 0px 1px 3px 1px rgba(0, 0, 0, 0.15);\n",
              "      filter: drop-shadow(0px 1px 2px rgba(0, 0, 0, 0.3));\n",
              "      fill: #FFFFFF;\n",
              "    }\n",
              "  </style>\n",
              "\n",
              "      <script>\n",
              "        const buttonEl =\n",
              "          document.querySelector('#df-213f8805-340e-4d22-99fa-6ac8bb5f0f58 button.colab-df-convert');\n",
              "        buttonEl.style.display =\n",
              "          google.colab.kernel.accessAllowed ? 'block' : 'none';\n",
              "\n",
              "        async function convertToInteractive(key) {\n",
              "          const element = document.querySelector('#df-213f8805-340e-4d22-99fa-6ac8bb5f0f58');\n",
              "          const dataTable =\n",
              "            await google.colab.kernel.invokeFunction('convertToInteractive',\n",
              "                                                     [key], {});\n",
              "          if (!dataTable) return;\n",
              "\n",
              "          const docLinkHtml = 'Like what you see? Visit the ' +\n",
              "            '<a target=\"_blank\" href=https://colab.research.google.com/notebooks/data_table.ipynb>data table notebook</a>'\n",
              "            + ' to learn more about interactive tables.';\n",
              "          element.innerHTML = '';\n",
              "          dataTable['output_type'] = 'display_data';\n",
              "          await google.colab.output.renderOutput(dataTable, element);\n",
              "          const docLink = document.createElement('div');\n",
              "          docLink.innerHTML = docLinkHtml;\n",
              "          element.appendChild(docLink);\n",
              "        }\n",
              "      </script>\n",
              "    </div>\n",
              "  </div>\n",
              "  "
            ],
            "text/plain": [
              "         Id  PostTypeId  ...  CommunityOwnedDate  ContentLicense\n",
              "0  65000001           1  ...                 NaN    CC BY-SA 4.0\n",
              "\n",
              "[1 rows x 23 columns]"
            ]
          },
          "metadata": {},
          "execution_count": 29
        }
      ]
    },
    {
      "cell_type": "code",
      "metadata": {
        "colab": {
          "base_uri": "https://localhost:8080/",
          "height": 961
        },
        "id": "zpiqbsW9us1u",
        "outputId": "7f2cbc5c-8ce9-495a-cb83-533db3e0098d"
      },
      "source": [
        "plt.figure(figsize=(15,15))\n",
        "sns.countplot(data['AnswerCount'])\n",
        "plt.xticks(rotation=90)\n",
        "plt.title('distribution du nombre des réponses')\n",
        "plt.show()"
      ],
      "execution_count": null,
      "outputs": [
        {
          "output_type": "stream",
          "name": "stderr",
          "text": [
            "/usr/local/lib/python3.7/dist-packages/seaborn/_decorators.py:43: FutureWarning: Pass the following variable as a keyword arg: x. From version 0.12, the only valid positional argument will be `data`, and passing other arguments without an explicit keyword will result in an error or misinterpretation.\n",
            "  FutureWarning\n"
          ]
        },
        {
          "output_type": "display_data",
          "data": {
            "image/png": "[encoded data removed]",
            "text/plain": [
              "<Figure size 1080x1080 with 1 Axes>"
            ]
          },
          "metadata": {
            "needs_background": "light"
          }
        }
      ]
    },
    {
      "cell_type": "code",
      "metadata": {
        "colab": {
          "base_uri": "https://localhost:8080/"
        },
        "id": "tC0Hzf41u_L-",
        "outputId": "3da88e86-93e2-4fc7-e769-e9bd7e0d11ce"
      },
      "source": [
        "data=data[data['AnswerCount']>0]\n",
        "data.shape"
      ],
      "execution_count": null,
      "outputs": [
        {
          "output_type": "execute_result",
          "data": {
            "text/plain": [
              "(14191, 23)"
            ]
          },
          "metadata": {},
          "execution_count": 31
        }
      ]
    },
    {
      "cell_type": "code",
      "metadata": {
        "id": "SZYBFMwfvMdn"
      },
      "source": [
        "data=data[['Body','Title','Tags']]"
      ],
      "execution_count": null,
      "outputs": []
    },
    {
      "cell_type": "markdown",
      "metadata": {
        "id": "Punc2tTgwbRv"
      },
      "source": [
        "#Tags"
      ]
    },
    {
      "cell_type": "code",
      "metadata": {
        "id": "3NPSBh1WzREg"
      },
      "source": [
        "data['Tags']=data['Tags'].astype(str)"
      ],
      "execution_count": null,
      "outputs": []
    },
    {
      "cell_type": "code",
      "metadata": {
        "colab": {
          "base_uri": "https://localhost:8080/"
        },
        "id": "DTst_uYFzxvW",
        "outputId": "e29f81ec-4d4a-4649-d7ae-363dab20adbc"
      },
      "source": [
        "data.info()"
      ],
      "execution_count": null,
      "outputs": [
        {
          "output_type": "stream",
          "name": "stdout",
          "text": [
            "<class 'pandas.core.frame.DataFrame'>\n",
            "Int64Index: 14191 entries, 0 to 49991\n",
            "Data columns (total 3 columns):\n",
            " #   Column  Non-Null Count  Dtype \n",
            "---  ------  --------------  ----- \n",
            " 0   Body    14191 non-null  object\n",
            " 1   Title   14191 non-null  object\n",
            " 2   Tags    14191 non-null  object\n",
            "dtypes: object(3)\n",
            "memory usage: 443.5+ KB\n"
          ]
        }
      ]
    },
    {
      "cell_type": "code",
      "metadata": {
        "colab": {
          "base_uri": "https://localhost:8080/"
        },
        "id": "avL_cUurv5yC",
        "outputId": "30522bad-a28f-42a0-cf48-7b06d37fa45c"
      },
      "source": [
        "data['Tags'] = data['Tags'].apply(lambda x: x.split('>'))\n",
        "data['Tags'] = data['Tags'].apply(lambda x: x[:-1])\n",
        "data['Tags'] "
      ],
      "execution_count": null,
      "outputs": [
        {
          "output_type": "execute_result",
          "data": {
            "text/plain": [
              "0                [<java, <error-handling, <actionlistener]\n",
              "2                                            [<typescript]\n",
              "5                                  [<c, <cmock, <ceedling]\n",
              "6                                                   [<git]\n",
              "10             [<json, <reactjs, <django, <image, <nested]\n",
              "                               ...                        \n",
              "49973                               [<c#, <string, <loops]\n",
              "49977    [<python, <matplotlib, <mesh, <triangulation, ...\n",
              "49983                  [<python, <django, <attributeerror]\n",
              "49985                              [<scala, <apache-spark]\n",
              "49991     [<python, <memory-management, <twitter, <pickle]\n",
              "Name: Tags, Length: 14191, dtype: object"
            ]
          },
          "metadata": {},
          "execution_count": 35
        }
      ]
    },
    {
      "cell_type": "code",
      "metadata": {
        "colab": {
          "base_uri": "https://localhost:8080/"
        },
        "id": "tQ6A5HhG6J2O",
        "outputId": "20c22e60-4b3f-492b-d29c-6c1b80188721"
      },
      "source": [
        "all_tags = [item for sublist in data['Tags'].values for item in sublist]\n",
        "len(all_tags)"
      ],
      "execution_count": null,
      "outputs": [
        {
          "output_type": "execute_result",
          "data": {
            "text/plain": [
              "43042"
            ]
          },
          "metadata": {},
          "execution_count": 68
        }
      ]
    },
    {
      "cell_type": "code",
      "metadata": {
        "colab": {
          "base_uri": "https://localhost:8080/"
        },
        "id": "LHOQyMUi7CrQ",
        "outputId": "1ff5acba-9456-498c-cf8d-aa4b36003fd3"
      },
      "source": [
        "my_set = set(all_tags)\n",
        "unique_tags = list(my_set)\n",
        "len(unique_tags)"
      ],
      "execution_count": null,
      "outputs": [
        {
          "output_type": "execute_result",
          "data": {
            "text/plain": [
              "6926"
            ]
          },
          "metadata": {},
          "execution_count": 69
        }
      ]
    },
    {
      "cell_type": "code",
      "metadata": {
        "colab": {
          "base_uri": "https://localhost:8080/"
        },
        "id": "sHDQTvbz8SHw",
        "outputId": "9e694442-5c17-4551-cd88-7a0a14e71b53"
      },
      "source": [
        "flat_list = [item for sublist in data['Tags'].values for item in sublist]\n",
        "\n",
        "keywords = nltk.FreqDist(flat_list)\n",
        "\n",
        "keywords = nltk.FreqDist(keywords)\n",
        "\n",
        "frequencies_words = keywords.most_common(100)\n",
        "tags_features = [word[0] for word in frequencies_words]\n",
        "tags_features"
      ],
      "execution_count": null,
      "outputs": [
        {
          "output_type": "execute_result",
          "data": {
            "text/plain": [
              "['<python',\n",
              " '<javascript',\n",
              " '<java',\n",
              " '<reactjs',\n",
              " '<html',\n",
              " '<r',\n",
              " '<c#',\n",
              " '<android',\n",
              " '<python-3.x',\n",
              " '<pandas',\n",
              " '<node.js',\n",
              " '<sql',\n",
              " '<php',\n",
              " '<css',\n",
              " '<c++',\n",
              " '<flutter',\n",
              " '<arrays',\n",
              " '<c',\n",
              " '<django',\n",
              " '<angular',\n",
              " '<mysql',\n",
              " '<dataframe',\n",
              " '<typescript',\n",
              " '<jquery',\n",
              " '<swift',\n",
              " '<json',\n",
              " '<laravel',\n",
              " '<vue.js',\n",
              " '<ios',\n",
              " '<firebase',\n",
              " '<amazon-web-services',\n",
              " '<react-native',\n",
              " '<dart',\n",
              " '<postgresql',\n",
              " '<kotlin',\n",
              " '<azure',\n",
              " '<excel',\n",
              " '<numpy',\n",
              " '<spring-boot',\n",
              " '<sql-server',\n",
              " '<list',\n",
              " '<mongodb',\n",
              " '<docker',\n",
              " '<tensorflow',\n",
              " '<regex',\n",
              " '<spring',\n",
              " '<api',\n",
              " '<asp.net-core',\n",
              " '<oracle',\n",
              " '<vba',\n",
              " '<linux',\n",
              " '<string',\n",
              " '<swiftui',\n",
              " '<android-studio',\n",
              " '<loops',\n",
              " '<git',\n",
              " '<matplotlib',\n",
              " '<express',\n",
              " '<powershell',\n",
              " '<bash',\n",
              " '<selenium',\n",
              " '<wordpress',\n",
              " '<kubernetes',\n",
              " '<.net',\n",
              " '<ggplot2',\n",
              " '<database',\n",
              " '<algorithm',\n",
              " '<ruby-on-rails',\n",
              " '<function',\n",
              " '<apache-spark',\n",
              " '<keras',\n",
              " '<web-scraping',\n",
              " '<dictionary',\n",
              " '<google-cloud-firestore',\n",
              " '<ruby',\n",
              " '<visual-studio-code',\n",
              " '<machine-learning',\n",
              " '<discord',\n",
              " '<pyspark',\n",
              " '<csv',\n",
              " '<visual-studio',\n",
              " '<ajax',\n",
              " '<for-loop',\n",
              " '<azure-devops',\n",
              " '<xcode',\n",
              " '<google-sheets',\n",
              " '<tkinter',\n",
              " '<macos',\n",
              " '<scala',\n",
              " '<if-statement',\n",
              " '<.net-core',\n",
              " '<react-hooks',\n",
              " '<windows',\n",
              " '<xml',\n",
              " '<elasticsearch',\n",
              " '<dplyr',\n",
              " '<discord.py',\n",
              " '<mongoose',\n",
              " '<bootstrap-4',\n",
              " '<opencv']"
            ]
          },
          "metadata": {},
          "execution_count": 70
        }
      ]
    },
    {
      "cell_type": "code",
      "source": [
        ""
      ],
      "metadata": {
        "id": "rD1rSe03khp4"
      },
      "execution_count": null,
      "outputs": []
    },
    {
      "cell_type": "code",
      "metadata": {
        "colab": {
          "base_uri": "https://localhost:8080/",
          "height": 714
        },
        "id": "vSfngrjK9tlh",
        "outputId": "08b5ab0e-51d3-442d-ebcc-b94e57878ea7"
      },
      "source": [
        "fig, ax = plt.subplots(figsize=(15, 10))\n",
        "keywords.plot(100, cumulative=False)"
      ],
      "execution_count": null,
      "outputs": [
        {
          "output_type": "display_data",
          "data": {
            "image/png": "[encoded data removed]",
            "text/plain": [
              "<Figure size 1080x720 with 1 Axes>"
            ]
          },
          "metadata": {
            "needs_background": "light"
          }
        }
      ]
    },
    {
      "cell_type": "code",
      "metadata": {
        "id": "XGejLYbG-Iir"
      },
      "source": [
        "def most_common(tags):\n",
        "    tags_filtered = []\n",
        "    for i in range(0, len(tags)):\n",
        "        if tags[i] in tags_features:\n",
        "            tags_filtered.append(tags[i])\n",
        "    return tags_filtered"
      ],
      "execution_count": null,
      "outputs": []
    },
    {
      "cell_type": "code",
      "metadata": {
        "id": "mVbwwhN8-_8n"
      },
      "source": [
        "data['Tags'] = data['Tags'].apply(lambda x: most_common(x))\n",
        "data['Tags'] = data['Tags'].apply(lambda x: x if len(x)>0 else None)"
      ],
      "execution_count": null,
      "outputs": []
    },
    {
      "cell_type": "code",
      "metadata": {
        "id": "9rz9qnD3_pWG"
      },
      "source": [
        "data.dropna(subset=['Tags'], inplace=True)"
      ],
      "execution_count": null,
      "outputs": []
    },
    {
      "cell_type": "code",
      "metadata": {
        "colab": {
          "base_uri": "https://localhost:8080/"
        },
        "id": "yqBPFP3D_7Rl",
        "outputId": "781fedf5-efd6-4ba5-f102-991b5af189c0"
      },
      "source": [
        "data.shape"
      ],
      "execution_count": null,
      "outputs": [
        {
          "output_type": "execute_result",
          "data": {
            "text/plain": [
              "(12230, 3)"
            ]
          },
          "metadata": {},
          "execution_count": 75
        }
      ]
    },
    {
      "cell_type": "markdown",
      "metadata": {
        "id": "YxXxoW_I_-v0"
      },
      "source": [
        "#Body\n",
        "Dans les deux colonnes suivantes : Corps et Titre, je vais utiliser beaucoup de traitement de texte :\n",
        "\n",
        "\n",
        "*   Retrait du format html\n",
        "\n",
        "*   Lowering text\n",
        "*   Transformation d'abréviations\n",
        "\n",
        "*   Suppression de la ponctuation (mais maintien de mots comme c# puisque c'est le tag le plus populaire)\n",
        "\n",
        "*   Lemmatisation des mots\n",
        "*    Suppression des stop words\n",
        "\n",
        "\n",
        "\n"
      ]
    },
    {
      "cell_type": "code",
      "metadata": {
        "id": "2GSNxEoaABRI"
      },
      "source": [
        "# Converting html to text in the body\n",
        "\n",
        "data['Body'] = data['Body'].apply(lambda x: BeautifulSoup(x).get_text()) "
      ],
      "execution_count": null,
      "outputs": []
    },
    {
      "cell_type": "code",
      "metadata": {
        "colab": {
          "base_uri": "https://localhost:8080/"
        },
        "id": "D3Nt3GRifyBX",
        "outputId": "dfe915b0-021e-4017-d867-755297b3d402"
      },
      "source": [
        "data.Body.index"
      ],
      "execution_count": null,
      "outputs": [
        {
          "output_type": "execute_result",
          "data": {
            "text/plain": [
              "Int64Index([    0,     2,     5,     6,    10,    11,    14,    16,    24,\n",
              "               29,\n",
              "            ...\n",
              "            49935, 49939, 49946, 49947, 49967, 49973, 49977, 49983, 49985,\n",
              "            49991],\n",
              "           dtype='int64', length=12230)"
            ]
          },
          "metadata": {},
          "execution_count": 77
        }
      ]
    },
    {
      "cell_type": "code",
      "metadata": {
        "colab": {
          "base_uri": "https://localhost:8080/"
        },
        "id": "hdtmayiFf5Bv",
        "outputId": "3f280bc4-3649-422c-f27d-13421bc1140f"
      },
      "source": [
        "data['Body'][5]"
      ],
      "execution_count": null,
      "outputs": [
        {
          "output_type": "execute_result",
          "data": {
            "application/vnd.google.colaboratory.intrinsic+json": {
              "type": "string"
            },
            "text/plain": [
              "'I am trying to mock a header which is included by a source file I am testing.\\nThe header begins with the following:\\n#if defined(ICM42600)\\n#define ICM_WHOAMI ICM42600_WHOAMI\\n#elif defined(ICM42602)\\n#define ICM_WHOAMI ICM42602_WHOAMI\\n#elif defined(ICM42605)\\n#define ICM_WHOAMI ICM42605_WHOAMI\\n#elif defined(ICM42622)\\n#define ICM_WHOAMI ICM42622_WHOAMI\\n#elif defined(ICM42686)\\n#define ICM_WHOAMI ICM42686_WHOAMI\\n#elif defined(ICM42688)\\n#define ICM_WHOAMI ICM42688_WHOAMI\\n#elif defined(ICM42608)\\n#define ICM_WHOAMI ICM42608_WHOAMI\\n#elif defined(IIM42623)\\n#define ICM_WHOAMI IIM42623_WHOAMI\\n#elif defined(IIM42624)\\n#define ICM_WHOAMI IIM42624_WHOAMI\\n#elif defined(IIM42625)\\n#define ICM_WHOAMI IIM42625_WHOAMI\\n#elif defined(ICM40608)\\n#define ICM_WHOAMI ICM40608_WHOAMI\\n#else\\n#error \"Please define which ICM variant is targeted. Possible values: ICM42600, ICM42602, ICM42605, ICM42686, ICM42688, ICM42622, ICM42608, ICM4068\"\\n#endif\\n\\nand I am attempting to mock it like so:\\n#define ICM42600 1\\n#include \"mock_Icm426xxDefs.h\"\\n\\nHowever, I keep getting the following error when trying to run ceedling tests:\\n----------------------------\\nGenerating include list for Icm426xxDefs.h...\\nbuild/temp/_Icm426xxDefs.h:74:2: error: #error \"Please define which ICM variant is targeted. Possible values: ICM42600, ICM42602, ICM42605, ICM42686, ICM42688, ICM42622, ICM42608, ICM4068\"\\n #error \"Please define which ICM variant is targeted. Possible values: ICM42600, ICM42602, ICM42605, ICM42686, ICM42688, ICM42622, ICM42608, ICM4068\"\\n  ^~~~~```\\n\\nI have no idea how to deal with this. I was under the impression that ceedling would automatically mock headers, and there\\'s no error saying what I can do to resolve this.\\n\\n'"
            ]
          },
          "metadata": {},
          "execution_count": 78
        }
      ]
    },
    {
      "cell_type": "code",
      "metadata": {
        "id": "2pMGk_GfgloH"
      },
      "source": [
        "def clean_text(text):\n",
        "      text = text.lower()\n",
        "      text = re.sub(r\"what's\", \"what is \", text)\n",
        "      text = re.sub(r\"\\'s\", \" \", text)\n",
        "      text = re.sub(r\"\\'ve\", \" have \", text)\n",
        "      text = re.sub(r\"can't\", \"can not \", text)\n",
        "      text = re.sub(r\"n't\", \" not \", text)\n",
        "      text = re.sub(r\"i'm\", \"i am \", text)\n",
        "      text = re.sub(r\"\\'re\", \" are \", text)\n",
        "      text = re.sub(r\"\\'d\", \" would \", text)\n",
        "      text = re.sub(r\"\\'ll\", \" will \", text)\n",
        "      text = re.sub(r\"\\'scuse\", \" excuse \", text)\n",
        "      text = re.sub(r\"\\'\\n\", \" \", text)\n",
        "      text = re.sub(r\"\\'\\xa0\", \" \", text)\n",
        "      text = re.sub('\\s+', ' ', text)\n",
        "      text= re.sub('nan',' ',text)\n",
        "      text= re.sub('null',' ',text)\n",
        "      text= re.sub('func',' ',text)\n",
        "      text= re.sub(r'[0-9]', ' ', text) # remove numbers\n",
        "      #text= re.sub(r'(?:^| )\\w(?:$| )', ' ', text)\n",
        "      text = text.strip(' ')\n",
        "      return text"
      ],
      "execution_count": null,
      "outputs": []
    },
    {
      "cell_type": "code",
      "metadata": {
        "id": "mxBnIcWDhpfO"
      },
      "source": [
        "data['Body'] = data['Body'].apply(lambda x: clean_text(x))"
      ],
      "execution_count": null,
      "outputs": []
    },
    {
      "cell_type": "code",
      "metadata": {
        "colab": {
          "base_uri": "https://localhost:8080/"
        },
        "id": "ADkkXYoph6b_",
        "outputId": "1018969f-37cd-4085-e33a-2bc94ef627f2"
      },
      "source": [
        "data['Body'][5]"
      ],
      "execution_count": null,
      "outputs": [
        {
          "output_type": "execute_result",
          "data": {
            "application/vnd.google.colaboratory.intrinsic+json": {
              "type": "string"
            },
            "text/plain": [
              "'i am trying to mock a header which is included by a source file i am testing. the header begins with the following: #if defined(icm     ) #define icm_whoami icm     _whoami #elif defined(icm     ) #define icm_whoami icm     _whoami #elif defined(icm     ) #define icm_whoami icm     _whoami #elif defined(icm     ) #define icm_whoami icm     _whoami #elif defined(icm     ) #define icm_whoami icm     _whoami #elif defined(icm     ) #define icm_whoami icm     _whoami #elif defined(icm     ) #define icm_whoami icm     _whoami #elif defined(iim     ) #define icm_whoami iim     _whoami #elif defined(iim     ) #define icm_whoami iim     _whoami #elif defined(iim     ) #define icm_whoami iim     _whoami #elif defined(icm     ) #define icm_whoami icm     _whoami #else #error \"please define which icm variant is targeted. possible values: icm     , icm     , icm     , icm     , icm     , icm     , icm     , icm    \" #endif and i am attempting to mock it like so: #define icm        #include \"mock_icm   xxdefs.h\" however, i keep getting the following error when trying to run ceedling tests: ---------------------------- generating include list for icm   xxdefs.h... build/temp/_icm   xxdefs.h:  : : error: #error \"please define which icm variant is targeted. possible values: icm     , icm     , icm     , icm     , icm     , icm     , icm     , icm    \" #error \"please define which icm variant is targeted. possible values: icm     , icm     , icm     , icm     , icm     , icm     , icm     , icm    \" ^~~~~``` i have no idea how to deal with this. i was under the impression that ceedling would automatically mock headers, and there no error saying what i can do to resolve this.'"
            ]
          },
          "metadata": {},
          "execution_count": 81
        }
      ]
    },
    {
      "cell_type": "code",
      "metadata": {
        "id": "R4eRBgxECo9J"
      },
      "source": [
        "token=ToktokTokenizer()"
      ],
      "execution_count": null,
      "outputs": []
    },
    {
      "cell_type": "code",
      "metadata": {
        "colab": {
          "base_uri": "https://localhost:8080/"
        },
        "id": "BXT3hCgaC02r",
        "outputId": "0625d5a2-a181-433c-bf00-42d9ed5a6577"
      },
      "source": [
        "punctuation"
      ],
      "execution_count": null,
      "outputs": [
        {
          "output_type": "execute_result",
          "data": {
            "application/vnd.google.colaboratory.intrinsic+json": {
              "type": "string"
            },
            "text/plain": [
              "'!\"#$%&\\'()*+,-./:;<=>?@[\\\\]^_`{|}~'"
            ]
          },
          "metadata": {},
          "execution_count": 83
        }
      ]
    },
    {
      "cell_type": "code",
      "metadata": {
        "id": "QIDUxDS-C6JZ"
      },
      "source": [
        "punct = '!\"#$%&\\'()*+,-./:;<=>?@[\\\\]^_`{|}~'"
      ],
      "execution_count": null,
      "outputs": []
    },
    {
      "cell_type": "code",
      "metadata": {
        "id": "afUhoMZJDFlX"
      },
      "source": [
        "def strip_list_noempty(mylist):\n",
        "    newlist = (item.strip() if hasattr(item, 'strip') else item for item in mylist)\n",
        "    return [item for item in newlist if item != '']"
      ],
      "execution_count": null,
      "outputs": []
    },
    {
      "cell_type": "code",
      "metadata": {
        "id": "jHH4KyUvDQhq"
      },
      "source": [
        "def clean_punct(text): \n",
        "    words=token.tokenize(text)\n",
        "    punctuation_filtered = []\n",
        "    regex = re.compile('[%s]' % re.escape(punct))\n",
        "    remove_punctuation = str.maketrans(' ', ' ', punct)\n",
        "    for w in words:\n",
        "        if w in tags_features:\n",
        "            punctuation_filtered.append(w)\n",
        "        else:\n",
        "            punctuation_filtered.append(regex.sub('', w))\n",
        "  \n",
        "    filtered_list = strip_list_noempty(punctuation_filtered)\n",
        "        \n",
        "    return ' '.join(map(str, filtered_list))"
      ],
      "execution_count": null,
      "outputs": []
    },
    {
      "cell_type": "code",
      "metadata": {
        "id": "K1wRMMNTDYoZ"
      },
      "source": [
        "data['Body'] = data['Body'].apply(lambda x: clean_punct(x)) "
      ],
      "execution_count": null,
      "outputs": []
    },
    {
      "cell_type": "code",
      "metadata": {
        "colab": {
          "base_uri": "https://localhost:8080/"
        },
        "id": "NZREp6LDhYMV",
        "outputId": "4ecc10a7-da28-4ec4-9426-5da86a3021b0"
      },
      "source": [
        "data['Body'][5]"
      ],
      "execution_count": null,
      "outputs": [
        {
          "output_type": "execute_result",
          "data": {
            "application/vnd.google.colaboratory.intrinsic+json": {
              "type": "string"
            },
            "text/plain": [
              "'i am trying to mock a header which is included by a source file i am testing the header begins with the following if defined icm define icmwhoami icm whoami elif defined icm define icmwhoami icm whoami elif defined icm define icmwhoami icm whoami elif defined icm define icmwhoami icm whoami elif defined icm define icmwhoami icm whoami elif defined icm define icmwhoami icm whoami elif defined icm define icmwhoami icm whoami elif defined iim define icmwhoami iim whoami elif defined iim define icmwhoami iim whoami elif defined iim define icmwhoami iim whoami elif defined icm define icmwhoami icm whoami else error please define which icm variant is targeted possible values icm icm icm icm icm icm icm icm endif and i am attempting to mock it like so define icm include mockicm xxdefsh however i keep getting the following error when trying to run ceedling tests generating include list for icm xxdefsh buildtempicm xxdefsh error error please define which icm variant is targeted possible values icm icm icm icm icm icm icm icm error please define which icm variant is targeted possible values icm icm icm icm icm icm icm icm i have no idea how to deal with this i was under the impression that ceedling would automatically mock headers and there no error saying what i can do to resolve this'"
            ]
          },
          "metadata": {},
          "execution_count": 88
        }
      ]
    },
    {
      "cell_type": "code",
      "metadata": {
        "id": "gI5Kup7VpWvm"
      },
      "source": [
        "data['Body'] = data['Body'].apply(lambda x: clean_text(x))"
      ],
      "execution_count": null,
      "outputs": []
    },
    {
      "cell_type": "code",
      "metadata": {
        "id": "B0YkvpsmD3Qd"
      },
      "source": [
        "lemma=WordNetLemmatizer()\n",
        "stop_words = set(stopwords.words(\"english\"))"
      ],
      "execution_count": null,
      "outputs": []
    },
    {
      "cell_type": "code",
      "metadata": {
        "id": "N4H3pBYREdpF"
      },
      "source": [
        "def lemitizeWords(text):\n",
        "    words=token.tokenize(text)\n",
        "    listLemma=[]\n",
        "    for w in words:\n",
        "        x=lemma.lemmatize(w, pos=\"v\")\n",
        "        listLemma.append(x)\n",
        "    return ' '.join(map(str, listLemma))\n",
        "\n",
        "def stopWordsRemove(text):\n",
        "    \n",
        "    stop_words = set(stopwords.words(\"english\"))\n",
        "    \n",
        "    words=token.tokenize(text)\n",
        "    \n",
        "    filtered = [w for w in words if not w in stop_words]\n",
        "    \n",
        "    return ' '.join(map(str, filtered))"
      ],
      "execution_count": null,
      "outputs": []
    },
    {
      "cell_type": "code",
      "metadata": {
        "id": "vjIjrJbDEp0l"
      },
      "source": [
        "data['Body'] = data['Body'].apply(lambda x: lemitizeWords(x)) \n",
        "data['Body'] = data['Body'].apply(lambda x: stopWordsRemove(x)) "
      ],
      "execution_count": null,
      "outputs": []
    },
    {
      "cell_type": "markdown",
      "metadata": {
        "id": "YHthCs_CFPzP"
      },
      "source": [
        "#Title"
      ]
    },
    {
      "cell_type": "code",
      "metadata": {
        "id": "w570WyIvFIvh"
      },
      "source": [
        "data['Title'] = data['Title'].apply(lambda x: str(x))\n",
        "data['Title'] = data['Title'].apply(lambda x: clean_text(x)) \n",
        "data['Title'] = data['Title'].apply(lambda x: clean_punct(x)) \n",
        "data['Title'] = data['Title'].apply(lambda x: lemitizeWords(x)) \n",
        "data['Title'] = data['Title'].apply(lambda x: stopWordsRemove(x)) "
      ],
      "execution_count": null,
      "outputs": []
    },
    {
      "cell_type": "markdown",
      "metadata": {
        "id": "G-EewGAIGHMH"
      },
      "source": [
        "# EDA"
      ]
    },
    {
      "cell_type": "code",
      "metadata": {
        "id": "YA6jTHsoehEE"
      },
      "source": [
        "no_topics = 20\n",
        "text = data['Body']\n",
        "no_top_words = 20"
      ],
      "execution_count": null,
      "outputs": []
    },
    {
      "cell_type": "markdown",
      "metadata": {
        "id": "kUxr57wTaYpV"
      },
      "source": [
        "##LDA"
      ]
    },
    {
      "cell_type": "code",
      "metadata": {
        "id": "Puwmq7HSZzOF"
      },
      "source": [
        "vectorizer_count_train=CountVectorizer(analyzer='word',\n",
        "                                 min_df=0.05,\n",
        "                                       max_df = 0.95,\n",
        "                                       strip_accents = None,\n",
        "                                       encoding = 'utf-8', \n",
        "                                       preprocessor=None,\n",
        "                                       token_pattern=r\"(?u)\\S\\S+\", # Need to repeat token pattern\n",
        "                                       max_features=5000)"
      ],
      "execution_count": null,
      "outputs": []
    },
    {
      "cell_type": "code",
      "metadata": {
        "id": "24xbcu-3ZBAr"
      },
      "source": [
        "TF_vct_matrix = vectorizer_count_train.fit_transform(text)"
      ],
      "execution_count": null,
      "outputs": []
    },
    {
      "cell_type": "code",
      "metadata": {
        "id": "XvnPGI2MbZEc"
      },
      "source": [
        "#Optimiser lda par N° topics\n",
        "topic=[]\n",
        "\n",
        "for no_topics in range(10,30):\n",
        "  lda_vct = LatentDirichletAllocation(n_components=no_topics, max_iter=5, learning_method='online', learning_offset=50\n",
        "                                    ,random_state=11).fit(TF_vct_matrix)\n",
        "  topic.append([no_topics,lda_vct.perplexity(TF_vct_matrix),lda_vct.score(TF_vct_matrix)])                                     "
      ],
      "execution_count": null,
      "outputs": []
    },
    {
      "cell_type": "code",
      "source": [
        "topic_opt = pd.DataFrame(topic, columns=[\"N° topic\", \"perplexity\",\"likelihood\"])\n",
        "\n",
        "# plot LDA Scores\n",
        "plt.subplot(211)\n",
        "sns.lineplot(data=topic_opt, x=\"N° topic\", y=\"perplexity\")\n",
        "plt.ylabel(\"perplexity\")\n",
        "plt.title(\"Variation LDA scores par N° topics\",\n",
        "          fontsize=18,\n",
        "          color=\"b\")\n",
        "plt.subplot(212)\n",
        "sns.lineplot(data=topic_opt, x=\"N° topic\", y=\"likelihood\")\n",
        "plt.xlabel(\"Topics\")\n",
        "plt.ylabel(\"Likelihoode\")\n",
        "\n",
        "plt.show()"
      ],
      "metadata": {
        "id": "Ub3OrzPZknY6",
        "colab": {
          "base_uri": "https://localhost:8080/",
          "height": 298
        },
        "outputId": "b491a206-295a-463a-8cca-d3034719a622"
      },
      "execution_count": null,
      "outputs": [
        {
          "output_type": "display_data",
          "data": {
            "image/png": "[encoded data removed]",
            "text/plain": [
              "<Figure size 432x288 with 2 Axes>"
            ]
          },
          "metadata": {
            "needs_background": "light"
          }
        }
      ]
    },
    {
      "cell_type": "code",
      "source": [
        "lda_vct = LatentDirichletAllocation(n_components=11, max_iter=5, learning_method='online', learning_offset=50\n",
        "                                    ,random_state=11).fit(TF_vct_matrix)"
      ],
      "metadata": {
        "id": "_3R1TMor6Dt9"
      },
      "execution_count": null,
      "outputs": []
    },
    {
      "cell_type": "code",
      "metadata": {
        "id": "A1xQ4wnFblTr",
        "colab": {
          "base_uri": "https://localhost:8080/"
        },
        "outputId": "6dc2bb35-5053-42a3-cc71-5fc886668e63"
      },
      "source": [
        "def display_topics(model, feature_names, no_top_words):\n",
        "    for topic_idx, topic in enumerate(model.components_):\n",
        "        print(\"--------------------------------------------\")\n",
        "        print(\"Topic %d:\" % (topic_idx))\n",
        "        print(\" \".join([feature_names[i]\n",
        "                        for i in topic.argsort()[:-no_top_words - 1:-1]]))\n",
        "        print(\"--------------------------------------------\")\n",
        "\n",
        "display_topics(lda_vct, vectorizer_count_train.get_feature_names(), no_top_words)"
      ],
      "execution_count": null,
      "outputs": [
        {
          "output_type": "stream",
          "name": "stdout",
          "text": [
            "--------------------------------------------\n",
            "Topic 0:\n",
            "int amp return include void main number else case size array code input output check tion variable table result write\n",
            "--------------------------------------------\n",
            "--------------------------------------------\n",
            "Topic 1:\n",
            "id var select tion query table name get result try order use new like create update add return object database\n",
            "--------------------------------------------\n",
            "--------------------------------------------\n",
            "Topic 2:\n",
            "string public new true class false private return test use void get set method try work object code call create\n",
            "--------------------------------------------\n",
            "--------------------------------------------\n",
            "Topic 3:\n",
            "row column script table would link like want result output code help thank follow one run create look appreciate python\n",
            "--------------------------------------------\n",
            "--------------------------------------------\n",
            "Topic 4:\n",
            "data user def database model create update api return get store use would try call want need pass show else\n",
            "--------------------------------------------\n",
            "--------------------------------------------\n",
            "Topic 5:\n",
            "import const return tion let image consolelog error export code print default try require else true get result false call\n",
            "--------------------------------------------\n",
            "--------------------------------------------\n",
            "Topic 6:\n",
            "file error line run use try version get code build command open path project find python work fail create follow\n",
            "--------------------------------------------\n",
            "--------------------------------------------\n",
            "Topic 7:\n",
            "value name type key date input array field string object form return get would want number result create try output\n",
            "--------------------------------------------\n",
            "--------------------------------------------\n",
            "Topic 8:\n",
            "class div button text color style width click id html display none view body form title type script input content\n",
            "--------------------------------------------\n",
            "--------------------------------------------\n",
            "Topic 9:\n",
            "app request post message url page server send response view get content use title body name require work log method\n",
            "--------------------------------------------\n",
            "--------------------------------------------\n",
            "Topic 10:\n",
            "use like list would try want code work time one print get way end first need make example tion know\n",
            "--------------------------------------------\n"
          ]
        },
        {
          "output_type": "stream",
          "name": "stderr",
          "text": [
            "/usr/local/lib/python3.7/dist-packages/sklearn/utils/deprecation.py:87: FutureWarning: Function get_feature_names is deprecated; get_feature_names is deprecated in 1.0 and will be removed in 1.2. Please use get_feature_names_out instead.\n",
            "  warnings.warn(msg, category=FutureWarning)\n"
          ]
        }
      ]
    },
    {
      "cell_type": "markdown",
      "metadata": {
        "id": "O0qDw7ioe74b"
      },
      "source": [
        "##NMF"
      ]
    },
    {
      "cell_type": "code",
      "metadata": {
        "id": "fuFahbDJhOyc",
        "colab": {
          "base_uri": "https://localhost:8080/"
        },
        "outputId": "64db2fb0-ca9f-4f68-ea28-d2951c622aa5"
      },
      "source": [
        "#NMF by vect_count \n",
        "NMF_vct = NMF(n_components=11, max_iter=5,random_state=11).fit(TF_vct_matrix)"
      ],
      "execution_count": null,
      "outputs": [
        {
          "output_type": "stream",
          "name": "stderr",
          "text": [
            "/usr/local/lib/python3.7/dist-packages/sklearn/decomposition/_nmf.py:294: FutureWarning: The 'init' value, when 'init=None' and n_components is less than n_samples and n_features, will be changed from 'nndsvd' to 'nndsvda' in 1.1 (renaming of 0.26).\n",
            "  FutureWarning,\n",
            "/usr/local/lib/python3.7/dist-packages/sklearn/decomposition/_nmf.py:1641: ConvergenceWarning: Maximum number of iterations 5 reached. Increase it to improve convergence.\n",
            "  ConvergenceWarning,\n"
          ]
        }
      ]
    },
    {
      "cell_type": "code",
      "metadata": {
        "id": "ZdEU4HfDgboE",
        "colab": {
          "base_uri": "https://localhost:8080/"
        },
        "outputId": "17f29f12-56f5-4c53-8a0c-6609cf931cca"
      },
      "source": [
        "display_topics(NMF_vct, vectorizer_count_train.get_feature_names(), no_top_words)"
      ],
      "execution_count": null,
      "outputs": [
        {
          "output_type": "stream",
          "name": "stdout",
          "text": [
            "--------------------------------------------\n",
            "Topic 0:\n",
            "div class button style id type script input display html width title content form model color click page link field\n",
            "--------------------------------------------\n",
            "--------------------------------------------\n",
            "Topic 1:\n",
            "use data error get tion try code return like work would create table run user want find add set make\n",
            "--------------------------------------------\n",
            "--------------------------------------------\n",
            "Topic 2:\n",
            "file line import error open run python code app last print try call fail return command path create output build\n",
            "--------------------------------------------\n",
            "--------------------------------------------\n",
            "Topic 3:\n",
            "public string new private class void return get set import user view use id object method model try open int\n",
            "--------------------------------------------\n",
            "--------------------------------------------\n",
            "Topic 4:\n",
            "name id type input app text form would select user array create object path field version add string try file\n",
            "--------------------------------------------\n",
            "--------------------------------------------\n",
            "Topic 5:\n",
            "value key none type input select string list index variable would data want amp result array set form number get\n",
            "--------------------------------------------\n",
            "--------------------------------------------\n",
            "Topic 6:\n",
            "const import return require export consolelog user tion default div false type app view button else path let result index\n",
            "--------------------------------------------\n",
            "--------------------------------------------\n",
            "Topic 7:\n",
            "int return void array include column number size index else main amp code list key case first output right new\n",
            "--------------------------------------------\n",
            "--------------------------------------------\n",
            "Topic 8:\n",
            "true false error able def return else string start amp format type field fail color button index new class end\n",
            "--------------------------------------------\n",
            "--------------------------------------------\n",
            "Topic 9:\n",
            "var id tion let new else script return data button none consolelog case text html width body click display try\n",
            "--------------------------------------------\n",
            "--------------------------------------------\n",
            "Topic 10:\n",
            "row column text import color style def width date print data would table select right size time id view index\n",
            "--------------------------------------------\n"
          ]
        },
        {
          "output_type": "stream",
          "name": "stderr",
          "text": [
            "/usr/local/lib/python3.7/dist-packages/sklearn/utils/deprecation.py:87: FutureWarning: Function get_feature_names is deprecated; get_feature_names is deprecated in 1.0 and will be removed in 1.2. Please use get_feature_names_out instead.\n",
            "  warnings.warn(msg, category=FutureWarning)\n"
          ]
        }
      ]
    },
    {
      "cell_type": "markdown",
      "metadata": {
        "id": "aMlJhtYEcHXt"
      },
      "source": [
        "#Création du fichier"
      ]
    },
    {
      "cell_type": "code",
      "metadata": {
        "id": "rlT0hvNOTicx"
      },
      "source": [
        "import csv\n",
        "data.to_csv('/content/drive/MyDrive/Questions_Tags_Exploration.csv',sep=',',encoding='utf-8')"
      ],
      "execution_count": null,
      "outputs": []
    }
  ]
}