{
  "nbformat": 4,
  "nbformat_minor": 0,
  "metadata": {
    "colab": {
      "name": "Questions_tags_exploratoire.ipynb",
      "provenance": [],
      "toc_visible": true,
      "mount_file_id": "13NG9o3DRHZCK7dRpMXo1htOVhf5DjJUV",
      "authorship_tag": "ABX9TyMU52SQQyIcgK+Va7yypMEU",
      "include_colab_link": true
    },
    "kernelspec": {
      "display_name": "Python 3",
      "name": "python3"
    },
    "language_info": {
      "name": "python"
    }
  },
  "cells": [
    {
      "cell_type": "markdown",
      "metadata": {
        "id": "view-in-github",
        "colab_type": "text"
      },
      "source": [
        "<a href=\"https://colab.research.google.com/github/Farouk96/Predict_tags_question/blob/main/Questions_tags_exploratoire.ipynb\" target=\"_parent\"><img src=\"https://colab.research.google.com/assets/colab-badge.svg\" alt=\"Open In Colab\"/></a>"
      ]
    },
    {
      "cell_type": "code",
      "metadata": {
        "colab": {
          "base_uri": "https://localhost:8080/"
        },
        "id": "tYyH2s1eP-il",
        "outputId": "ca189408-b0ca-4c86-d933-77da0f7085b8"
      },
      "source": [
        "import pandas as pd\n",
        "import numpy as np\n",
        "\n",
        "\n",
        "import matplotlib.pyplot as plt\n",
        "import matplotlib.lines as mlines\n",
        "import seaborn as sns\n",
        "from matplotlib import pyplot\n",
        "\n",
        "import time\n",
        "\n",
        "import re\n",
        "from bs4 import BeautifulSoup\n",
        "import nltk\n",
        "nltk.download('stopwords')\n",
        "nltk.download('wordnet')\n",
        "nltk.download('punkt')\n",
        "from nltk.tokenize import ToktokTokenizer\n",
        "from nltk.tokenize import word_tokenize\n",
        "from nltk.stem.wordnet import WordNetLemmatizer\n",
        "from nltk.corpus import stopwords\n",
        "from string import punctuation\n",
        "\n",
        "from sklearn.feature_extraction.text import TfidfVectorizer,CountVectorizer\n",
        "from sklearn.decomposition import LatentDirichletAllocation,NMF,PCA"
      ],
      "execution_count": null,
      "outputs": [
        {
          "output_type": "stream",
          "name": "stdout",
          "text": [
            "[nltk_data] Downloading package stopwords to /root/nltk_data...\n",
            "[nltk_data]   Package stopwords is already up-to-date!\n",
            "[nltk_data] Downloading package wordnet to /root/nltk_data...\n",
            "[nltk_data]   Package wordnet is already up-to-date!\n",
            "[nltk_data] Downloading package punkt to /root/nltk_data...\n",
            "[nltk_data]   Package punkt is already up-to-date!\n"
          ]
        }
      ]
    },
    {
      "cell_type": "code",
      "metadata": {
        "id": "peT3Gq3q9UKY"
      },
      "source": [
        "import pandas as pd\n",
        "data=pd.read_csv('/content/drive/MyDrive/QueryResults.csv', sep=',')"
      ],
      "execution_count": null,
      "outputs": []
    },
    {
      "cell_type": "code",
      "metadata": {
        "colab": {
          "base_uri": "https://localhost:8080/",
          "height": 556
        },
        "id": "SPZ07svhmyqw",
        "outputId": "33a0cf27-a538-4f43-ce94-fcaa0815cf0d"
      },
      "source": [
        "data.head(5)"
      ],
      "execution_count": null,
      "outputs": [
        {
          "output_type": "execute_result",
          "data": {
            "text/html": [
              "<div>\n",
              "<style scoped>\n",
              "    .dataframe tbody tr th:only-of-type {\n",
              "        vertical-align: middle;\n",
              "    }\n",
              "\n",
              "    .dataframe tbody tr th {\n",
              "        vertical-align: top;\n",
              "    }\n",
              "\n",
              "    .dataframe thead th {\n",
              "        text-align: right;\n",
              "    }\n",
              "</style>\n",
              "<table border=\"1\" class=\"dataframe\">\n",
              "  <thead>\n",
              "    <tr style=\"text-align: right;\">\n",
              "      <th></th>\n",
              "      <th>Id</th>\n",
              "      <th>PostTypeId</th>\n",
              "      <th>AcceptedAnswerId</th>\n",
              "      <th>ParentId</th>\n",
              "      <th>CreationDate</th>\n",
              "      <th>DeletionDate</th>\n",
              "      <th>Score</th>\n",
              "      <th>ViewCount</th>\n",
              "      <th>Body</th>\n",
              "      <th>OwnerUserId</th>\n",
              "      <th>OwnerDisplayName</th>\n",
              "      <th>LastEditorUserId</th>\n",
              "      <th>LastEditorDisplayName</th>\n",
              "      <th>LastEditDate</th>\n",
              "      <th>LastActivityDate</th>\n",
              "      <th>Title</th>\n",
              "      <th>Tags</th>\n",
              "      <th>AnswerCount</th>\n",
              "      <th>CommentCount</th>\n",
              "      <th>FavoriteCount</th>\n",
              "      <th>ClosedDate</th>\n",
              "      <th>CommunityOwnedDate</th>\n",
              "      <th>ContentLicense</th>\n",
              "    </tr>\n",
              "  </thead>\n",
              "  <tbody>\n",
              "    <tr>\n",
              "      <th>0</th>\n",
              "      <td>65000001</td>\n",
              "      <td>1</td>\n",
              "      <td>NaN</td>\n",
              "      <td>NaN</td>\n",
              "      <td>2020-11-25 07:14:44</td>\n",
              "      <td>NaN</td>\n",
              "      <td>0</td>\n",
              "      <td>718.0</td>\n",
              "      <td>&lt;pre&gt;&lt;code&gt;import javax.swing.*;\\n\\nimport jav...</td>\n",
              "      <td>14404483.0</td>\n",
              "      <td>NaN</td>\n",
              "      <td>466862.0</td>\n",
              "      <td>NaN</td>\n",
              "      <td>2021-02-14 11:19:29</td>\n",
              "      <td>2021-02-14 11:19:29</td>\n",
              "      <td>how to fix the cannot find symbol in actionPer...</td>\n",
              "      <td>&lt;java&gt;&lt;error-handling&gt;&lt;actionlistener&gt;</td>\n",
              "      <td>1.0</td>\n",
              "      <td>3</td>\n",
              "      <td>NaN</td>\n",
              "      <td>2021-02-14 11:19:33</td>\n",
              "      <td>NaN</td>\n",
              "      <td>CC BY-SA 4.0</td>\n",
              "    </tr>\n",
              "    <tr>\n",
              "      <th>1</th>\n",
              "      <td>65000002</td>\n",
              "      <td>2</td>\n",
              "      <td>NaN</td>\n",
              "      <td>64993028.0</td>\n",
              "      <td>2020-11-25 07:14:45</td>\n",
              "      <td>NaN</td>\n",
              "      <td>0</td>\n",
              "      <td>NaN</td>\n",
              "      <td>&lt;p&gt;you can try this code, you might need to se...</td>\n",
              "      <td>3021161.0</td>\n",
              "      <td>NaN</td>\n",
              "      <td>NaN</td>\n",
              "      <td>NaN</td>\n",
              "      <td>NaN</td>\n",
              "      <td>2020-11-25 07:14:45</td>\n",
              "      <td>NaN</td>\n",
              "      <td>NaN</td>\n",
              "      <td>NaN</td>\n",
              "      <td>1</td>\n",
              "      <td>NaN</td>\n",
              "      <td>NaN</td>\n",
              "      <td>NaN</td>\n",
              "      <td>CC BY-SA 4.0</td>\n",
              "    </tr>\n",
              "    <tr>\n",
              "      <th>2</th>\n",
              "      <td>65000003</td>\n",
              "      <td>1</td>\n",
              "      <td>65002545.0</td>\n",
              "      <td>NaN</td>\n",
              "      <td>2020-11-25 07:14:47</td>\n",
              "      <td>NaN</td>\n",
              "      <td>0</td>\n",
              "      <td>56.0</td>\n",
              "      <td>&lt;p&gt;Please the take this example:&lt;/p&gt;\\n&lt;pre cla...</td>\n",
              "      <td>3370568.0</td>\n",
              "      <td>NaN</td>\n",
              "      <td>3370568.0</td>\n",
              "      <td>NaN</td>\n",
              "      <td>2020-11-25 07:22:10</td>\n",
              "      <td>2020-11-25 10:11:52</td>\n",
              "      <td>Why types inside the .forEach callback functio...</td>\n",
              "      <td>&lt;typescript&gt;</td>\n",
              "      <td>1.0</td>\n",
              "      <td>5</td>\n",
              "      <td>NaN</td>\n",
              "      <td>NaN</td>\n",
              "      <td>NaN</td>\n",
              "      <td>CC BY-SA 4.0</td>\n",
              "    </tr>\n",
              "    <tr>\n",
              "      <th>3</th>\n",
              "      <td>65000004</td>\n",
              "      <td>1</td>\n",
              "      <td>NaN</td>\n",
              "      <td>NaN</td>\n",
              "      <td>2020-11-25 07:14:49</td>\n",
              "      <td>NaN</td>\n",
              "      <td>1</td>\n",
              "      <td>65.0</td>\n",
              "      <td>&lt;p&gt;Is there a way to include a value from the ...</td>\n",
              "      <td>370039.0</td>\n",
              "      <td>NaN</td>\n",
              "      <td>NaN</td>\n",
              "      <td>NaN</td>\n",
              "      <td>NaN</td>\n",
              "      <td>2020-11-25 07:14:49</td>\n",
              "      <td>Getting username from flask session into gunic...</td>\n",
              "      <td>&lt;python&gt;&lt;flask&gt;&lt;gunicorn&gt;</td>\n",
              "      <td>0.0</td>\n",
              "      <td>0</td>\n",
              "      <td>NaN</td>\n",
              "      <td>NaN</td>\n",
              "      <td>NaN</td>\n",
              "      <td>CC BY-SA 4.0</td>\n",
              "    </tr>\n",
              "    <tr>\n",
              "      <th>4</th>\n",
              "      <td>65000007</td>\n",
              "      <td>1</td>\n",
              "      <td>NaN</td>\n",
              "      <td>NaN</td>\n",
              "      <td>2020-11-25 07:14:58</td>\n",
              "      <td>NaN</td>\n",
              "      <td>0</td>\n",
              "      <td>25.0</td>\n",
              "      <td>&lt;p&gt;I am trying to make a connection from &lt;stro...</td>\n",
              "      <td>8412603.0</td>\n",
              "      <td>NaN</td>\n",
              "      <td>NaN</td>\n",
              "      <td>NaN</td>\n",
              "      <td>NaN</td>\n",
              "      <td>2020-11-25 07:14:58</td>\n",
              "      <td>Make Connection Using Sybase in Laravel 5.2</td>\n",
              "      <td>&lt;php&gt;&lt;laravel&gt;</td>\n",
              "      <td>0.0</td>\n",
              "      <td>1</td>\n",
              "      <td>NaN</td>\n",
              "      <td>NaN</td>\n",
              "      <td>NaN</td>\n",
              "      <td>CC BY-SA 4.0</td>\n",
              "    </tr>\n",
              "  </tbody>\n",
              "</table>\n",
              "</div>"
            ],
            "text/plain": [
              "         Id  PostTypeId  ...  CommunityOwnedDate  ContentLicense\n",
              "0  65000001           1  ...                 NaN    CC BY-SA 4.0\n",
              "1  65000002           2  ...                 NaN    CC BY-SA 4.0\n",
              "2  65000003           1  ...                 NaN    CC BY-SA 4.0\n",
              "3  65000004           1  ...                 NaN    CC BY-SA 4.0\n",
              "4  65000007           1  ...                 NaN    CC BY-SA 4.0\n",
              "\n",
              "[5 rows x 23 columns]"
            ]
          },
          "metadata": {},
          "execution_count": 48
        }
      ]
    },
    {
      "cell_type": "code",
      "metadata": {
        "colab": {
          "base_uri": "https://localhost:8080/"
        },
        "id": "c658e2Cqnufc",
        "outputId": "3918acdb-22f7-4017-8071-0f4bb5ba4fe6"
      },
      "source": [
        "data.shape"
      ],
      "execution_count": null,
      "outputs": [
        {
          "output_type": "execute_result",
          "data": {
            "text/plain": [
              "(50000, 23)"
            ]
          },
          "metadata": {},
          "execution_count": 49
        }
      ]
    },
    {
      "cell_type": "code",
      "metadata": {
        "colab": {
          "base_uri": "https://localhost:8080/"
        },
        "id": "DJFJ_-PjnBW8",
        "outputId": "802d3a08-9c99-4616-c28d-20b7f4fc4a73"
      },
      "source": [
        "data.isnull().sum()"
      ],
      "execution_count": null,
      "outputs": [
        {
          "output_type": "execute_result",
          "data": {
            "text/plain": [
              "Id                           0\n",
              "PostTypeId                   0\n",
              "AcceptedAnswerId         41249\n",
              "ParentId                 23864\n",
              "CreationDate                 0\n",
              "DeletionDate             50000\n",
              "Score                        0\n",
              "ViewCount                26174\n",
              "Body                        19\n",
              "OwnerUserId                522\n",
              "OwnerDisplayName         49470\n",
              "LastEditorUserId         31928\n",
              "LastEditorDisplayName    49862\n",
              "LastEditDate             31792\n",
              "LastActivityDate             0\n",
              "Title                    26174\n",
              "Tags                     26174\n",
              "AnswerCount              26174\n",
              "CommentCount                 0\n",
              "FavoriteCount            47979\n",
              "ClosedDate               48629\n",
              "CommunityOwnedDate       49963\n",
              "ContentLicense               0\n",
              "dtype: int64"
            ]
          },
          "metadata": {},
          "execution_count": 50
        }
      ]
    },
    {
      "cell_type": "code",
      "metadata": {
        "colab": {
          "base_uri": "https://localhost:8080/"
        },
        "id": "o4U4UsDRnol5",
        "outputId": "094a03b5-c617-404d-a19d-e486bf3512ad"
      },
      "source": [
        "#Eliminer toutes les lignes ne contient pas des tags\n",
        "data.drop(data[data['Tags'].isnull()].index,axis=0,inplace=True)\n",
        "data.isnull().sum()"
      ],
      "execution_count": null,
      "outputs": [
        {
          "output_type": "execute_result",
          "data": {
            "text/plain": [
              "Id                           0\n",
              "PostTypeId                   0\n",
              "AcceptedAnswerId         15075\n",
              "ParentId                 23826\n",
              "CreationDate                 0\n",
              "DeletionDate             23826\n",
              "Score                        0\n",
              "ViewCount                    0\n",
              "Body                         0\n",
              "OwnerUserId                364\n",
              "OwnerDisplayName         23457\n",
              "LastEditorUserId         13073\n",
              "LastEditorDisplayName    23727\n",
              "LastEditDate             12976\n",
              "LastActivityDate             0\n",
              "Title                        0\n",
              "Tags                         0\n",
              "AnswerCount                  0\n",
              "CommentCount                 0\n",
              "FavoriteCount            21805\n",
              "ClosedDate               22455\n",
              "CommunityOwnedDate       23826\n",
              "ContentLicense               0\n",
              "dtype: int64"
            ]
          },
          "metadata": {},
          "execution_count": 51
        }
      ]
    },
    {
      "cell_type": "code",
      "metadata": {
        "id": "iSVE8SmIr4SF"
      },
      "source": [
        "import seaborn as sns\n",
        "import matplotlib.pyplot as plt"
      ],
      "execution_count": null,
      "outputs": []
    },
    {
      "cell_type": "code",
      "metadata": {
        "colab": {
          "base_uri": "https://localhost:8080/",
          "height": 942
        },
        "id": "6nY3lHRBsj3K",
        "outputId": "9273e451-0986-4a6b-c32f-1f01dfeec361"
      },
      "source": [
        "plt.figure(figsize=(15,15))\n",
        "sns.countplot(data['Score'])\n",
        "plt.xticks(rotation=90)\n",
        "plt.show()"
      ],
      "execution_count": null,
      "outputs": [
        {
          "output_type": "stream",
          "name": "stderr",
          "text": [
            "/usr/local/lib/python3.7/dist-packages/seaborn/_decorators.py:43: FutureWarning: Pass the following variable as a keyword arg: x. From version 0.12, the only valid positional argument will be `data`, and passing other arguments without an explicit keyword will result in an error or misinterpretation.\n",
            "  FutureWarning\n"
          ]
        },
        {
          "output_type": "display_data",
          "data": {
            "image/png": "[encoded data removed]",
            "text/plain": [
              "<Figure size 1080x1080 with 1 Axes>"
            ]
          },
          "metadata": {
            "needs_background": "light"
          }
        }
      ]
    },
    {
      "cell_type": "code",
      "metadata": {
        "id": "ocW57bGUtuyu"
      },
      "source": [
        "data=data[data['Score']>=0]"
      ],
      "execution_count": null,
      "outputs": []
    },
    {
      "cell_type": "code",
      "metadata": {
        "colab": {
          "base_uri": "https://localhost:8080/"
        },
        "id": "tnOmBLPCufNP",
        "outputId": "c937901a-f1b7-46cd-c7bd-5db0d604e9a9"
      },
      "source": [
        "data.shape"
      ],
      "execution_count": null,
      "outputs": [
        {
          "output_type": "execute_result",
          "data": {
            "text/plain": [
              "(22205, 23)"
            ]
          },
          "metadata": {},
          "execution_count": 55
        }
      ]
    },
    {
      "cell_type": "code",
      "metadata": {
        "colab": {
          "base_uri": "https://localhost:8080/",
          "height": 170
        },
        "id": "LNKZ3CXmt707",
        "outputId": "d2549a98-827d-422e-e06a-e47bf9987a47"
      },
      "source": [
        "data.head(1)"
      ],
      "execution_count": null,
      "outputs": [
        {
          "output_type": "execute_result",
          "data": {
            "text/html": [
              "<div>\n",
              "<style scoped>\n",
              "    .dataframe tbody tr th:only-of-type {\n",
              "        vertical-align: middle;\n",
              "    }\n",
              "\n",
              "    .dataframe tbody tr th {\n",
              "        vertical-align: top;\n",
              "    }\n",
              "\n",
              "    .dataframe thead th {\n",
              "        text-align: right;\n",
              "    }\n",
              "</style>\n",
              "<table border=\"1\" class=\"dataframe\">\n",
              "  <thead>\n",
              "    <tr style=\"text-align: right;\">\n",
              "      <th></th>\n",
              "      <th>Id</th>\n",
              "      <th>PostTypeId</th>\n",
              "      <th>AcceptedAnswerId</th>\n",
              "      <th>ParentId</th>\n",
              "      <th>CreationDate</th>\n",
              "      <th>DeletionDate</th>\n",
              "      <th>Score</th>\n",
              "      <th>ViewCount</th>\n",
              "      <th>Body</th>\n",
              "      <th>OwnerUserId</th>\n",
              "      <th>OwnerDisplayName</th>\n",
              "      <th>LastEditorUserId</th>\n",
              "      <th>LastEditorDisplayName</th>\n",
              "      <th>LastEditDate</th>\n",
              "      <th>LastActivityDate</th>\n",
              "      <th>Title</th>\n",
              "      <th>Tags</th>\n",
              "      <th>AnswerCount</th>\n",
              "      <th>CommentCount</th>\n",
              "      <th>FavoriteCount</th>\n",
              "      <th>ClosedDate</th>\n",
              "      <th>CommunityOwnedDate</th>\n",
              "      <th>ContentLicense</th>\n",
              "    </tr>\n",
              "  </thead>\n",
              "  <tbody>\n",
              "    <tr>\n",
              "      <th>0</th>\n",
              "      <td>65000001</td>\n",
              "      <td>1</td>\n",
              "      <td>NaN</td>\n",
              "      <td>NaN</td>\n",
              "      <td>2020-11-25 07:14:44</td>\n",
              "      <td>NaN</td>\n",
              "      <td>0</td>\n",
              "      <td>718.0</td>\n",
              "      <td>&lt;pre&gt;&lt;code&gt;import javax.swing.*;\\n\\nimport jav...</td>\n",
              "      <td>14404483.0</td>\n",
              "      <td>NaN</td>\n",
              "      <td>466862.0</td>\n",
              "      <td>NaN</td>\n",
              "      <td>2021-02-14 11:19:29</td>\n",
              "      <td>2021-02-14 11:19:29</td>\n",
              "      <td>how to fix the cannot find symbol in actionPer...</td>\n",
              "      <td>&lt;java&gt;&lt;error-handling&gt;&lt;actionlistener&gt;</td>\n",
              "      <td>1.0</td>\n",
              "      <td>3</td>\n",
              "      <td>NaN</td>\n",
              "      <td>2021-02-14 11:19:33</td>\n",
              "      <td>NaN</td>\n",
              "      <td>CC BY-SA 4.0</td>\n",
              "    </tr>\n",
              "  </tbody>\n",
              "</table>\n",
              "</div>"
            ],
            "text/plain": [
              "         Id  PostTypeId  ...  CommunityOwnedDate  ContentLicense\n",
              "0  65000001           1  ...                 NaN    CC BY-SA 4.0\n",
              "\n",
              "[1 rows x 23 columns]"
            ]
          },
          "metadata": {},
          "execution_count": 56
        }
      ]
    },
    {
      "cell_type": "code",
      "metadata": {
        "colab": {
          "base_uri": "https://localhost:8080/",
          "height": 945
        },
        "id": "zpiqbsW9us1u",
        "outputId": "dc2a01e1-1e12-44f8-8ad3-83120bfcfeab"
      },
      "source": [
        "plt.figure(figsize=(15,15))\n",
        "sns.countplot(data['AnswerCount'])\n",
        "plt.xticks(rotation=90)\n",
        "plt.show()"
      ],
      "execution_count": null,
      "outputs": [
        {
          "output_type": "stream",
          "name": "stderr",
          "text": [
            "/usr/local/lib/python3.7/dist-packages/seaborn/_decorators.py:43: FutureWarning: Pass the following variable as a keyword arg: x. From version 0.12, the only valid positional argument will be `data`, and passing other arguments without an explicit keyword will result in an error or misinterpretation.\n",
            "  FutureWarning\n"
          ]
        },
        {
          "output_type": "display_data",
          "data": {
            "image/png": "[encoded data removed]",
            "text/plain": [
              "<Figure size 1080x1080 with 1 Axes>"
            ]
          },
          "metadata": {
            "needs_background": "light"
          }
        }
      ]
    },
    {
      "cell_type": "code",
      "metadata": {
        "colab": {
          "base_uri": "https://localhost:8080/"
        },
        "id": "tC0Hzf41u_L-",
        "outputId": "74aa77b8-83cc-43b5-bc8b-e585e863fa22"
      },
      "source": [
        "data=data[data['AnswerCount']>0]\n",
        "data.shape"
      ],
      "execution_count": null,
      "outputs": [
        {
          "output_type": "execute_result",
          "data": {
            "text/plain": [
              "(14191, 23)"
            ]
          },
          "metadata": {},
          "execution_count": 58
        }
      ]
    },
    {
      "cell_type": "code",
      "metadata": {
        "id": "SZYBFMwfvMdn"
      },
      "source": [
        "data=data[['Body','Title','Tags']]"
      ],
      "execution_count": null,
      "outputs": []
    },
    {
      "cell_type": "markdown",
      "metadata": {
        "id": "Punc2tTgwbRv"
      },
      "source": [
        "#Tags"
      ]
    },
    {
      "cell_type": "code",
      "metadata": {
        "id": "3NPSBh1WzREg",
        "colab": {
          "base_uri": "https://localhost:8080/"
        },
        "outputId": "34c5f2b4-b4c6-4d10-f4eb-8a6f1b6f2e1a"
      },
      "source": [
        "data['Tags']=data['Tags'].astype(str)"
      ],
      "execution_count": null,
      "outputs": [
        {
          "output_type": "stream",
          "name": "stderr",
          "text": [
            "/usr/local/lib/python3.7/dist-packages/ipykernel_launcher.py:1: SettingWithCopyWarning: \n",
            "A value is trying to be set on a copy of a slice from a DataFrame.\n",
            "Try using .loc[row_indexer,col_indexer] = value instead\n",
            "\n",
            "See the caveats in the documentation: https://pandas.pydata.org/pandas-docs/stable/user_guide/indexing.html#returning-a-view-versus-a-copy\n",
            "  \"\"\"Entry point for launching an IPython kernel.\n"
          ]
        }
      ]
    },
    {
      "cell_type": "code",
      "metadata": {
        "colab": {
          "base_uri": "https://localhost:8080/"
        },
        "id": "DTst_uYFzxvW",
        "outputId": "d5f40ad1-80ba-438d-a165-d9478e2e3255"
      },
      "source": [
        "data.info()"
      ],
      "execution_count": null,
      "outputs": [
        {
          "output_type": "stream",
          "name": "stdout",
          "text": [
            "<class 'pandas.core.frame.DataFrame'>\n",
            "Int64Index: 14191 entries, 0 to 49991\n",
            "Data columns (total 3 columns):\n",
            " #   Column  Non-Null Count  Dtype \n",
            "---  ------  --------------  ----- \n",
            " 0   Body    14191 non-null  object\n",
            " 1   Title   14191 non-null  object\n",
            " 2   Tags    14191 non-null  object\n",
            "dtypes: object(3)\n",
            "memory usage: 443.5+ KB\n"
          ]
        }
      ]
    },
    {
      "cell_type": "code",
      "metadata": {
        "colab": {
          "base_uri": "https://localhost:8080/"
        },
        "id": "avL_cUurv5yC",
        "outputId": "c21e1a24-d82b-4f62-e419-bc11793031ea"
      },
      "source": [
        "data['Tags'] = data['Tags'].apply(lambda x: x.split('>'))\n",
        "data['Tags'] = data['Tags'].apply(lambda x: x[:-1])\n",
        "data['Tags'] "
      ],
      "execution_count": null,
      "outputs": [
        {
          "output_type": "stream",
          "name": "stderr",
          "text": [
            "/usr/local/lib/python3.7/dist-packages/ipykernel_launcher.py:1: SettingWithCopyWarning: \n",
            "A value is trying to be set on a copy of a slice from a DataFrame.\n",
            "Try using .loc[row_indexer,col_indexer] = value instead\n",
            "\n",
            "See the caveats in the documentation: https://pandas.pydata.org/pandas-docs/stable/user_guide/indexing.html#returning-a-view-versus-a-copy\n",
            "  \"\"\"Entry point for launching an IPython kernel.\n",
            "/usr/local/lib/python3.7/dist-packages/ipykernel_launcher.py:2: SettingWithCopyWarning: \n",
            "A value is trying to be set on a copy of a slice from a DataFrame.\n",
            "Try using .loc[row_indexer,col_indexer] = value instead\n",
            "\n",
            "See the caveats in the documentation: https://pandas.pydata.org/pandas-docs/stable/user_guide/indexing.html#returning-a-view-versus-a-copy\n",
            "  \n"
          ]
        },
        {
          "output_type": "execute_result",
          "data": {
            "text/plain": [
              "0                [<java, <error-handling, <actionlistener]\n",
              "2                                            [<typescript]\n",
              "5                                  [<c, <cmock, <ceedling]\n",
              "6                                                   [<git]\n",
              "10             [<json, <reactjs, <django, <image, <nested]\n",
              "                               ...                        \n",
              "49973                               [<c#, <string, <loops]\n",
              "49977    [<python, <matplotlib, <mesh, <triangulation, ...\n",
              "49983                  [<python, <django, <attributeerror]\n",
              "49985                              [<scala, <apache-spark]\n",
              "49991     [<python, <memory-management, <twitter, <pickle]\n",
              "Name: Tags, Length: 14191, dtype: object"
            ]
          },
          "metadata": {},
          "execution_count": 62
        }
      ]
    },
    {
      "cell_type": "code",
      "metadata": {
        "colab": {
          "base_uri": "https://localhost:8080/"
        },
        "id": "tQ6A5HhG6J2O",
        "outputId": "abba9fc3-f01d-45b7-d028-81363e1eaf53"
      },
      "source": [
        "all_tags = [item for sublist in data['Tags'].values for item in sublist]\n",
        "len(all_tags)"
      ],
      "execution_count": null,
      "outputs": [
        {
          "output_type": "execute_result",
          "data": {
            "text/plain": [
              "43042"
            ]
          },
          "metadata": {},
          "execution_count": 63
        }
      ]
    },
    {
      "cell_type": "code",
      "metadata": {
        "colab": {
          "base_uri": "https://localhost:8080/"
        },
        "id": "LHOQyMUi7CrQ",
        "outputId": "48055e62-4a24-4aaf-d741-75c7ad2177ff"
      },
      "source": [
        "my_set = set(all_tags)\n",
        "unique_tags = list(my_set)\n",
        "len(unique_tags)"
      ],
      "execution_count": null,
      "outputs": [
        {
          "output_type": "execute_result",
          "data": {
            "text/plain": [
              "6926"
            ]
          },
          "metadata": {},
          "execution_count": 64
        }
      ]
    },
    {
      "cell_type": "code",
      "metadata": {
        "colab": {
          "base_uri": "https://localhost:8080/"
        },
        "id": "sHDQTvbz8SHw",
        "outputId": "490c8d90-f91c-443a-f1cc-8e21b098a3f5"
      },
      "source": [
        "flat_list = [item for sublist in data['Tags'].values for item in sublist]\n",
        "\n",
        "keywords = nltk.FreqDist(flat_list)\n",
        "\n",
        "keywords = nltk.FreqDist(keywords)\n",
        "\n",
        "frequencies_words = keywords.most_common(100)\n",
        "tags_features = [word[0] for word in frequencies_words]\n",
        "tags_features"
      ],
      "execution_count": null,
      "outputs": [
        {
          "output_type": "execute_result",
          "data": {
            "text/plain": [
              "['<python',\n",
              " '<javascript',\n",
              " '<java',\n",
              " '<reactjs',\n",
              " '<html',\n",
              " '<r',\n",
              " '<c#',\n",
              " '<android',\n",
              " '<python-3.x',\n",
              " '<pandas',\n",
              " '<node.js',\n",
              " '<sql',\n",
              " '<php',\n",
              " '<css',\n",
              " '<c++',\n",
              " '<flutter',\n",
              " '<arrays',\n",
              " '<c',\n",
              " '<django',\n",
              " '<angular',\n",
              " '<mysql',\n",
              " '<dataframe',\n",
              " '<typescript',\n",
              " '<jquery',\n",
              " '<swift',\n",
              " '<json',\n",
              " '<laravel',\n",
              " '<vue.js',\n",
              " '<ios',\n",
              " '<firebase',\n",
              " '<amazon-web-services',\n",
              " '<react-native',\n",
              " '<dart',\n",
              " '<postgresql',\n",
              " '<kotlin',\n",
              " '<azure',\n",
              " '<excel',\n",
              " '<numpy',\n",
              " '<spring-boot',\n",
              " '<sql-server',\n",
              " '<list',\n",
              " '<mongodb',\n",
              " '<docker',\n",
              " '<tensorflow',\n",
              " '<regex',\n",
              " '<spring',\n",
              " '<api',\n",
              " '<asp.net-core',\n",
              " '<oracle',\n",
              " '<vba',\n",
              " '<linux',\n",
              " '<string',\n",
              " '<swiftui',\n",
              " '<android-studio',\n",
              " '<loops',\n",
              " '<git',\n",
              " '<matplotlib',\n",
              " '<express',\n",
              " '<powershell',\n",
              " '<bash',\n",
              " '<selenium',\n",
              " '<wordpress',\n",
              " '<kubernetes',\n",
              " '<.net',\n",
              " '<ggplot2',\n",
              " '<database',\n",
              " '<algorithm',\n",
              " '<ruby-on-rails',\n",
              " '<function',\n",
              " '<apache-spark',\n",
              " '<keras',\n",
              " '<web-scraping',\n",
              " '<dictionary',\n",
              " '<google-cloud-firestore',\n",
              " '<ruby',\n",
              " '<visual-studio-code',\n",
              " '<machine-learning',\n",
              " '<discord',\n",
              " '<pyspark',\n",
              " '<csv',\n",
              " '<visual-studio',\n",
              " '<ajax',\n",
              " '<for-loop',\n",
              " '<azure-devops',\n",
              " '<xcode',\n",
              " '<google-sheets',\n",
              " '<tkinter',\n",
              " '<macos',\n",
              " '<scala',\n",
              " '<if-statement',\n",
              " '<.net-core',\n",
              " '<react-hooks',\n",
              " '<windows',\n",
              " '<xml',\n",
              " '<elasticsearch',\n",
              " '<dplyr',\n",
              " '<discord.py',\n",
              " '<mongoose',\n",
              " '<bootstrap-4',\n",
              " '<opencv']"
            ]
          },
          "metadata": {},
          "execution_count": 65
        }
      ]
    },
    {
      "cell_type": "code",
      "metadata": {
        "colab": {
          "base_uri": "https://localhost:8080/",
          "height": 714
        },
        "id": "vSfngrjK9tlh",
        "outputId": "f92d7fe5-0193-4567-bd64-4c9c0c8b2af0"
      },
      "source": [
        "fig, ax = plt.subplots(figsize=(15, 10))\n",
        "keywords.plot(100, cumulative=False)"
      ],
      "execution_count": null,
      "outputs": [
        {
          "output_type": "display_data",
          "data": {
            "image/png": "[encoded data removed]",
            "text/plain": [
              "<Figure size 1080x720 with 1 Axes>"
            ]
          },
          "metadata": {
            "needs_background": "light"
          }
        }
      ]
    },
    {
      "cell_type": "code",
      "metadata": {
        "id": "XGejLYbG-Iir"
      },
      "source": [
        "def most_common(tags):\n",
        "    tags_filtered = []\n",
        "    for i in range(0, len(tags)):\n",
        "        if tags[i] in tags_features:\n",
        "            tags_filtered.append(tags[i])\n",
        "    return tags_filtered"
      ],
      "execution_count": null,
      "outputs": []
    },
    {
      "cell_type": "code",
      "metadata": {
        "id": "mVbwwhN8-_8n"
      },
      "source": [
        "data['Tags'] = data['Tags'].apply(lambda x: most_common(x))\n",
        "data['Tags'] = data['Tags'].apply(lambda x: x if len(x)>0 else None)"
      ],
      "execution_count": null,
      "outputs": []
    },
    {
      "cell_type": "code",
      "metadata": {
        "id": "9rz9qnD3_pWG"
      },
      "source": [
        "data.dropna(subset=['Tags'], inplace=True)"
      ],
      "execution_count": null,
      "outputs": []
    },
    {
      "cell_type": "code",
      "metadata": {
        "colab": {
          "base_uri": "https://localhost:8080/"
        },
        "id": "yqBPFP3D_7Rl",
        "outputId": "c215e4c2-9048-4f7b-b424-5148685515ab"
      },
      "source": [
        "data.shape"
      ],
      "execution_count": null,
      "outputs": [
        {
          "output_type": "execute_result",
          "data": {
            "text/plain": [
              "(12230, 3)"
            ]
          },
          "metadata": {},
          "execution_count": 70
        }
      ]
    },
    {
      "cell_type": "markdown",
      "metadata": {
        "id": "YxXxoW_I_-v0"
      },
      "source": [
        "#Body\n",
        "Dans les deux colonnes suivantes : Corps et Titre, je vais utiliser beaucoup de traitement de texte :\n",
        "\n",
        "\n",
        "*   Retrait du format html\n",
        "\n",
        "*   Lowering text\n",
        "*   Transformation d'abréviations\n",
        "\n",
        "*   Suppression de la ponctuation (mais maintien de mots comme c# puisque c'est le tag le plus populaire)\n",
        "\n",
        "*   Lemmatisation des mots\n",
        "*    Suppression des stop words\n",
        "\n",
        "\n",
        "\n"
      ]
    },
    {
      "cell_type": "code",
      "metadata": {
        "id": "2GSNxEoaABRI"
      },
      "source": [
        "# Converting html to text in the body\n",
        "\n",
        "data['Body'] = data['Body'].apply(lambda x: BeautifulSoup(x).get_text()) "
      ],
      "execution_count": null,
      "outputs": []
    },
    {
      "cell_type": "code",
      "metadata": {
        "colab": {
          "base_uri": "https://localhost:8080/"
        },
        "id": "D3Nt3GRifyBX",
        "outputId": "b0795a1e-8d84-4203-8bda-680f8ff672b9"
      },
      "source": [
        "data.Body.index"
      ],
      "execution_count": null,
      "outputs": [
        {
          "output_type": "execute_result",
          "data": {
            "text/plain": [
              "Int64Index([    0,     2,     5,     6,    10,    11,    14,    16,    24,\n",
              "               29,\n",
              "            ...\n",
              "            49935, 49939, 49946, 49947, 49967, 49973, 49977, 49983, 49985,\n",
              "            49991],\n",
              "           dtype='int64', length=12230)"
            ]
          },
          "metadata": {},
          "execution_count": 72
        }
      ]
    },
    {
      "cell_type": "code",
      "metadata": {
        "colab": {
          "base_uri": "https://localhost:8080/"
        },
        "id": "hdtmayiFf5Bv",
        "outputId": "8617983c-c20a-40da-8066-4aea5465c6ce"
      },
      "source": [
        "data['Body'][5]"
      ],
      "execution_count": null,
      "outputs": [
        {
          "output_type": "execute_result",
          "data": {
            "application/vnd.google.colaboratory.intrinsic+json": {
              "type": "string"
            },
            "text/plain": [
              "'I am trying to mock a header which is included by a source file I am testing.\\nThe header begins with the following:\\n#if defined(ICM42600)\\n#define ICM_WHOAMI ICM42600_WHOAMI\\n#elif defined(ICM42602)\\n#define ICM_WHOAMI ICM42602_WHOAMI\\n#elif defined(ICM42605)\\n#define ICM_WHOAMI ICM42605_WHOAMI\\n#elif defined(ICM42622)\\n#define ICM_WHOAMI ICM42622_WHOAMI\\n#elif defined(ICM42686)\\n#define ICM_WHOAMI ICM42686_WHOAMI\\n#elif defined(ICM42688)\\n#define ICM_WHOAMI ICM42688_WHOAMI\\n#elif defined(ICM42608)\\n#define ICM_WHOAMI ICM42608_WHOAMI\\n#elif defined(IIM42623)\\n#define ICM_WHOAMI IIM42623_WHOAMI\\n#elif defined(IIM42624)\\n#define ICM_WHOAMI IIM42624_WHOAMI\\n#elif defined(IIM42625)\\n#define ICM_WHOAMI IIM42625_WHOAMI\\n#elif defined(ICM40608)\\n#define ICM_WHOAMI ICM40608_WHOAMI\\n#else\\n#error \"Please define which ICM variant is targeted. Possible values: ICM42600, ICM42602, ICM42605, ICM42686, ICM42688, ICM42622, ICM42608, ICM4068\"\\n#endif\\n\\nand I am attempting to mock it like so:\\n#define ICM42600 1\\n#include \"mock_Icm426xxDefs.h\"\\n\\nHowever, I keep getting the following error when trying to run ceedling tests:\\n----------------------------\\nGenerating include list for Icm426xxDefs.h...\\nbuild/temp/_Icm426xxDefs.h:74:2: error: #error \"Please define which ICM variant is targeted. Possible values: ICM42600, ICM42602, ICM42605, ICM42686, ICM42688, ICM42622, ICM42608, ICM4068\"\\n #error \"Please define which ICM variant is targeted. Possible values: ICM42600, ICM42602, ICM42605, ICM42686, ICM42688, ICM42622, ICM42608, ICM4068\"\\n  ^~~~~```\\n\\nI have no idea how to deal with this. I was under the impression that ceedling would automatically mock headers, and there\\'s no error saying what I can do to resolve this.\\n\\n'"
            ]
          },
          "metadata": {},
          "execution_count": 73
        }
      ]
    },
    {
      "cell_type": "code",
      "metadata": {
        "id": "2pMGk_GfgloH"
      },
      "source": [
        "def clean_text(text):\n",
        "      text = text.lower()\n",
        "      text = re.sub(r\"what's\", \"what is \", text)\n",
        "      text = re.sub(r\"\\'s\", \" \", text)\n",
        "      text = re.sub(r\"\\'ve\", \" have \", text)\n",
        "      text = re.sub(r\"can't\", \"can not \", text)\n",
        "      text = re.sub(r\"n't\", \" not \", text)\n",
        "      text = re.sub(r\"i'm\", \"i am \", text)\n",
        "      text = re.sub(r\"\\'re\", \" are \", text)\n",
        "      text = re.sub(r\"\\'d\", \" would \", text)\n",
        "      text = re.sub(r\"\\'ll\", \" will \", text)\n",
        "      text = re.sub(r\"\\'scuse\", \" excuse \", text)\n",
        "      text = re.sub(r\"\\'\\n\", \" \", text)\n",
        "      text = re.sub(r\"\\'\\xa0\", \" \", text)\n",
        "      text = re.sub('\\s+', ' ', text)\n",
        "      text= re.sub('nan',' ',text)\n",
        "      text= re.sub('null',' ',text)\n",
        "      text= re.sub('func',' ',text)\n",
        "      text= re.sub(r'[0-9]', ' ', text) # remove numbers\n",
        "      #text= re.sub(r'(?:^| )\\w(?:$| )', ' ', text)\n",
        "      text = text.strip(' ')\n",
        "      return text"
      ],
      "execution_count": null,
      "outputs": []
    },
    {
      "cell_type": "code",
      "metadata": {
        "id": "mxBnIcWDhpfO"
      },
      "source": [
        "data['Body'] = data['Body'].apply(lambda x: clean_text(x))"
      ],
      "execution_count": null,
      "outputs": []
    },
    {
      "cell_type": "code",
      "metadata": {
        "colab": {
          "base_uri": "https://localhost:8080/"
        },
        "id": "ADkkXYoph6b_",
        "outputId": "d369b256-bf1c-46c1-e321-e87718a82efd"
      },
      "source": [
        "data['Body'][5]"
      ],
      "execution_count": null,
      "outputs": [
        {
          "output_type": "execute_result",
          "data": {
            "application/vnd.google.colaboratory.intrinsic+json": {
              "type": "string"
            },
            "text/plain": [
              "'i am trying to mock a header which is included by a source file i am testing. the header begins with the following: #if defined(icm     ) #define icm_whoami icm     _whoami #elif defined(icm     ) #define icm_whoami icm     _whoami #elif defined(icm     ) #define icm_whoami icm     _whoami #elif defined(icm     ) #define icm_whoami icm     _whoami #elif defined(icm     ) #define icm_whoami icm     _whoami #elif defined(icm     ) #define icm_whoami icm     _whoami #elif defined(icm     ) #define icm_whoami icm     _whoami #elif defined(iim     ) #define icm_whoami iim     _whoami #elif defined(iim     ) #define icm_whoami iim     _whoami #elif defined(iim     ) #define icm_whoami iim     _whoami #elif defined(icm     ) #define icm_whoami icm     _whoami #else #error \"please define which icm variant is targeted. possible values: icm     , icm     , icm     , icm     , icm     , icm     , icm     , icm    \" #endif and i am attempting to mock it like so: #define icm        #include \"mock_icm   xxdefs.h\" however, i keep getting the following error when trying to run ceedling tests: ---------------------------- generating include list for icm   xxdefs.h... build/temp/_icm   xxdefs.h:  : : error: #error \"please define which icm variant is targeted. possible values: icm     , icm     , icm     , icm     , icm     , icm     , icm     , icm    \" #error \"please define which icm variant is targeted. possible values: icm     , icm     , icm     , icm     , icm     , icm     , icm     , icm    \" ^~~~~``` i have no idea how to deal with this. i was under the impression that ceedling would automatically mock headers, and there no error saying what i can do to resolve this.'"
            ]
          },
          "metadata": {},
          "execution_count": 76
        }
      ]
    },
    {
      "cell_type": "code",
      "metadata": {
        "id": "R4eRBgxECo9J"
      },
      "source": [
        "token=ToktokTokenizer()"
      ],
      "execution_count": null,
      "outputs": []
    },
    {
      "cell_type": "code",
      "metadata": {
        "colab": {
          "base_uri": "https://localhost:8080/"
        },
        "id": "BXT3hCgaC02r",
        "outputId": "18231ce7-4d4d-4e1c-8f00-16c75bcf1452"
      },
      "source": [
        "punctuation"
      ],
      "execution_count": null,
      "outputs": [
        {
          "output_type": "execute_result",
          "data": {
            "application/vnd.google.colaboratory.intrinsic+json": {
              "type": "string"
            },
            "text/plain": [
              "'!\"#$%&\\'()*+,-./:;<=>?@[\\\\]^_`{|}~'"
            ]
          },
          "metadata": {},
          "execution_count": 78
        }
      ]
    },
    {
      "cell_type": "code",
      "metadata": {
        "id": "QIDUxDS-C6JZ"
      },
      "source": [
        "punct = '!\"#$%&\\'()*+,-./:;<=>?@[\\\\]^_`{|}~'"
      ],
      "execution_count": null,
      "outputs": []
    },
    {
      "cell_type": "code",
      "metadata": {
        "id": "afUhoMZJDFlX"
      },
      "source": [
        "def strip_list_noempty(mylist):\n",
        "    newlist = (item.strip() if hasattr(item, 'strip') else item for item in mylist)\n",
        "    return [item for item in newlist if item != '']"
      ],
      "execution_count": null,
      "outputs": []
    },
    {
      "cell_type": "code",
      "metadata": {
        "id": "jHH4KyUvDQhq"
      },
      "source": [
        "def clean_punct(text): \n",
        "    words=token.tokenize(text)\n",
        "    punctuation_filtered = []\n",
        "    regex = re.compile('[%s]' % re.escape(punct))\n",
        "    remove_punctuation = str.maketrans(' ', ' ', punct)\n",
        "    for w in words:\n",
        "        if w in tags_features:\n",
        "            punctuation_filtered.append(w)\n",
        "        else:\n",
        "            punctuation_filtered.append(regex.sub('', w))\n",
        "  \n",
        "    filtered_list = strip_list_noempty(punctuation_filtered)\n",
        "        \n",
        "    return ' '.join(map(str, filtered_list))"
      ],
      "execution_count": null,
      "outputs": []
    },
    {
      "cell_type": "code",
      "metadata": {
        "id": "K1wRMMNTDYoZ"
      },
      "source": [
        "data['Body'] = data['Body'].apply(lambda x: clean_punct(x)) "
      ],
      "execution_count": null,
      "outputs": []
    },
    {
      "cell_type": "code",
      "metadata": {
        "colab": {
          "base_uri": "https://localhost:8080/"
        },
        "id": "NZREp6LDhYMV",
        "outputId": "d483c423-35d8-4199-c209-ab35aae8df59"
      },
      "source": [
        "data['Body'][5]"
      ],
      "execution_count": null,
      "outputs": [
        {
          "output_type": "execute_result",
          "data": {
            "application/vnd.google.colaboratory.intrinsic+json": {
              "type": "string"
            },
            "text/plain": [
              "'i am trying to mock a header which is included by a source file i am testing the header begins with the following if defined icm define icmwhoami icm whoami elif defined icm define icmwhoami icm whoami elif defined icm define icmwhoami icm whoami elif defined icm define icmwhoami icm whoami elif defined icm define icmwhoami icm whoami elif defined icm define icmwhoami icm whoami elif defined icm define icmwhoami icm whoami elif defined iim define icmwhoami iim whoami elif defined iim define icmwhoami iim whoami elif defined iim define icmwhoami iim whoami elif defined icm define icmwhoami icm whoami else error please define which icm variant is targeted possible values icm icm icm icm icm icm icm icm endif and i am attempting to mock it like so define icm include mockicm xxdefsh however i keep getting the following error when trying to run ceedling tests generating include list for icm xxdefsh buildtempicm xxdefsh error error please define which icm variant is targeted possible values icm icm icm icm icm icm icm icm error please define which icm variant is targeted possible values icm icm icm icm icm icm icm icm i have no idea how to deal with this i was under the impression that ceedling would automatically mock headers and there no error saying what i can do to resolve this'"
            ]
          },
          "metadata": {},
          "execution_count": 83
        }
      ]
    },
    {
      "cell_type": "code",
      "metadata": {
        "id": "gI5Kup7VpWvm"
      },
      "source": [
        "data['Body'] = data['Body'].apply(lambda x: clean_text(x))"
      ],
      "execution_count": null,
      "outputs": []
    },
    {
      "cell_type": "code",
      "metadata": {
        "id": "B0YkvpsmD3Qd"
      },
      "source": [
        "lemma=WordNetLemmatizer()\n",
        "stop_words = set(stopwords.words(\"english\"))"
      ],
      "execution_count": null,
      "outputs": []
    },
    {
      "cell_type": "code",
      "metadata": {
        "id": "N4H3pBYREdpF"
      },
      "source": [
        "def lemitizeWords(text):\n",
        "    words=token.tokenize(text)\n",
        "    listLemma=[]\n",
        "    for w in words:\n",
        "        x=lemma.lemmatize(w, pos=\"v\")\n",
        "        listLemma.append(x)\n",
        "    return ' '.join(map(str, listLemma))\n",
        "\n",
        "def stopWordsRemove(text):\n",
        "    \n",
        "    stop_words = set(stopwords.words(\"english\"))\n",
        "    \n",
        "    words=token.tokenize(text)\n",
        "    \n",
        "    filtered = [w for w in words if not w in stop_words]\n",
        "    \n",
        "    return ' '.join(map(str, filtered))"
      ],
      "execution_count": null,
      "outputs": []
    },
    {
      "cell_type": "code",
      "metadata": {
        "id": "vjIjrJbDEp0l"
      },
      "source": [
        "data['Body'] = data['Body'].apply(lambda x: lemitizeWords(x)) \n",
        "data['Body'] = data['Body'].apply(lambda x: stopWordsRemove(x)) "
      ],
      "execution_count": null,
      "outputs": []
    },
    {
      "cell_type": "markdown",
      "metadata": {
        "id": "YHthCs_CFPzP"
      },
      "source": [
        "#Title"
      ]
    },
    {
      "cell_type": "code",
      "metadata": {
        "id": "w570WyIvFIvh"
      },
      "source": [
        "data['Title'] = data['Title'].apply(lambda x: str(x))\n",
        "data['Title'] = data['Title'].apply(lambda x: clean_text(x)) \n",
        "data['Title'] = data['Title'].apply(lambda x: clean_punct(x)) \n",
        "data['Title'] = data['Title'].apply(lambda x: lemitizeWords(x)) \n",
        "data['Title'] = data['Title'].apply(lambda x: stopWordsRemove(x)) "
      ],
      "execution_count": null,
      "outputs": []
    },
    {
      "cell_type": "markdown",
      "metadata": {
        "id": "G-EewGAIGHMH"
      },
      "source": [
        "# EDA"
      ]
    },
    {
      "cell_type": "code",
      "metadata": {
        "id": "YA6jTHsoehEE"
      },
      "source": [
        "no_topics = 20\n",
        "text = data['Body']\n",
        "no_top_words = 10"
      ],
      "execution_count": null,
      "outputs": []
    },
    {
      "cell_type": "markdown",
      "metadata": {
        "id": "kUxr57wTaYpV"
      },
      "source": [
        "##LDA"
      ]
    },
    {
      "cell_type": "code",
      "metadata": {
        "id": "H4BcjfVfGiQE"
      },
      "source": [
        "vectorizer_train = TfidfVectorizer(analyzer = 'word',\n",
        "                                       min_df=0.0,\n",
        "                                       max_df = 1.0,\n",
        "                                       strip_accents = None,\n",
        "                                       encoding = 'utf-8', \n",
        "                                       preprocessor=None,\n",
        "                                       token_pattern=r\"(?u)\\S\\S+\", # Need to repeat token pattern\n",
        "                                       max_features=5000)"
      ],
      "execution_count": null,
      "outputs": []
    },
    {
      "cell_type": "code",
      "metadata": {
        "id": "RiLIq8OZGoc4"
      },
      "source": [
        "TF_IDF_matrix = vectorizer_train.fit_transform(text)"
      ],
      "execution_count": null,
      "outputs": []
    },
    {
      "cell_type": "code",
      "metadata": {
        "id": "LPzmpdIbGsxZ"
      },
      "source": [
        "#LDA by TF-IDF\n",
        "lda_TF_IDF = LatentDirichletAllocation(n_components=no_topics, max_iter=5, learning_method='online', learning_offset=50,random_state=11).fit(TF_IDF_matrix)"
      ],
      "execution_count": null,
      "outputs": []
    },
    {
      "cell_type": "code",
      "metadata": {
        "colab": {
          "base_uri": "https://localhost:8080/"
        },
        "id": "PRJICTA0HE4F",
        "outputId": "5d55e94b-8f62-4c03-d7c9-7f3c568e0fcb"
      },
      "source": [
        "def display_topics(model, feature_names, no_top_words):\n",
        "    for topic_idx, topic in enumerate(model.components_):\n",
        "        print(\"--------------------------------------------\")\n",
        "        print(\"Topic %d:\" % (topic_idx))\n",
        "        print(\" \".join([feature_names[i]\n",
        "                        for i in topic.argsort()[:-no_top_words - 1:-1]]))\n",
        "        print(\"--------------------------------------------\")\n",
        "        \n",
        "\n",
        " \n",
        "display_topics(lda_TF_IDF, vectorizer_train.get_feature_names(), no_top_words)"
      ],
      "execution_count": null,
      "outputs": [
        {
          "name": "stdout",
          "output_type": "stream",
          "text": [
            "--------------------------------------------\n",
            "Topic 0:\n",
            "hicd lowrep vfa comtashilamywalletfreedebug baseform количество corresp сообщений layer lv\n",
            "--------------------------------------------\n",
            "--------------------------------------------\n",
            "Topic 1:\n",
            "pts yeartoronto estado wnd sessionfindbyid df float num cells enter\n",
            "--------------------------------------------\n",
            "--------------------------------------------\n",
            "Topic 2:\n",
            "menuitem key parameter classname div digital id col dataframe low\n",
            "--------------------------------------------\n",
            "--------------------------------------------\n",
            "Topic 3:\n",
            "android override child context text widget color view void public\n",
            "--------------------------------------------\n",
            "--------------------------------------------\n",
            "Topic 4:\n",
            "use file data get try error value return code string\n",
            "--------------------------------------------\n",
            "--------------------------------------------\n",
            "Topic 5:\n",
            "fl ik tn xf containerjava eventqueuejava eventdispatchthreadjava componentjava preparedstatementjava svg\n",
            "--------------------------------------------\n",
            "--------------------------------------------\n",
            "Topic 6:\n",
            "xs yaxis ys xaxis rainfall afgooye balcad thisrows correlation stock\n",
            "--------------------------------------------\n",
            "--------------------------------------------\n",
            "Topic 7:\n",
            "tableview indexpath twilio uitableview ship collectionview uicollectionview maska sizepolicy fafd\n",
            "--------------------------------------------\n",
            "--------------------------------------------\n",
            "Topic 8:\n",
            "paris ibm densevector unicoderange httpsfontsgstaticcomsibmplexsansv plex kvelmyyaje email doe john\n",
            "--------------------------------------------\n",
            "--------------------------------------------\n",
            "Topic 9:\n",
            "mischomerctimanaconda envstfenv colalibpython comgoogleprotobuf protobuflite protobufjavalite tfkeraslayersdense health status echo\n",
            "--------------------------------------------\n",
            "--------------------------------------------\n",
            "Topic 10:\n",
            "arn iam aws kms catalog mainthread anchoremanagercliservicestart anchoreapi varru choreanchoreapipid\n",
            "--------------------------------------------\n",
            "--------------------------------------------\n",
            "Topic 11:\n",
            "rtf linemanagernumber newf outputprunedfilenamestxt icm rank us thumbnail upload company\n",
            "--------------------------------------------\n",
            "--------------------------------------------\n",
            "Topic 12:\n",
            "mylist mainjs msg ytrain station trail product extract name const\n",
            "--------------------------------------------\n",
            "--------------------------------------------\n",
            "Topic 13:\n",
            "div class px button const component style import id html\n",
            "--------------------------------------------\n",
            "--------------------------------------------\n",
            "Topic 14:\n",
            "td tr table th tbody rewritecond fname thead coin requestpostget\n",
            "--------------------------------------------\n",
            "--------------------------------------------\n",
            "Topic 15:\n",
            "requestcode resultcode ویزا ویزای olmailattachments mttax selectall gt intent wanna\n",
            "--------------------------------------------\n",
            "--------------------------------------------\n",
            "Topic 16:\n",
            "selfboard sqsize sqselected moveendcol moveendrow datasourcedescription selfwhitetomove validmoves eev movesappend\n",
            "--------------------------------------------\n",
            "--------------------------------------------\n",
            "Topic 17:\n",
            "ipsum lorem dolor sed amet sit ut consectetur et elit\n",
            "--------------------------------------------\n",
            "--------------------------------------------\n",
            "Topic 18:\n",
            "express const req appuse res resstatus require err usrlocallibpython resrender\n",
            "--------------------------------------------\n",
            "--------------------------------------------\n",
            "Topic 19:\n",
            "lstsnake fake eleid curtime úÿÿ parsedcommand mlflow atriumpower td tr\n",
            "--------------------------------------------\n"
          ]
        }
      ]
    },
    {
      "cell_type": "code",
      "metadata": {
        "id": "Puwmq7HSZzOF"
      },
      "source": [
        "vectorizer_count_train=CountVectorizer(analyzer='word',\n",
        "                                 min_df=0.0,\n",
        "                                       max_df = 1.0,\n",
        "                                       strip_accents = None,\n",
        "                                       encoding = 'utf-8', \n",
        "                                       preprocessor=None,\n",
        "                                       token_pattern=r\"(?u)\\S\\S+\", # Need to repeat token pattern\n",
        "                                       max_features=5000)"
      ],
      "execution_count": null,
      "outputs": []
    },
    {
      "cell_type": "code",
      "metadata": {
        "id": "24xbcu-3ZBAr"
      },
      "source": [
        "TF_vct_matrix = vectorizer_count_train.fit_transform(text)"
      ],
      "execution_count": null,
      "outputs": []
    },
    {
      "cell_type": "code",
      "metadata": {
        "id": "XvnPGI2MbZEc"
      },
      "source": [
        "#lda by vect_count\n",
        "lda_vct = LatentDirichletAllocation(n_components=no_topics, max_iter=5, learning_method='online', learning_offset=50\n",
        "                                    ,random_state=11).fit(TF_vct_matrix)"
      ],
      "execution_count": null,
      "outputs": []
    },
    {
      "cell_type": "code",
      "metadata": {
        "colab": {
          "base_uri": "https://localhost:8080/"
        },
        "id": "A1xQ4wnFblTr",
        "outputId": "56f61e82-98c9-4348-cb19-22bc97db2a3b"
      },
      "source": [
        "display_topics(lda_vct, vectorizer_train.get_feature_names(), no_top_words)"
      ],
      "execution_count": null,
      "outputs": [
        {
          "name": "stdout",
          "output_type": "stream",
          "text": [
            "--------------------------------------------\n",
            "Topic 0:\n",
            "table select id join query column sit counter aa ipsum\n",
            "--------------------------------------------\n",
            "--------------------------------------------\n",
            "Topic 1:\n",
            "import def error version module name end dependency port print\n",
            "--------------------------------------------\n",
            "--------------------------------------------\n",
            "Topic 2:\n",
            "public new string class private void int override return static\n",
            "--------------------------------------------\n",
            "--------------------------------------------\n",
            "Topic 3:\n",
            "int return array number value print tion list input code\n",
            "--------------------------------------------\n",
            "--------------------------------------------\n",
            "Topic 4:\n",
            "data date row df value column would time like dataframe\n",
            "--------------------------------------------\n",
            "--------------------------------------------\n",
            "Topic 5:\n",
            "type value user string key email name true password field\n",
            "--------------------------------------------\n",
            "--------------------------------------------\n",
            "Topic 6:\n",
            "use try work code file get find image project app\n",
            "--------------------------------------------\n",
            "--------------------------------------------\n",
            "Topic 7:\n",
            "const return error data tion get consolelog message request await\n",
            "--------------------------------------------\n",
            "--------------------------------------------\n",
            "Topic 8:\n",
            "text color child true context false import return width height\n",
            "--------------------------------------------\n",
            "--------------------------------------------\n",
            "Topic 9:\n",
            "nov rn pysddliblibsdd buildlibwinamd fc usrlocallibpython ac ab dd lat\n",
            "--------------------------------------------\n",
            "--------------------------------------------\n",
            "Topic 10:\n",
            "div class button id input type form value tion td\n",
            "--------------------------------------------\n",
            "--------------------------------------------\n",
            "Topic 11:\n",
            "de datetime letter ce format da cd grade fa utc\n",
            "--------------------------------------------\n",
            "--------------------------------------------\n",
            "Topic 12:\n",
            "px class div href width li none height style link\n",
            "--------------------------------------------\n",
            "--------------------------------------------\n",
            "Topic 13:\n",
            "val product price model order def category name post country\n",
            "--------------------------------------------\n",
            "--------------------------------------------\n",
            "Topic 14:\n",
            "android app dp layoutheight layoutwidth wrapcontent web id name person\n",
            "--------------------------------------------\n",
            "--------------------------------------------\n",
            "Topic 15:\n",
            "amp na jar release filter releasejar py tomcatembedcore source rainfall\n",
            "--------------------------------------------\n",
            "--------------------------------------------\n",
            "Topic 16:\n",
            "run file error command info fail start build log npm\n",
            "--------------------------------------------\n",
            "--------------------------------------------\n",
            "Topic 17:\n",
            "use like would want tion way object set need one\n",
            "--------------------------------------------\n",
            "--------------------------------------------\n",
            "Topic 18:\n",
            "var self return file let view print tion url filename\n",
            "--------------------------------------------\n",
            "--------------------------------------------\n",
            "Topic 19:\n",
            "name id line file list data get query database try\n",
            "--------------------------------------------\n"
          ]
        }
      ]
    },
    {
      "cell_type": "markdown",
      "metadata": {
        "id": "O0qDw7ioe74b"
      },
      "source": [
        "##NMF"
      ]
    },
    {
      "cell_type": "code",
      "metadata": {
        "id": "c3GBWk3Ge-wH"
      },
      "source": [
        "#NMF by TF-IDF\n",
        "NMF_TF_IDF = NMF(n_components=no_topics, max_iter=5,random_state=11).fit(TF_IDF_matrix)"
      ],
      "execution_count": null,
      "outputs": []
    },
    {
      "cell_type": "code",
      "metadata": {
        "id": "fuFahbDJhOyc"
      },
      "source": [
        "#NMF by vect_count \n",
        "NMF_vct = NMF(n_components=no_topics, max_iter=5,random_state=11).fit(TF_vct_matrix)"
      ],
      "execution_count": null,
      "outputs": []
    },
    {
      "cell_type": "code",
      "metadata": {
        "colab": {
          "base_uri": "https://localhost:8080/"
        },
        "id": "OXqjE3lwgSFf",
        "outputId": "1ffd5779-9505-4146-d321-ffff0194a505"
      },
      "source": [
        "display_topics(NMF_TF_IDF, vectorizer_train.get_feature_names(), no_top_words)"
      ],
      "execution_count": null,
      "outputs": [
        {
          "name": "stdout",
          "output_type": "stream",
          "text": [
            "--------------------------------------------\n",
            "Topic 0:\n",
            "use like would try work get code want way find\n",
            "--------------------------------------------\n",
            "--------------------------------------------\n",
            "Topic 1:\n",
            "div class classname button span html src input script type\n",
            "--------------------------------------------\n",
            "--------------------------------------------\n",
            "Topic 2:\n",
            "file line error run python script folder command open directory\n",
            "--------------------------------------------\n",
            "--------------------------------------------\n",
            "Topic 3:\n",
            "public string class void new private int return override static\n",
            "--------------------------------------------\n",
            "--------------------------------------------\n",
            "Topic 4:\n",
            "const consolelog return tion await err error require async usestate\n",
            "--------------------------------------------\n",
            "--------------------------------------------\n",
            "Topic 5:\n",
            "int number std print include printf char return cout input\n",
            "--------------------------------------------\n",
            "--------------------------------------------\n",
            "Topic 6:\n",
            "import print component export def react module default python numpy\n",
            "--------------------------------------------\n",
            "--------------------------------------------\n",
            "Topic 7:\n",
            "text color child image style context view widget width height\n",
            "--------------------------------------------\n",
            "--------------------------------------------\n",
            "Topic 8:\n",
            "var tion script documentgetelementbyid new text body html view button\n",
            "--------------------------------------------\n",
            "--------------------------------------------\n",
            "Topic 9:\n",
            "value name option key select input label form type field\n",
            "--------------------------------------------\n",
            "--------------------------------------------\n",
            "Topic 10:\n",
            "row column data columns col dataframe csv like want sheet\n",
            "--------------------------------------------\n",
            "--------------------------------------------\n",
            "Topic 11:\n",
            "table td query select tr count sql join varchar insert\n",
            "--------------------------------------------\n",
            "--------------------------------------------\n",
            "Topic 12:\n",
            "android app dp layoutwidth layoutheight matchparent wrapcontent val xmlns studio\n",
            "--------------------------------------------\n",
            "--------------------------------------------\n",
            "Topic 13:\n",
            "data image url request post response json api get print\n",
            "--------------------------------------------\n",
            "--------------------------------------------\n",
            "Topic 14:\n",
            "array arr numpy object index want element nparray elements like\n",
            "--------------------------------------------\n",
            "--------------------------------------------\n",
            "Topic 15:\n",
            "df dataframe plot pandas pddataframe would value group columns dataframes\n",
            "--------------------------------------------\n",
            "--------------------------------------------\n",
            "Topic 16:\n",
            "date string type format email month day input year datetime\n",
            "--------------------------------------------\n",
            "--------------------------------------------\n",
            "Topic 17:\n",
            "px width self def height none position li pad print\n",
            "--------------------------------------------\n",
            "--------------------------------------------\n",
            "Topic 18:\n",
            "id list name item object type items like document would\n",
            "--------------------------------------------\n",
            "--------------------------------------------\n",
            "Topic 19:\n",
            "user button email self password model def users class username\n",
            "--------------------------------------------\n"
          ]
        }
      ]
    },
    {
      "cell_type": "code",
      "metadata": {
        "colab": {
          "base_uri": "https://localhost:8080/"
        },
        "id": "ZdEU4HfDgboE",
        "outputId": "57434b20-5829-45a6-bca9-38e705b48c4c"
      },
      "source": [
        "display_topics(NMF_vct, vectorizer_count_train.get_feature_names(), no_top_words)"
      ],
      "execution_count": null,
      "outputs": [
        {
          "name": "stdout",
          "output_type": "stream",
          "text": [
            "--------------------------------------------\n",
            "Topic 0:\n",
            "div class px span button style id type li href\n",
            "--------------------------------------------\n",
            "--------------------------------------------\n",
            "Topic 1:\n",
            "android dp layoutwidth layoutheight wrapcontent app id matchparent text textcolor\n",
            "--------------------------------------------\n",
            "--------------------------------------------\n",
            "Topic 2:\n",
            "us df curve list sf price fit px use code\n",
            "--------------------------------------------\n",
            "--------------------------------------------\n",
            "Topic 3:\n",
            "tion return use data get try code new var work\n",
            "--------------------------------------------\n",
            "--------------------------------------------\n",
            "Topic 4:\n",
            "file line error open import python info module run last\n",
            "--------------------------------------------\n",
            "--------------------------------------------\n",
            "Topic 5:\n",
            "jar protobufjavalite protobuflite comgoogleprotobuf class find duplicate modules springbootapp get\n",
            "--------------------------------------------\n",
            "--------------------------------------------\n",
            "Topic 6:\n",
            "rainfall amp month lowest else value find run end code\n",
            "--------------------------------------------\n",
            "--------------------------------------------\n",
            "Topic 7:\n",
            "value ordinal formattedvalue option none percentage key type input select\n",
            "--------------------------------------------\n",
            "--------------------------------------------\n",
            "Topic 8:\n",
            "et lorem ipsum dolor sit amet sed diam ut dolore\n",
            "--------------------------------------------\n",
            "--------------------------------------------\n",
            "Topic 9:\n",
            "public int string new void private return class override get\n",
            "--------------------------------------------\n",
            "--------------------------------------------\n",
            "Topic 10:\n",
            "name id type park nil trail label option input location\n",
            "--------------------------------------------\n",
            "--------------------------------------------\n",
            "Topic 11:\n",
            "release releasejar na jar tomcatembedcore springsecurityweb applicationfilterchainjava springweb filterchainproxyjava virtualfilterchaindofilter\n",
            "--------------------------------------------\n",
            "--------------------------------------------\n",
            "Topic 12:\n",
            "def selfboard move self return false else moveendcol selfwhitetomove moveendrow\n",
            "--------------------------------------------\n",
            "--------------------------------------------\n",
            "Topic 13:\n",
            "var px column td row numberofcolumns rowsinmap width none color\n",
            "--------------------------------------------\n",
            "--------------------------------------------\n",
            "Topic 14:\n",
            "true false cscardlogs kb able use string error start format\n",
            "--------------------------------------------\n",
            "--------------------------------------------\n",
            "Topic 15:\n",
            "app web npm use start run node err build info\n",
            "--------------------------------------------\n",
            "--------------------------------------------\n",
            "Topic 16:\n",
            "const return error require classname type state consolelog import export\n",
            "--------------------------------------------\n",
            "--------------------------------------------\n",
            "Topic 17:\n",
            "pysddliblibsdd buildlibwinamd copy pysddlibsdd create usersmynameappdatalocalprogramspythonpython run file pysdd install\n",
            "--------------------------------------------\n",
            "--------------------------------------------\n",
            "Topic 18:\n",
            "import id data row table date would column df select\n",
            "--------------------------------------------\n",
            "--------------------------------------------\n",
            "Topic 19:\n",
            "rn date week true ea deu new weeknum emptylist asdate\n",
            "--------------------------------------------\n"
          ]
        }
      ]
    },
    {
      "cell_type": "markdown",
      "metadata": {
        "id": "aMlJhtYEcHXt"
      },
      "source": [
        "#Création du fichier"
      ]
    },
    {
      "cell_type": "code",
      "metadata": {
        "id": "rlT0hvNOTicx"
      },
      "source": [
        "import csv\n",
        "data.to_csv('/content/drive/MyDrive/Questions_Tags_Exploration.csv',sep=',',encoding='utf-8')"
      ],
      "execution_count": null,
      "outputs": []
    }
  ]
}