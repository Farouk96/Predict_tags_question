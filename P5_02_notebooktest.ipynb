{
  "cells": [
    {
      "cell_type": "markdown",
      "metadata": {
        "id": "view-in-github",
        "colab_type": "text"
      },
      "source": [
        "<a href=\"https://colab.research.google.com/github/Farouk96/Predict_tags_question/blob/main/P5_02_notebooktest.ipynb\" target=\"_parent\"><img src=\"https://colab.research.google.com/assets/colab-badge.svg\" alt=\"Open In Colab\"/></a>"
      ]
    },
    {
      "cell_type": "code",
      "execution_count": null,
      "metadata": {
        "id": "erj2Z8iDaIPG"
      },
      "outputs": [],
      "source": [
        "import pandas as pd\n",
        "import numpy as np\n",
        "\n",
        "import matplotlib.pyplot as plt\n",
        "import matplotlib.lines as mlines\n",
        "import seaborn as sns\n",
        "from matplotlib import pyplot\n",
        "import pickle\n",
        "\n",
        "import time\n",
        "\n",
        "from sklearn.feature_extraction.text import TfidfVectorizer,CountVectorizer\n",
        "from sklearn.preprocessing import MultiLabelBinarizer\n",
        "from sklearn.model_selection import train_test_split\n",
        "from sklearn.pipeline import Pipeline\n",
        "from sklearn.decomposition import PCA\n",
        "from sklearn.decomposition import TruncatedSVD\n",
        "from sklearn.manifold import TSNE\n",
        "#One Vs rest\n",
        "from sklearn.multiclass import OneVsRestClassifier\n",
        "\n",
        "from sklearn.linear_model import Perceptron,LogisticRegression,LogisticRegressionCV,SGDClassifier,PassiveAggressiveClassifier\n",
        "\n",
        "from sklearn.ensemble import GradientBoostingClassifier\n",
        "\n",
        "from sklearn.gaussian_process import GaussianProcessClassifier\n",
        "\n",
        "from sklearn.svm import LinearSVC \n",
        "\n",
        "\n",
        "#Multioutput\n",
        "from sklearn.multioutput import MultiOutputClassifier\n",
        "\n",
        "from sklearn.tree import DecisionTreeClassifier,ExtraTreeClassifier\n",
        "\n",
        "from sklearn.neighbors import KNeighborsClassifier,RadiusNeighborsClassifier\n",
        "\n",
        "from sklearn.ensemble import RandomForestClassifier\n",
        "\n",
        "\n",
        "\n",
        "#Score\n",
        "from sklearn.metrics import multilabel_confusion_matrix\n",
        "from sklearn.metrics import f1_score, make_scorer\n",
        "\n",
        "from sklearn.model_selection import GridSearchCV\n",
        "\n",
        "from scipy.sparse import hstack"
      ]
    },
    {
      "cell_type": "code",
      "execution_count": null,
      "metadata": {
        "id": "xSAZWEYQdCcq"
      },
      "outputs": [],
      "source": [
        "data=pd.read_csv('/content/drive/MyDrive/ P5_HADJ NACER_Farouk/Questions_Tags_Exploration.csv', sep=',')"
      ]
    },
    {
      "cell_type": "markdown",
      "metadata": {
        "id": "zNIDSh72ds2O"
      },
      "source": [
        "# Data preparation\n",
        "\n",
        "\n",
        "*   Binariser les tags\n",
        "*   Utiliser un TFIDF pour body et Title Les paramètres du TFIDF sont très importants pour la performance de nos tags puisque nous ne voulons pas qu'il supprime des mots comme c# ou .net. Pour cela, nous devons utiliser le motif suivant : token_pattern=r\"(?u)\\S\\S+\"\n"
      ]
    },
    {
      "cell_type": "code",
      "execution_count": null,
      "metadata": {
        "id": "_AvdVHjFdr-Y"
      },
      "outputs": [],
      "source": [
        "X1 = data['Body']\n",
        "X2 = data['Title']\n",
        "y = data['Tags']"
      ]
    },
    {
      "cell_type": "code",
      "execution_count": null,
      "metadata": {
        "id": "BKlNE5XOePO_"
      },
      "outputs": [],
      "source": [
        "multilabel_binarizer = MultiLabelBinarizer()\n",
        "y_bin = multilabel_binarizer.fit_transform(y)"
      ]
    },
    {
      "cell_type": "code",
      "execution_count": null,
      "metadata": {
        "colab": {
          "base_uri": "https://localhost:8080/"
        },
        "id": "H9n61MEuxQIw",
        "outputId": "4ca11058-13c6-44c2-a3a5-275bf40fb3e9"
      },
      "outputs": [
        {
          "output_type": "execute_result",
          "data": {
            "text/plain": [
              "array([' ', '#', \"'\", '+', ',', '-', '.', '2', '3', '4', '<', '[', ']',\n",
              "       'a', 'b', 'c', 'd', 'e', 'f', 'g', 'h', 'i', 'j', 'k', 'l', 'm',\n",
              "       'n', 'o', 'p', 'q', 'r', 's', 't', 'u', 'v', 'w', 'x', 'y', 'z'],\n",
              "      dtype=object)"
            ]
          },
          "metadata": {},
          "execution_count": 58
        }
      ],
      "source": [
        "multilabel_binarizer.classes_"
      ]
    },
    {
      "cell_type": "code",
      "execution_count": null,
      "metadata": {
        "id": "jdcYWDrPYWjt"
      },
      "outputs": [],
      "source": [
        "with open('Multi_label.pkl','wb') as S:\n",
        "  pickle.dump(multilabel_binarizer,S)"
      ]
    },
    {
      "cell_type": "code",
      "execution_count": null,
      "metadata": {
        "id": "QbQ6AgQJeQqI"
      },
      "outputs": [],
      "source": [
        "vectorizer_X1 = TfidfVectorizer(analyzer = 'word',\n",
        "                                       min_df=0.0,\n",
        "                                       max_df = 1.0,\n",
        "                                       strip_accents = None,\n",
        "                                       encoding = 'utf-8', \n",
        "                                       preprocessor=None,\n",
        "                                       token_pattern=r\"(?u)\\S\\S+\",\n",
        "                                       max_features=5000)\n",
        "\n",
        "vectorizer_X2 = TfidfVectorizer(analyzer = 'word',\n",
        "                                       min_df=0.0,\n",
        "                                       max_df = 1.0,\n",
        "                                       strip_accents = None,\n",
        "                                       encoding = 'utf-8', \n",
        "                                       preprocessor=None,\n",
        "                                       token_pattern=r\"(?u)\\S\\S+\",\n",
        "                                       max_features=5000)"
      ]
    },
    {
      "cell_type": "code",
      "execution_count": null,
      "metadata": {
        "id": "5hISOvEEeVKk"
      },
      "outputs": [],
      "source": [
        "X1_tfidf = vectorizer_X1.fit_transform(X1)\n",
        "X2_tfidf = vectorizer_X2.fit_transform(X2)"
      ]
    },
    {
      "cell_type": "code",
      "execution_count": null,
      "metadata": {
        "id": "eo1Sa3h-c-Sm"
      },
      "outputs": [],
      "source": [
        "with open('Vectorizer question1.pkl','wb') as S:\n",
        "  pickle.dump(vectorizer_X1,S)\n",
        "with open('Vectorizer question2.pkl','wb') as T:\n",
        "  pickle.dump(vectorizer_X2,T)  "
      ]
    },
    {
      "cell_type": "code",
      "execution_count": null,
      "metadata": {
        "id": "9MV0GB3EeX3l"
      },
      "outputs": [],
      "source": [
        "X_tfidf = hstack([X1_tfidf,X2_tfidf])"
      ]
    },
    {
      "cell_type": "code",
      "source": [
        "X_train, X_test, y_train, y_test = train_test_split(X_tfidf, y_bin, test_size = 0.2, random_state = 0) # Do 80/20 split\n",
        "y_train.shape"
      ],
      "metadata": {
        "colab": {
          "base_uri": "https://localhost:8080/"
        },
        "id": "Uo2JxTHWBqJ4",
        "outputId": "c992ee60-2c39-4eed-f7fd-99180e2753f3"
      },
      "execution_count": null,
      "outputs": [
        {
          "output_type": "execute_result",
          "data": {
            "text/plain": [
              "(9784, 39)"
            ]
          },
          "metadata": {},
          "execution_count": 64
        }
      ]
    },
    {
      "cell_type": "code",
      "source": [
        "y_test.shape"
      ],
      "metadata": {
        "colab": {
          "base_uri": "https://localhost:8080/"
        },
        "id": "HRuD6JVaBtbk",
        "outputId": "e84adf00-e78c-4a96-9287-797b4e2b5055"
      },
      "execution_count": null,
      "outputs": [
        {
          "output_type": "execute_result",
          "data": {
            "text/plain": [
              "(2446, 39)"
            ]
          },
          "metadata": {},
          "execution_count": 65
        }
      ]
    },
    {
      "cell_type": "markdown",
      "source": [
        "#PCA"
      ],
      "metadata": {
        "id": "8du5RCIwBgMF"
      }
    },
    {
      "cell_type": "code",
      "execution_count": null,
      "metadata": {
        "id": "x2B2KTAb1dsP"
      },
      "outputs": [],
      "source": [
        "X_tfidftodense = X_tfidf.todense()"
      ]
    },
    {
      "cell_type": "code",
      "source": [
        "pca = PCA(n_components=1000).fit(X_tfidftodense)"
      ],
      "metadata": {
        "colab": {
          "base_uri": "https://localhost:8080/"
        },
        "id": "FVhzY5nNB1K8",
        "outputId": "4309dcee-3d9b-4c8b-af97-8a35c218016f"
      },
      "execution_count": null,
      "outputs": [
        {
          "output_type": "stream",
          "name": "stderr",
          "text": [
            "/usr/local/lib/python3.7/dist-packages/sklearn/utils/validation.py:590: FutureWarning: np.matrix usage is deprecated in 1.0 and will raise a TypeError in 1.2. Please convert to a numpy array with np.asarray. For more information see: https://numpy.org/doc/stable/reference/generated/numpy.matrix.html\n",
            "  FutureWarning,\n"
          ]
        }
      ]
    },
    {
      "cell_type": "code",
      "source": [
        "def display_scree_plot(pca):\n",
        "    scree = pca.explained_variance_ratio_*100\n",
        "    plt.bar(np.arange(len(scree))+1, scree)\n",
        "    plt.plot(np.arange(len(scree))+1, scree.cumsum(),c=\"red\",marker='o')\n",
        "    plt.xlabel(\"rang de l'axe d'inertie\")\n",
        "    plt.ylabel(\"pourcentage d'inertie\")\n",
        "    plt.title(\"Eboulis des valeurs propres\")\n",
        "    plt.show(block=False)\n",
        "display_scree_plot(pca)"
      ],
      "metadata": {
        "colab": {
          "base_uri": "https://localhost:8080/",
          "height": 295
        },
        "id": "V8X8k-atydyw",
        "outputId": "e31963e8-d00d-4858-9538-64db9ce63824"
      },
      "execution_count": null,
      "outputs": [
        {
          "output_type": "display_data",
          "data": {
            "image/png": "[encoded data removed]",
            "text/plain": [
              "<Figure size 432x288 with 1 Axes>"
            ]
          },
          "metadata": {
            "needs_background": "light"
          }
        }
      ]
    },
    {
      "cell_type": "code",
      "execution_count": null,
      "metadata": {
        "id": "Pdr8is4D1w5F"
      },
      "outputs": [],
      "source": [
        "pca_train, pca_test, y_train, y_test = train_test_split(pca, y_bin, test_size = 0.2, random_state = 0) # Do 80/20 split"
      ]
    },
    {
      "cell_type": "markdown",
      "source": [
        "#Trunced svd\n"
      ],
      "metadata": {
        "id": "DPuJs2iT86g_"
      }
    },
    {
      "cell_type": "code",
      "source": [
        "svd= TruncatedSVD()\n",
        "svd=svd.fit_transform(X_tfidf)"
      ],
      "metadata": {
        "id": "U7lhMI1h8-5V"
      },
      "execution_count": null,
      "outputs": []
    },
    {
      "cell_type": "code",
      "source": [
        "svd_train, svd_test, y_train, y_test = train_test_split(svd, y_bin, test_size = 0.2, random_state = 0) # Do 80/20 split\n",
        "svd_train.shape"
      ],
      "metadata": {
        "colab": {
          "base_uri": "https://localhost:8080/"
        },
        "id": "FfyUCx3PArmj",
        "outputId": "37fdaa2c-178d-4845-9ca6-8cc377674f56"
      },
      "execution_count": null,
      "outputs": [
        {
          "output_type": "execute_result",
          "data": {
            "text/plain": [
              "(9784, 2)"
            ]
          },
          "metadata": {},
          "execution_count": 21
        }
      ]
    },
    {
      "cell_type": "code",
      "source": [
        "svd_test.shape"
      ],
      "metadata": {
        "colab": {
          "base_uri": "https://localhost:8080/"
        },
        "id": "oAPTJ_MvBAtr",
        "outputId": "0a734756-9325-4a31-e371-d09934eb4772"
      },
      "execution_count": null,
      "outputs": [
        {
          "output_type": "execute_result",
          "data": {
            "text/plain": [
              "(2446, 2)"
            ]
          },
          "metadata": {},
          "execution_count": 22
        }
      ]
    },
    {
      "cell_type": "markdown",
      "metadata": {
        "id": "bRosy1VWeish"
      },
      "source": [
        "#Modélisation supérvisé"
      ]
    },
    {
      "cell_type": "code",
      "execution_count": null,
      "metadata": {
        "id": "ennCNlWRens7"
      },
      "outputs": [],
      "source": [
        "def avg_jacard(y_true,y_pred):\n",
        "    '''\n",
        "    see https://en.wikipedia.org/wiki/Multi-label_classification#Statistics_and_evaluation_metrics\n",
        "    '''\n",
        "    jacard = np.minimum(y_true,y_pred).sum(axis=1) / np.maximum(y_true,y_pred).sum(axis=1)\n",
        "    \n",
        "    return jacard.mean()*100\n",
        "def print_score(y_pred, clf):\n",
        "    print(\"Clf: \", clf.__class__.__name__)\n",
        "    print(\"Jacard score: {}\".format(avg_jacard(y_test, y_pred)))\n",
        "    print(\"F1-score: {}\".format(f1_score(y_test, y_pred,average='micro')))\n",
        "    print(\"---\")  "
      ]
    },
    {
      "cell_type": "markdown",
      "metadata": {
        "id": "SEdf8cFxes30"
      },
      "source": [
        "##One vs Rest\n",
        "Pour évaluer nos modèles, j'utiliserai **le score de Jacard** car il est le mieux adapté à la classification multi-étiquettes."
      ]
    },
    {
      "cell_type": "code",
      "source": [
        "perceptron=Perceptron()\n",
        "lr=LogisticRegression()\n",
        "sgd=SGDClassifier()\n",
        "svc=LinearSVC()"
      ],
      "metadata": {
        "id": "GXCx1cnBx_Fi"
      },
      "execution_count": null,
      "outputs": []
    },
    {
      "cell_type": "code",
      "execution_count": null,
      "metadata": {
        "colab": {
          "base_uri": "https://localhost:8080/"
        },
        "id": "zpqV55Rnezut",
        "outputId": "157c9858-d2fb-46dd-e510-3b8a37e1dcf3"
      },
      "outputs": [
        {
          "name": "stderr",
          "output_type": "stream",
          "text": [
            "/usr/local/lib/python3.7/dist-packages/sklearn/multiclass.py:80: UserWarning: Label 2 is present in all training examples.\n",
            "  \"Label %s is present in all training examples.\" % str(classes[c])\n",
            "/usr/local/lib/python3.7/dist-packages/sklearn/multiclass.py:80: UserWarning: Label 10 is present in all training examples.\n",
            "  \"Label %s is present in all training examples.\" % str(classes[c])\n",
            "/usr/local/lib/python3.7/dist-packages/sklearn/multiclass.py:80: UserWarning: Label 11 is present in all training examples.\n",
            "  \"Label %s is present in all training examples.\" % str(classes[c])\n",
            "/usr/local/lib/python3.7/dist-packages/sklearn/multiclass.py:80: UserWarning: Label 12 is present in all training examples.\n",
            "  \"Label %s is present in all training examples.\" % str(classes[c])\n"
          ]
        },
        {
          "name": "stdout",
          "output_type": "stream",
          "text": [
            "Clf:  SGDClassifier\n",
            "Jacard score: 71.08278646171175\n",
            "F1-score: 0.8216874456364164\n",
            "---\n"
          ]
        },
        {
          "name": "stderr",
          "output_type": "stream",
          "text": [
            "/usr/local/lib/python3.7/dist-packages/sklearn/multiclass.py:80: UserWarning: Label 2 is present in all training examples.\n",
            "  \"Label %s is present in all training examples.\" % str(classes[c])\n",
            "/usr/local/lib/python3.7/dist-packages/sklearn/multiclass.py:80: UserWarning: Label 10 is present in all training examples.\n",
            "  \"Label %s is present in all training examples.\" % str(classes[c])\n",
            "/usr/local/lib/python3.7/dist-packages/sklearn/multiclass.py:80: UserWarning: Label 11 is present in all training examples.\n",
            "  \"Label %s is present in all training examples.\" % str(classes[c])\n",
            "/usr/local/lib/python3.7/dist-packages/sklearn/multiclass.py:80: UserWarning: Label 12 is present in all training examples.\n",
            "  \"Label %s is present in all training examples.\" % str(classes[c])\n"
          ]
        },
        {
          "name": "stdout",
          "output_type": "stream",
          "text": [
            "Clf:  LogisticRegression\n",
            "Jacard score: 70.16204722883528\n",
            "F1-score: 0.8148087125580782\n",
            "---\n"
          ]
        },
        {
          "name": "stderr",
          "output_type": "stream",
          "text": [
            "/usr/local/lib/python3.7/dist-packages/sklearn/multiclass.py:80: UserWarning: Label 2 is present in all training examples.\n",
            "  \"Label %s is present in all training examples.\" % str(classes[c])\n",
            "/usr/local/lib/python3.7/dist-packages/sklearn/multiclass.py:80: UserWarning: Label 10 is present in all training examples.\n",
            "  \"Label %s is present in all training examples.\" % str(classes[c])\n",
            "/usr/local/lib/python3.7/dist-packages/sklearn/multiclass.py:80: UserWarning: Label 11 is present in all training examples.\n",
            "  \"Label %s is present in all training examples.\" % str(classes[c])\n",
            "/usr/local/lib/python3.7/dist-packages/sklearn/multiclass.py:80: UserWarning: Label 12 is present in all training examples.\n",
            "  \"Label %s is present in all training examples.\" % str(classes[c])\n"
          ]
        },
        {
          "name": "stdout",
          "output_type": "stream",
          "text": [
            "Clf:  LinearSVC\n",
            "Jacard score: 69.67745115726837\n",
            "F1-score: 0.8122020060276506\n",
            "---\n"
          ]
        },
        {
          "name": "stderr",
          "output_type": "stream",
          "text": [
            "/usr/local/lib/python3.7/dist-packages/sklearn/multiclass.py:80: UserWarning: Label 2 is present in all training examples.\n",
            "  \"Label %s is present in all training examples.\" % str(classes[c])\n",
            "/usr/local/lib/python3.7/dist-packages/sklearn/multiclass.py:80: UserWarning: Label 10 is present in all training examples.\n",
            "  \"Label %s is present in all training examples.\" % str(classes[c])\n",
            "/usr/local/lib/python3.7/dist-packages/sklearn/multiclass.py:80: UserWarning: Label 11 is present in all training examples.\n",
            "  \"Label %s is present in all training examples.\" % str(classes[c])\n",
            "/usr/local/lib/python3.7/dist-packages/sklearn/multiclass.py:80: UserWarning: Label 12 is present in all training examples.\n",
            "  \"Label %s is present in all training examples.\" % str(classes[c])\n"
          ]
        },
        {
          "name": "stdout",
          "output_type": "stream",
          "text": [
            "Clf:  Perceptron\n",
            "Jacard score: 65.82849346931233\n",
            "F1-score: 0.7870110105135651\n",
            "---\n"
          ]
        }
      ],
      "source": [
        "for classifier in [sgd, lr, svc, perceptron]:\n",
        "    clf = OneVsRestClassifier(classifier)\n",
        "    clf.fit(X_train, y_train)\n",
        "    y_pred = clf.predict(X_test)\n",
        "    print_score(y_pred, classifier)"
      ]
    },
    {
      "cell_type": "markdown",
      "metadata": {
        "id": "igRgOQ7hu2PL"
      },
      "source": [
        "###avec PCA\n"
      ]
    },
    {
      "cell_type": "code",
      "execution_count": null,
      "metadata": {
        "colab": {
          "base_uri": "https://localhost:8080/"
        },
        "id": "pDRsfwV8vdW5",
        "outputId": "1fdfc982-f14c-4cc4-fb07-34976742ec8d"
      },
      "outputs": [
        {
          "output_type": "stream",
          "name": "stderr",
          "text": [
            "/usr/local/lib/python3.7/dist-packages/sklearn/multiclass.py:80: UserWarning: Label 2 is present in all training examples.\n",
            "  \"Label %s is present in all training examples.\" % str(classes[c])\n",
            "/usr/local/lib/python3.7/dist-packages/sklearn/multiclass.py:80: UserWarning: Label 10 is present in all training examples.\n",
            "  \"Label %s is present in all training examples.\" % str(classes[c])\n",
            "/usr/local/lib/python3.7/dist-packages/sklearn/multiclass.py:80: UserWarning: Label 11 is present in all training examples.\n",
            "  \"Label %s is present in all training examples.\" % str(classes[c])\n",
            "/usr/local/lib/python3.7/dist-packages/sklearn/multiclass.py:80: UserWarning: Label 12 is present in all training examples.\n",
            "  \"Label %s is present in all training examples.\" % str(classes[c])\n"
          ]
        },
        {
          "output_type": "stream",
          "name": "stdout",
          "text": [
            "Clf:  SGDClassifier\n",
            "Jacard score: 58.9374423839739\n",
            "F1-score: 0.7352038804998028\n",
            "---\n"
          ]
        },
        {
          "output_type": "stream",
          "name": "stderr",
          "text": [
            "/usr/local/lib/python3.7/dist-packages/sklearn/multiclass.py:80: UserWarning: Label 2 is present in all training examples.\n",
            "  \"Label %s is present in all training examples.\" % str(classes[c])\n",
            "/usr/local/lib/python3.7/dist-packages/sklearn/multiclass.py:80: UserWarning: Label 10 is present in all training examples.\n",
            "  \"Label %s is present in all training examples.\" % str(classes[c])\n",
            "/usr/local/lib/python3.7/dist-packages/sklearn/multiclass.py:80: UserWarning: Label 11 is present in all training examples.\n",
            "  \"Label %s is present in all training examples.\" % str(classes[c])\n",
            "/usr/local/lib/python3.7/dist-packages/sklearn/multiclass.py:80: UserWarning: Label 12 is present in all training examples.\n",
            "  \"Label %s is present in all training examples.\" % str(classes[c])\n"
          ]
        },
        {
          "output_type": "stream",
          "name": "stdout",
          "text": [
            "Clf:  LogisticRegression\n",
            "Jacard score: 59.68775893277732\n",
            "F1-score: 0.7399182561307903\n",
            "---\n"
          ]
        },
        {
          "output_type": "stream",
          "name": "stderr",
          "text": [
            "/usr/local/lib/python3.7/dist-packages/sklearn/multiclass.py:80: UserWarning: Label 2 is present in all training examples.\n",
            "  \"Label %s is present in all training examples.\" % str(classes[c])\n",
            "/usr/local/lib/python3.7/dist-packages/sklearn/multiclass.py:80: UserWarning: Label 10 is present in all training examples.\n",
            "  \"Label %s is present in all training examples.\" % str(classes[c])\n",
            "/usr/local/lib/python3.7/dist-packages/sklearn/multiclass.py:80: UserWarning: Label 11 is present in all training examples.\n",
            "  \"Label %s is present in all training examples.\" % str(classes[c])\n",
            "/usr/local/lib/python3.7/dist-packages/sklearn/multiclass.py:80: UserWarning: Label 12 is present in all training examples.\n",
            "  \"Label %s is present in all training examples.\" % str(classes[c])\n"
          ]
        },
        {
          "output_type": "stream",
          "name": "stdout",
          "text": [
            "Clf:  LinearSVC\n",
            "Jacard score: 59.824700843586974\n",
            "F1-score: 0.7403860898604556\n",
            "---\n"
          ]
        },
        {
          "output_type": "stream",
          "name": "stderr",
          "text": [
            "/usr/local/lib/python3.7/dist-packages/sklearn/multiclass.py:80: UserWarning: Label 2 is present in all training examples.\n",
            "  \"Label %s is present in all training examples.\" % str(classes[c])\n",
            "/usr/local/lib/python3.7/dist-packages/sklearn/multiclass.py:80: UserWarning: Label 10 is present in all training examples.\n",
            "  \"Label %s is present in all training examples.\" % str(classes[c])\n",
            "/usr/local/lib/python3.7/dist-packages/sklearn/multiclass.py:80: UserWarning: Label 11 is present in all training examples.\n",
            "  \"Label %s is present in all training examples.\" % str(classes[c])\n",
            "/usr/local/lib/python3.7/dist-packages/sklearn/multiclass.py:80: UserWarning: Label 12 is present in all training examples.\n",
            "  \"Label %s is present in all training examples.\" % str(classes[c])\n"
          ]
        },
        {
          "output_type": "stream",
          "name": "stdout",
          "text": [
            "Clf:  Perceptron\n",
            "Jacard score: 51.826485668761755\n",
            "F1-score: 0.6790947996368825\n",
            "---\n"
          ]
        }
      ],
      "source": [
        "for classifier in [sgd, lr, svc, perceptron]:\n",
        "    clf = OneVsRestClassifier(classifier)\n",
        "    clf.fit(pca_train, y_train)\n",
        "    y_pred = clf.predict(pca_test)\n",
        "    print_score(y_pred, classifier)"
      ]
    },
    {
      "cell_type": "markdown",
      "source": [
        "###avec SVD"
      ],
      "metadata": {
        "id": "4MXUS9xuCSeM"
      }
    },
    {
      "cell_type": "code",
      "source": [
        "perceptron=Perceptron()\n",
        "lr=LogisticRegression()\n",
        "sgd=SGDClassifier()\n",
        "svc=LinearSVC() \n",
        "\n",
        "\n",
        "for classifier in [sgd, lr, svc, perceptron]:\n",
        "    clf = OneVsRestClassifier(classifier)\n",
        "    clf.fit(svd_train, y_train)\n",
        "    y_pred = clf.predict(svd_test)\n",
        "    print_score(y_pred, classifier)"
      ],
      "metadata": {
        "colab": {
          "base_uri": "https://localhost:8080/"
        },
        "id": "6AYDdMA0CWdl",
        "outputId": "4e1e6a09-5e59-45b2-a0c3-0dfadee1790f"
      },
      "execution_count": null,
      "outputs": [
        {
          "output_type": "stream",
          "name": "stderr",
          "text": [
            "/usr/local/lib/python3.7/dist-packages/sklearn/multiclass.py:80: UserWarning: Label 2 is present in all training examples.\n",
            "  \"Label %s is present in all training examples.\" % str(classes[c])\n",
            "/usr/local/lib/python3.7/dist-packages/sklearn/multiclass.py:80: UserWarning: Label 10 is present in all training examples.\n",
            "  \"Label %s is present in all training examples.\" % str(classes[c])\n",
            "/usr/local/lib/python3.7/dist-packages/sklearn/multiclass.py:80: UserWarning: Label 11 is present in all training examples.\n",
            "  \"Label %s is present in all training examples.\" % str(classes[c])\n",
            "/usr/local/lib/python3.7/dist-packages/sklearn/multiclass.py:80: UserWarning: Label 12 is present in all training examples.\n",
            "  \"Label %s is present in all training examples.\" % str(classes[c])\n"
          ]
        },
        {
          "output_type": "stream",
          "name": "stdout",
          "text": [
            "Clf:  SGDClassifier\n",
            "Jacard score: 47.03935290571275\n",
            "F1-score: 0.6376984894578578\n",
            "---\n"
          ]
        },
        {
          "output_type": "stream",
          "name": "stderr",
          "text": [
            "/usr/local/lib/python3.7/dist-packages/sklearn/multiclass.py:80: UserWarning: Label 2 is present in all training examples.\n",
            "  \"Label %s is present in all training examples.\" % str(classes[c])\n",
            "/usr/local/lib/python3.7/dist-packages/sklearn/multiclass.py:80: UserWarning: Label 10 is present in all training examples.\n",
            "  \"Label %s is present in all training examples.\" % str(classes[c])\n",
            "/usr/local/lib/python3.7/dist-packages/sklearn/multiclass.py:80: UserWarning: Label 11 is present in all training examples.\n",
            "  \"Label %s is present in all training examples.\" % str(classes[c])\n",
            "/usr/local/lib/python3.7/dist-packages/sklearn/multiclass.py:80: UserWarning: Label 12 is present in all training examples.\n",
            "  \"Label %s is present in all training examples.\" % str(classes[c])\n"
          ]
        },
        {
          "output_type": "stream",
          "name": "stdout",
          "text": [
            "Clf:  LogisticRegression\n",
            "Jacard score: 47.7847676802807\n",
            "F1-score: 0.6458504232481019\n",
            "---\n"
          ]
        },
        {
          "output_type": "stream",
          "name": "stderr",
          "text": [
            "/usr/local/lib/python3.7/dist-packages/sklearn/multiclass.py:80: UserWarning: Label 2 is present in all training examples.\n",
            "  \"Label %s is present in all training examples.\" % str(classes[c])\n",
            "/usr/local/lib/python3.7/dist-packages/sklearn/multiclass.py:80: UserWarning: Label 10 is present in all training examples.\n",
            "  \"Label %s is present in all training examples.\" % str(classes[c])\n",
            "/usr/local/lib/python3.7/dist-packages/sklearn/multiclass.py:80: UserWarning: Label 11 is present in all training examples.\n",
            "  \"Label %s is present in all training examples.\" % str(classes[c])\n",
            "/usr/local/lib/python3.7/dist-packages/sklearn/multiclass.py:80: UserWarning: Label 12 is present in all training examples.\n",
            "  \"Label %s is present in all training examples.\" % str(classes[c])\n"
          ]
        },
        {
          "output_type": "stream",
          "name": "stdout",
          "text": [
            "Clf:  LinearSVC\n",
            "Jacard score: 47.821595825379845\n",
            "F1-score: 0.6462402343750001\n",
            "---\n"
          ]
        },
        {
          "output_type": "stream",
          "name": "stderr",
          "text": [
            "/usr/local/lib/python3.7/dist-packages/sklearn/multiclass.py:80: UserWarning: Label 2 is present in all training examples.\n",
            "  \"Label %s is present in all training examples.\" % str(classes[c])\n",
            "/usr/local/lib/python3.7/dist-packages/sklearn/multiclass.py:80: UserWarning: Label 10 is present in all training examples.\n",
            "  \"Label %s is present in all training examples.\" % str(classes[c])\n",
            "/usr/local/lib/python3.7/dist-packages/sklearn/multiclass.py:80: UserWarning: Label 11 is present in all training examples.\n",
            "  \"Label %s is present in all training examples.\" % str(classes[c])\n",
            "/usr/local/lib/python3.7/dist-packages/sklearn/multiclass.py:80: UserWarning: Label 12 is present in all training examples.\n",
            "  \"Label %s is present in all training examples.\" % str(classes[c])\n"
          ]
        },
        {
          "output_type": "stream",
          "name": "stdout",
          "text": [
            "Clf:  Perceptron\n",
            "Jacard score: 46.050215548764754\n",
            "F1-score: 0.6327602027769003\n",
            "---\n"
          ]
        }
      ]
    },
    {
      "cell_type": "markdown",
      "metadata": {
        "id": "wYbMk3KVe-Al"
      },
      "source": [
        "##Multi output"
      ]
    },
    {
      "cell_type": "code",
      "execution_count": null,
      "metadata": {
        "id": "29X243_Le-yc"
      },
      "outputs": [],
      "source": [
        "DT=DecisionTreeClassifier()\n",
        "ETC=ExtraTreeClassifier()\n",
        "KNC=KNeighborsClassifier()\n",
        "RF=RandomForestClassifier()"
      ]
    },
    {
      "cell_type": "code",
      "execution_count": null,
      "metadata": {
        "colab": {
          "background_save": true,
          "base_uri": "https://localhost:8080/"
        },
        "id": "JIsv8Wk5fChD",
        "outputId": "35ad7155-ee8d-4d98-cdb8-7c50a8b0c9de"
      },
      "outputs": [
        {
          "name": "stdout",
          "output_type": "stream",
          "text": [
            "Clf:  DecisionTreeClassifier\n",
            "Jacard score: 63.269287920252204\n",
            "F1-score: 0.7738100766194567\n",
            "---\n",
            "Clf:  ExtraTreeClassifier\n",
            "Jacard score: 58.976181794313064\n",
            "F1-score: 0.741775140575973\n",
            "---\n",
            "Clf:  KNeighborsClassifier\n",
            "Jacard score: 54.245417173556085\n",
            "F1-score: 0.6876184920519177\n",
            "---\n",
            "Clf:  RandomForestClassifier\n",
            "Jacard score: 71.40490701744669\n",
            "F1-score: 0.8255984367366879\n",
            "---\n"
          ]
        }
      ],
      "source": [
        "for classifier in [DT,ETC,KNC,RF]:\n",
        "    clf = MultiOutputClassifier(classifier)\n",
        "    clf.fit(X_train, y_train)\n",
        "    y_pred = clf.predict(X_test)\n",
        "    print_score(y_pred, classifier)"
      ]
    },
    {
      "cell_type": "markdown",
      "metadata": {
        "id": "uwNd3PUWwi0N"
      },
      "source": [
        "###avec PCA"
      ]
    },
    {
      "cell_type": "code",
      "execution_count": null,
      "metadata": {
        "colab": {
          "base_uri": "https://localhost:8080/"
        },
        "id": "lceo0MAFwn0_",
        "outputId": "e8c1db0b-cdf4-4558-f3c2-dc2c32da9b2a"
      },
      "outputs": [
        {
          "output_type": "stream",
          "name": "stdout",
          "text": [
            "Clf:  DecisionTreeClassifier\n",
            "Jacard score: 51.27231615102592\n",
            "F1-score: 0.6744790075169591\n",
            "---\n",
            "Clf:  ExtraTreeClassifier\n",
            "Jacard score: 48.698375254319906\n",
            "F1-score: 0.6530143364783728\n",
            "---\n",
            "Clf:  KNeighborsClassifier\n",
            "Jacard score: 57.546793726237574\n",
            "F1-score: 0.7164464738370628\n",
            "---\n",
            "Clf:  RandomForestClassifier\n",
            "Jacard score: 60.94809288680193\n",
            "F1-score: 0.7487581522657385\n",
            "---\n"
          ]
        }
      ],
      "source": [
        "for classifier in [DT,ETC,KNC,RF]:\n",
        "    clf = MultiOutputClassifier(classifier)\n",
        "    clf.fit(pca_train, y_train)\n",
        "    y_pred = clf.predict(pca_test)\n",
        "    print_score(y_pred, classifier)"
      ]
    },
    {
      "cell_type": "markdown",
      "source": [
        "###avec SVD"
      ],
      "metadata": {
        "id": "ujVpxxV2CynS"
      }
    },
    {
      "cell_type": "code",
      "source": [
        "for classifier in [DT,ETC,KNC,RF]:\n",
        "    clf = MultiOutputClassifier(classifier)\n",
        "    clf.fit(svd_train, y_train)\n",
        "    y_pred = clf.predict(svd_test)\n",
        "    print_score(y_pred, classifier)"
      ],
      "metadata": {
        "colab": {
          "base_uri": "https://localhost:8080/"
        },
        "id": "Pv84gcCUC2Fd",
        "outputId": "88c28892-fda2-40dd-b5c2-163bc3d035cd"
      },
      "execution_count": null,
      "outputs": [
        {
          "output_type": "stream",
          "name": "stdout",
          "text": [
            "Clf:  DecisionTreeClassifier\n",
            "Jacard score: 43.4823532538258\n",
            "F1-score: 0.60620466500023\n",
            "---\n",
            "Clf:  ExtraTreeClassifier\n",
            "Jacard score: 43.60416217056595\n",
            "F1-score: 0.6079888957433683\n",
            "---\n",
            "Clf:  KNeighborsClassifier\n",
            "Jacard score: 47.34388472366341\n",
            "F1-score: 0.6407222397397813\n",
            "---\n",
            "Clf:  RandomForestClassifier\n",
            "Jacard score: 47.045092484639056\n",
            "F1-score: 0.638675359757216\n",
            "---\n"
          ]
        }
      ]
    },
    {
      "cell_type": "markdown",
      "metadata": {
        "id": "ZgTxOLYUfF1I"
      },
      "source": [
        "##GridSearch CV on the best classifier"
      ]
    },
    {
      "cell_type": "code",
      "execution_count": null,
      "metadata": {
        "id": "VVu34J8LfMf3"
      },
      "outputs": [],
      "source": [
        "param_grid = {'estimator__alpha':np.logspace(-10, 0,10),\n",
        "              'estimator__penalty':[\"l1\",\"l2\",\"elasticnet\"]\n",
        "              } "
      ]
    },
    {
      "cell_type": "code",
      "execution_count": null,
      "metadata": {
        "colab": {
          "base_uri": "https://localhost:8080/"
        },
        "id": "x54OWyBafRF8",
        "outputId": "32bc121f-12f4-4461-885c-b0fc19803afe"
      },
      "outputs": [
        {
          "name": "stdout",
          "output_type": "stream",
          "text": [
            "Fitting 5 folds for each of 30 candidates, totalling 150 fits\n",
            "[CV 1/5; 1/30] START estimator__alpha=1e-10, estimator__penalty=l1..............\n",
            "[CV 1/5; 1/30] END estimator__alpha=1e-10, estimator__penalty=l1;, score=45.732 total time=   9.0s\n",
            "[CV 2/5; 1/30] START estimator__alpha=1e-10, estimator__penalty=l1..............\n",
            "[CV 2/5; 1/30] END estimator__alpha=1e-10, estimator__penalty=l1;, score=46.791 total time=   8.2s\n",
            "[CV 3/5; 1/30] START estimator__alpha=1e-10, estimator__penalty=l1..............\n",
            "[CV 3/5; 1/30] END estimator__alpha=1e-10, estimator__penalty=l1;, score=45.996 total time=   8.2s\n",
            "[CV 4/5; 1/30] START estimator__alpha=1e-10, estimator__penalty=l1..............\n",
            "[CV 4/5; 1/30] END estimator__alpha=1e-10, estimator__penalty=l1;, score=47.682 total time=   8.3s\n",
            "[CV 5/5; 1/30] START estimator__alpha=1e-10, estimator__penalty=l1..............\n",
            "[CV 5/5; 1/30] END estimator__alpha=1e-10, estimator__penalty=l1;, score=45.848 total time=   8.4s\n",
            "[CV 1/5; 2/30] START estimator__alpha=1e-10, estimator__penalty=l2..............\n",
            "[CV 1/5; 2/30] END estimator__alpha=1e-10, estimator__penalty=l2;, score=45.906 total time=   2.0s\n",
            "[CV 2/5; 2/30] START estimator__alpha=1e-10, estimator__penalty=l2..............\n",
            "[CV 2/5; 2/30] END estimator__alpha=1e-10, estimator__penalty=l2;, score=47.290 total time=   2.0s\n",
            "[CV 3/5; 2/30] START estimator__alpha=1e-10, estimator__penalty=l2..............\n",
            "[CV 3/5; 2/30] END estimator__alpha=1e-10, estimator__penalty=l2;, score=46.608 total time=   2.1s\n",
            "[CV 4/5; 2/30] START estimator__alpha=1e-10, estimator__penalty=l2..............\n",
            "[CV 4/5; 2/30] END estimator__alpha=1e-10, estimator__penalty=l2;, score=48.355 total time=   2.0s\n",
            "[CV 5/5; 2/30] START estimator__alpha=1e-10, estimator__penalty=l2..............\n",
            "[CV 5/5; 2/30] END estimator__alpha=1e-10, estimator__penalty=l2;, score=46.511 total time=   2.1s\n",
            "[CV 1/5; 3/30] START estimator__alpha=1e-10, estimator__penalty=elasticnet......\n",
            "[CV 1/5; 3/30] END estimator__alpha=1e-10, estimator__penalty=elasticnet;, score=45.196 total time=   8.7s\n",
            "[CV 2/5; 3/30] START estimator__alpha=1e-10, estimator__penalty=elasticnet......\n",
            "[CV 2/5; 3/30] END estimator__alpha=1e-10, estimator__penalty=elasticnet;, score=47.023 total time=   8.6s\n",
            "[CV 3/5; 3/30] START estimator__alpha=1e-10, estimator__penalty=elasticnet......\n",
            "[CV 3/5; 3/30] END estimator__alpha=1e-10, estimator__penalty=elasticnet;, score=46.200 total time=   8.5s\n",
            "[CV 4/5; 3/30] START estimator__alpha=1e-10, estimator__penalty=elasticnet......\n",
            "[CV 4/5; 3/30] END estimator__alpha=1e-10, estimator__penalty=elasticnet;, score=47.732 total time=   8.4s\n",
            "[CV 5/5; 3/30] START estimator__alpha=1e-10, estimator__penalty=elasticnet......\n",
            "[CV 5/5; 3/30] END estimator__alpha=1e-10, estimator__penalty=elasticnet;, score=45.965 total time=   8.4s\n",
            "[CV 1/5; 4/30] START estimator__alpha=1.2915496650148826e-09, estimator__penalty=l1\n",
            "[CV 1/5; 4/30] END estimator__alpha=1.2915496650148826e-09, estimator__penalty=l1;, score=45.307 total time=   8.3s\n",
            "[CV 2/5; 4/30] START estimator__alpha=1.2915496650148826e-09, estimator__penalty=l1\n",
            "[CV 2/5; 4/30] END estimator__alpha=1.2915496650148826e-09, estimator__penalty=l1;, score=46.618 total time=   8.1s\n",
            "[CV 3/5; 4/30] START estimator__alpha=1.2915496650148826e-09, estimator__penalty=l1\n",
            "[CV 3/5; 4/30] END estimator__alpha=1.2915496650148826e-09, estimator__penalty=l1;, score=46.571 total time=   8.1s\n",
            "[CV 4/5; 4/30] START estimator__alpha=1.2915496650148826e-09, estimator__penalty=l1\n",
            "[CV 4/5; 4/30] END estimator__alpha=1.2915496650148826e-09, estimator__penalty=l1;, score=47.824 total time=   8.2s\n",
            "[CV 5/5; 4/30] START estimator__alpha=1.2915496650148826e-09, estimator__penalty=l1\n",
            "[CV 5/5; 4/30] END estimator__alpha=1.2915496650148826e-09, estimator__penalty=l1;, score=46.143 total time=   8.1s\n",
            "[CV 1/5; 5/30] START estimator__alpha=1.2915496650148826e-09, estimator__penalty=l2\n",
            "[CV 1/5; 5/30] END estimator__alpha=1.2915496650148826e-09, estimator__penalty=l2;, score=45.517 total time=   2.0s\n",
            "[CV 2/5; 5/30] START estimator__alpha=1.2915496650148826e-09, estimator__penalty=l2\n",
            "[CV 2/5; 5/30] END estimator__alpha=1.2915496650148826e-09, estimator__penalty=l2;, score=47.351 total time=   2.0s\n",
            "[CV 3/5; 5/30] START estimator__alpha=1.2915496650148826e-09, estimator__penalty=l2\n",
            "[CV 3/5; 5/30] END estimator__alpha=1.2915496650148826e-09, estimator__penalty=l2;, score=46.309 total time=   2.1s\n",
            "[CV 4/5; 5/30] START estimator__alpha=1.2915496650148826e-09, estimator__penalty=l2\n",
            "[CV 4/5; 5/30] END estimator__alpha=1.2915496650148826e-09, estimator__penalty=l2;, score=47.491 total time=   2.0s\n",
            "[CV 5/5; 5/30] START estimator__alpha=1.2915496650148826e-09, estimator__penalty=l2\n",
            "[CV 5/5; 5/30] END estimator__alpha=1.2915496650148826e-09, estimator__penalty=l2;, score=45.618 total time=   2.0s\n",
            "[CV 1/5; 6/30] START estimator__alpha=1.2915496650148826e-09, estimator__penalty=elasticnet\n",
            "[CV 1/5; 6/30] END estimator__alpha=1.2915496650148826e-09, estimator__penalty=elasticnet;, score=45.752 total time=   8.4s\n",
            "[CV 2/5; 6/30] START estimator__alpha=1.2915496650148826e-09, estimator__penalty=elasticnet\n",
            "[CV 2/5; 6/30] END estimator__alpha=1.2915496650148826e-09, estimator__penalty=elasticnet;, score=47.689 total time=   8.4s\n",
            "[CV 3/5; 6/30] START estimator__alpha=1.2915496650148826e-09, estimator__penalty=elasticnet\n",
            "[CV 3/5; 6/30] END estimator__alpha=1.2915496650148826e-09, estimator__penalty=elasticnet;, score=46.700 total time=   8.0s\n",
            "[CV 4/5; 6/30] START estimator__alpha=1.2915496650148826e-09, estimator__penalty=elasticnet\n",
            "[CV 4/5; 6/30] END estimator__alpha=1.2915496650148826e-09, estimator__penalty=elasticnet;, score=47.030 total time=   8.5s\n",
            "[CV 5/5; 6/30] START estimator__alpha=1.2915496650148826e-09, estimator__penalty=elasticnet\n",
            "[CV 5/5; 6/30] END estimator__alpha=1.2915496650148826e-09, estimator__penalty=elasticnet;, score=46.089 total time=   8.4s\n",
            "[CV 1/5; 7/30] START estimator__alpha=1.6681005372000592e-08, estimator__penalty=l1\n",
            "[CV 1/5; 7/30] END estimator__alpha=1.6681005372000592e-08, estimator__penalty=l1;, score=46.465 total time=   7.9s\n",
            "[CV 2/5; 7/30] START estimator__alpha=1.6681005372000592e-08, estimator__penalty=l1\n",
            "[CV 2/5; 7/30] END estimator__alpha=1.6681005372000592e-08, estimator__penalty=l1;, score=46.844 total time=   7.8s\n",
            "[CV 3/5; 7/30] START estimator__alpha=1.6681005372000592e-08, estimator__penalty=l1\n",
            "[CV 3/5; 7/30] END estimator__alpha=1.6681005372000592e-08, estimator__penalty=l1;, score=47.346 total time=   7.8s\n",
            "[CV 4/5; 7/30] START estimator__alpha=1.6681005372000592e-08, estimator__penalty=l1\n",
            "[CV 4/5; 7/30] END estimator__alpha=1.6681005372000592e-08, estimator__penalty=l1;, score=47.921 total time=   7.5s\n",
            "[CV 5/5; 7/30] START estimator__alpha=1.6681005372000592e-08, estimator__penalty=l1\n",
            "[CV 5/5; 7/30] END estimator__alpha=1.6681005372000592e-08, estimator__penalty=l1;, score=46.097 total time=   7.8s\n",
            "[CV 1/5; 8/30] START estimator__alpha=1.6681005372000592e-08, estimator__penalty=l2\n",
            "[CV 1/5; 8/30] END estimator__alpha=1.6681005372000592e-08, estimator__penalty=l2;, score=46.300 total time=   2.1s\n",
            "[CV 2/5; 8/30] START estimator__alpha=1.6681005372000592e-08, estimator__penalty=l2\n",
            "[CV 2/5; 8/30] END estimator__alpha=1.6681005372000592e-08, estimator__penalty=l2;, score=46.459 total time=   2.4s\n",
            "[CV 3/5; 8/30] START estimator__alpha=1.6681005372000592e-08, estimator__penalty=l2\n",
            "[CV 3/5; 8/30] END estimator__alpha=1.6681005372000592e-08, estimator__penalty=l2;, score=46.935 total time=   2.5s\n",
            "[CV 4/5; 8/30] START estimator__alpha=1.6681005372000592e-08, estimator__penalty=l2\n",
            "[CV 4/5; 8/30] END estimator__alpha=1.6681005372000592e-08, estimator__penalty=l2;, score=47.954 total time=   2.0s\n",
            "[CV 5/5; 8/30] START estimator__alpha=1.6681005372000592e-08, estimator__penalty=l2\n",
            "[CV 5/5; 8/30] END estimator__alpha=1.6681005372000592e-08, estimator__penalty=l2;, score=46.220 total time=   2.0s\n",
            "[CV 1/5; 9/30] START estimator__alpha=1.6681005372000592e-08, estimator__penalty=elasticnet\n",
            "[CV 1/5; 9/30] END estimator__alpha=1.6681005372000592e-08, estimator__penalty=elasticnet;, score=46.003 total time=   8.3s\n",
            "[CV 2/5; 9/30] START estimator__alpha=1.6681005372000592e-08, estimator__penalty=elasticnet\n",
            "[CV 2/5; 9/30] END estimator__alpha=1.6681005372000592e-08, estimator__penalty=elasticnet;, score=46.904 total time=   7.9s\n",
            "[CV 3/5; 9/30] START estimator__alpha=1.6681005372000592e-08, estimator__penalty=elasticnet\n",
            "[CV 3/5; 9/30] END estimator__alpha=1.6681005372000592e-08, estimator__penalty=elasticnet;, score=47.160 total time=   7.9s\n",
            "[CV 4/5; 9/30] START estimator__alpha=1.6681005372000592e-08, estimator__penalty=elasticnet\n",
            "[CV 4/5; 9/30] END estimator__alpha=1.6681005372000592e-08, estimator__penalty=elasticnet;, score=47.256 total time=   7.9s\n",
            "[CV 5/5; 9/30] START estimator__alpha=1.6681005372000592e-08, estimator__penalty=elasticnet\n",
            "[CV 5/5; 9/30] END estimator__alpha=1.6681005372000592e-08, estimator__penalty=elasticnet;, score=46.014 total time=   8.0s\n",
            "[CV 1/5; 10/30] START estimator__alpha=2.1544346900318867e-07, estimator__penalty=l1\n",
            "[CV 1/5; 10/30] END estimator__alpha=2.1544346900318867e-07, estimator__penalty=l1;, score=45.826 total time=   7.1s\n",
            "[CV 2/5; 10/30] START estimator__alpha=2.1544346900318867e-07, estimator__penalty=l1\n",
            "[CV 2/5; 10/30] END estimator__alpha=2.1544346900318867e-07, estimator__penalty=l1;, score=47.147 total time=   7.0s\n",
            "[CV 3/5; 10/30] START estimator__alpha=2.1544346900318867e-07, estimator__penalty=l1\n",
            "[CV 3/5; 10/30] END estimator__alpha=2.1544346900318867e-07, estimator__penalty=l1;, score=46.632 total time=   7.0s\n",
            "[CV 4/5; 10/30] START estimator__alpha=2.1544346900318867e-07, estimator__penalty=l1\n",
            "[CV 4/5; 10/30] END estimator__alpha=2.1544346900318867e-07, estimator__penalty=l1;, score=48.624 total time=   7.1s\n",
            "[CV 5/5; 10/30] START estimator__alpha=2.1544346900318867e-07, estimator__penalty=l1\n",
            "[CV 5/5; 10/30] END estimator__alpha=2.1544346900318867e-07, estimator__penalty=l1;, score=46.129 total time=   7.0s\n",
            "[CV 1/5; 11/30] START estimator__alpha=2.1544346900318867e-07, estimator__penalty=l2\n",
            "[CV 1/5; 11/30] END estimator__alpha=2.1544346900318867e-07, estimator__penalty=l2;, score=46.515 total time=   1.9s\n",
            "[CV 2/5; 11/30] START estimator__alpha=2.1544346900318867e-07, estimator__penalty=l2\n",
            "[CV 2/5; 11/30] END estimator__alpha=2.1544346900318867e-07, estimator__penalty=l2;, score=47.943 total time=   1.8s\n",
            "[CV 3/5; 11/30] START estimator__alpha=2.1544346900318867e-07, estimator__penalty=l2\n",
            "[CV 3/5; 11/30] END estimator__alpha=2.1544346900318867e-07, estimator__penalty=l2;, score=45.992 total time=   1.8s\n",
            "[CV 4/5; 11/30] START estimator__alpha=2.1544346900318867e-07, estimator__penalty=l2\n",
            "[CV 4/5; 11/30] END estimator__alpha=2.1544346900318867e-07, estimator__penalty=l2;, score=46.893 total time=   1.8s\n",
            "[CV 5/5; 11/30] START estimator__alpha=2.1544346900318867e-07, estimator__penalty=l2\n",
            "[CV 5/5; 11/30] END estimator__alpha=2.1544346900318867e-07, estimator__penalty=l2;, score=45.700 total time=   2.0s\n",
            "[CV 1/5; 12/30] START estimator__alpha=2.1544346900318867e-07, estimator__penalty=elasticnet\n",
            "[CV 1/5; 12/30] END estimator__alpha=2.1544346900318867e-07, estimator__penalty=elasticnet;, score=45.393 total time=   7.5s\n",
            "[CV 2/5; 12/30] START estimator__alpha=2.1544346900318867e-07, estimator__penalty=elasticnet\n",
            "[CV 2/5; 12/30] END estimator__alpha=2.1544346900318867e-07, estimator__penalty=elasticnet;, score=47.567 total time=   7.5s\n",
            "[CV 3/5; 12/30] START estimator__alpha=2.1544346900318867e-07, estimator__penalty=elasticnet\n",
            "[CV 3/5; 12/30] END estimator__alpha=2.1544346900318867e-07, estimator__penalty=elasticnet;, score=47.328 total time=   7.4s\n",
            "[CV 4/5; 12/30] START estimator__alpha=2.1544346900318867e-07, estimator__penalty=elasticnet\n",
            "[CV 4/5; 12/30] END estimator__alpha=2.1544346900318867e-07, estimator__penalty=elasticnet;, score=48.471 total time=   7.6s\n",
            "[CV 5/5; 12/30] START estimator__alpha=2.1544346900318867e-07, estimator__penalty=elasticnet\n",
            "[CV 5/5; 12/30] END estimator__alpha=2.1544346900318867e-07, estimator__penalty=elasticnet;, score=46.706 total time=   7.5s\n",
            "[CV 1/5; 13/30] START estimator__alpha=2.782559402207126e-06, estimator__penalty=l1\n",
            "[CV 1/5; 13/30] END estimator__alpha=2.782559402207126e-06, estimator__penalty=l1;, score=47.065 total time=   6.6s\n",
            "[CV 2/5; 13/30] START estimator__alpha=2.782559402207126e-06, estimator__penalty=l1\n",
            "[CV 2/5; 13/30] END estimator__alpha=2.782559402207126e-06, estimator__penalty=l1;, score=48.462 total time=   6.4s\n",
            "[CV 3/5; 13/30] START estimator__alpha=2.782559402207126e-06, estimator__penalty=l1\n",
            "[CV 3/5; 13/30] END estimator__alpha=2.782559402207126e-06, estimator__penalty=l1;, score=48.235 total time=   6.4s\n",
            "[CV 4/5; 13/30] START estimator__alpha=2.782559402207126e-06, estimator__penalty=l1\n",
            "[CV 4/5; 13/30] END estimator__alpha=2.782559402207126e-06, estimator__penalty=l1;, score=49.178 total time=   6.5s\n",
            "[CV 5/5; 13/30] START estimator__alpha=2.782559402207126e-06, estimator__penalty=l1\n",
            "[CV 5/5; 13/30] END estimator__alpha=2.782559402207126e-06, estimator__penalty=l1;, score=47.391 total time=   6.3s\n",
            "[CV 1/5; 14/30] START estimator__alpha=2.782559402207126e-06, estimator__penalty=l2\n",
            "[CV 1/5; 14/30] END estimator__alpha=2.782559402207126e-06, estimator__penalty=l2;, score=45.398 total time=   1.8s\n",
            "[CV 2/5; 14/30] START estimator__alpha=2.782559402207126e-06, estimator__penalty=l2\n",
            "[CV 2/5; 14/30] END estimator__alpha=2.782559402207126e-06, estimator__penalty=l2;, score=47.592 total time=   1.8s\n",
            "[CV 3/5; 14/30] START estimator__alpha=2.782559402207126e-06, estimator__penalty=l2\n",
            "[CV 3/5; 14/30] END estimator__alpha=2.782559402207126e-06, estimator__penalty=l2;, score=46.214 total time=   1.9s\n",
            "[CV 4/5; 14/30] START estimator__alpha=2.782559402207126e-06, estimator__penalty=l2\n",
            "[CV 4/5; 14/30] END estimator__alpha=2.782559402207126e-06, estimator__penalty=l2;, score=46.785 total time=   1.8s\n",
            "[CV 5/5; 14/30] START estimator__alpha=2.782559402207126e-06, estimator__penalty=l2\n",
            "[CV 5/5; 14/30] END estimator__alpha=2.782559402207126e-06, estimator__penalty=l2;, score=45.608 total time=   1.7s\n",
            "[CV 1/5; 15/30] START estimator__alpha=2.782559402207126e-06, estimator__penalty=elasticnet\n",
            "[CV 1/5; 15/30] END estimator__alpha=2.782559402207126e-06, estimator__penalty=elasticnet;, score=44.493 total time=   6.8s\n",
            "[CV 2/5; 15/30] START estimator__alpha=2.782559402207126e-06, estimator__penalty=elasticnet\n",
            "[CV 2/5; 15/30] END estimator__alpha=2.782559402207126e-06, estimator__penalty=elasticnet;, score=47.440 total time=   6.7s\n",
            "[CV 3/5; 15/30] START estimator__alpha=2.782559402207126e-06, estimator__penalty=elasticnet\n",
            "[CV 3/5; 15/30] END estimator__alpha=2.782559402207126e-06, estimator__penalty=elasticnet;, score=45.610 total time=   6.7s\n",
            "[CV 4/5; 15/30] START estimator__alpha=2.782559402207126e-06, estimator__penalty=elasticnet\n",
            "[CV 4/5; 15/30] END estimator__alpha=2.782559402207126e-06, estimator__penalty=elasticnet;, score=46.502 total time=   6.8s\n",
            "[CV 5/5; 15/30] START estimator__alpha=2.782559402207126e-06, estimator__penalty=elasticnet\n",
            "[CV 5/5; 15/30] END estimator__alpha=2.782559402207126e-06, estimator__penalty=elasticnet;, score=44.987 total time=   6.7s\n",
            "[CV 1/5; 16/30] START estimator__alpha=3.5938136638046256e-05, estimator__penalty=l1\n",
            "[CV 1/5; 16/30] END estimator__alpha=3.5938136638046256e-05, estimator__penalty=l1;, score=50.144 total time=   4.7s\n",
            "[CV 2/5; 16/30] START estimator__alpha=3.5938136638046256e-05, estimator__penalty=l1\n",
            "[CV 2/5; 16/30] END estimator__alpha=3.5938136638046256e-05, estimator__penalty=l1;, score=51.657 total time=   4.8s\n",
            "[CV 3/5; 16/30] START estimator__alpha=3.5938136638046256e-05, estimator__penalty=l1\n",
            "[CV 3/5; 16/30] END estimator__alpha=3.5938136638046256e-05, estimator__penalty=l1;, score=50.299 total time=   4.7s\n",
            "[CV 4/5; 16/30] START estimator__alpha=3.5938136638046256e-05, estimator__penalty=l1\n",
            "[CV 4/5; 16/30] END estimator__alpha=3.5938136638046256e-05, estimator__penalty=l1;, score=51.789 total time=   5.1s\n",
            "[CV 5/5; 16/30] START estimator__alpha=3.5938136638046256e-05, estimator__penalty=l1\n",
            "[CV 5/5; 16/30] END estimator__alpha=3.5938136638046256e-05, estimator__penalty=l1;, score=50.882 total time=   4.9s\n",
            "[CV 1/5; 17/30] START estimator__alpha=3.5938136638046256e-05, estimator__penalty=l2\n",
            "[CV 1/5; 17/30] END estimator__alpha=3.5938136638046256e-05, estimator__penalty=l2;, score=45.822 total time=   1.6s\n",
            "[CV 2/5; 17/30] START estimator__alpha=3.5938136638046256e-05, estimator__penalty=l2\n",
            "[CV 2/5; 17/30] END estimator__alpha=3.5938136638046256e-05, estimator__penalty=l2;, score=48.723 total time=   1.7s\n",
            "[CV 3/5; 17/30] START estimator__alpha=3.5938136638046256e-05, estimator__penalty=l2\n",
            "[CV 3/5; 17/30] END estimator__alpha=3.5938136638046256e-05, estimator__penalty=l2;, score=46.908 total time=   1.7s\n",
            "[CV 4/5; 17/30] START estimator__alpha=3.5938136638046256e-05, estimator__penalty=l2\n",
            "[CV 4/5; 17/30] END estimator__alpha=3.5938136638046256e-05, estimator__penalty=l2;, score=48.463 total time=   1.6s\n",
            "[CV 5/5; 17/30] START estimator__alpha=3.5938136638046256e-05, estimator__penalty=l2\n",
            "[CV 5/5; 17/30] END estimator__alpha=3.5938136638046256e-05, estimator__penalty=l2;, score=46.701 total time=   1.6s\n",
            "[CV 1/5; 18/30] START estimator__alpha=3.5938136638046256e-05, estimator__penalty=elasticnet\n",
            "[CV 1/5; 18/30] END estimator__alpha=3.5938136638046256e-05, estimator__penalty=elasticnet;, score=47.109 total time=   6.7s\n",
            "[CV 2/5; 18/30] START estimator__alpha=3.5938136638046256e-05, estimator__penalty=elasticnet\n",
            "[CV 2/5; 18/30] END estimator__alpha=3.5938136638046256e-05, estimator__penalty=elasticnet;, score=49.592 total time=   6.7s\n",
            "[CV 3/5; 18/30] START estimator__alpha=3.5938136638046256e-05, estimator__penalty=elasticnet\n",
            "[CV 3/5; 18/30] END estimator__alpha=3.5938136638046256e-05, estimator__penalty=elasticnet;, score=48.169 total time=   6.9s\n",
            "[CV 4/5; 18/30] START estimator__alpha=3.5938136638046256e-05, estimator__penalty=elasticnet\n",
            "[CV 4/5; 18/30] END estimator__alpha=3.5938136638046256e-05, estimator__penalty=elasticnet;, score=49.687 total time=   6.9s\n",
            "[CV 5/5; 18/30] START estimator__alpha=3.5938136638046256e-05, estimator__penalty=elasticnet\n",
            "[CV 5/5; 18/30] END estimator__alpha=3.5938136638046256e-05, estimator__penalty=elasticnet;, score=48.165 total time=   7.0s\n",
            "[CV 1/5; 19/30] START estimator__alpha=0.0004641588833612782, estimator__penalty=l1\n",
            "[CV 1/5; 19/30] END estimator__alpha=0.0004641588833612782, estimator__penalty=l1;, score=35.573 total time=   2.3s\n",
            "[CV 2/5; 19/30] START estimator__alpha=0.0004641588833612782, estimator__penalty=l1\n",
            "[CV 2/5; 19/30] END estimator__alpha=0.0004641588833612782, estimator__penalty=l1;, score=37.307 total time=   2.2s\n",
            "[CV 3/5; 19/30] START estimator__alpha=0.0004641588833612782, estimator__penalty=l1\n",
            "[CV 3/5; 19/30] END estimator__alpha=0.0004641588833612782, estimator__penalty=l1;, score=36.442 total time=   2.2s\n",
            "[CV 4/5; 19/30] START estimator__alpha=0.0004641588833612782, estimator__penalty=l1\n",
            "[CV 4/5; 19/30] END estimator__alpha=0.0004641588833612782, estimator__penalty=l1;, score=37.488 total time=   2.3s\n",
            "[CV 5/5; 19/30] START estimator__alpha=0.0004641588833612782, estimator__penalty=l1\n",
            "[CV 5/5; 19/30] END estimator__alpha=0.0004641588833612782, estimator__penalty=l1;, score=35.737 total time=   2.3s\n",
            "[CV 1/5; 20/30] START estimator__alpha=0.0004641588833612782, estimator__penalty=l2\n",
            "[CV 1/5; 20/30] END estimator__alpha=0.0004641588833612782, estimator__penalty=l2;, score=37.572 total time=   1.5s\n",
            "[CV 2/5; 20/30] START estimator__alpha=0.0004641588833612782, estimator__penalty=l2\n",
            "[CV 2/5; 20/30] END estimator__alpha=0.0004641588833612782, estimator__penalty=l2;, score=39.394 total time=   1.5s\n",
            "[CV 3/5; 20/30] START estimator__alpha=0.0004641588833612782, estimator__penalty=l2\n",
            "[CV 3/5; 20/30] END estimator__alpha=0.0004641588833612782, estimator__penalty=l2;, score=39.297 total time=   1.8s\n",
            "[CV 4/5; 20/30] START estimator__alpha=0.0004641588833612782, estimator__penalty=l2\n",
            "[CV 4/5; 20/30] END estimator__alpha=0.0004641588833612782, estimator__penalty=l2;, score=38.965 total time=   1.6s\n",
            "[CV 5/5; 20/30] START estimator__alpha=0.0004641588833612782, estimator__penalty=l2\n",
            "[CV 5/5; 20/30] END estimator__alpha=0.0004641588833612782, estimator__penalty=l2;, score=38.183 total time=   1.5s\n",
            "[CV 1/5; 21/30] START estimator__alpha=0.0004641588833612782, estimator__penalty=elasticnet\n",
            "[CV 1/5; 21/30] END estimator__alpha=0.0004641588833612782, estimator__penalty=elasticnet;, score=34.706 total time=   3.1s\n",
            "[CV 2/5; 21/30] START estimator__alpha=0.0004641588833612782, estimator__penalty=elasticnet\n",
            "[CV 2/5; 21/30] END estimator__alpha=0.0004641588833612782, estimator__penalty=elasticnet;, score=35.745 total time=   3.0s\n",
            "[CV 3/5; 21/30] START estimator__alpha=0.0004641588833612782, estimator__penalty=elasticnet\n",
            "[CV 3/5; 21/30] END estimator__alpha=0.0004641588833612782, estimator__penalty=elasticnet;, score=35.843 total time=   3.0s\n",
            "[CV 4/5; 21/30] START estimator__alpha=0.0004641588833612782, estimator__penalty=elasticnet\n",
            "[CV 4/5; 21/30] END estimator__alpha=0.0004641588833612782, estimator__penalty=elasticnet;, score=36.432 total time=   3.1s\n",
            "[CV 5/5; 21/30] START estimator__alpha=0.0004641588833612782, estimator__penalty=elasticnet\n",
            "[CV 5/5; 21/30] END estimator__alpha=0.0004641588833612782, estimator__penalty=elasticnet;, score=35.438 total time=   3.0s\n",
            "[CV 1/5; 22/30] START estimator__alpha=0.005994842503189421, estimator__penalty=l1\n",
            "[CV 1/5; 22/30] END estimator__alpha=0.005994842503189421, estimator__penalty=l1;, score=3.305 total time=   2.2s\n",
            "[CV 2/5; 22/30] START estimator__alpha=0.005994842503189421, estimator__penalty=l1\n",
            "[CV 2/5; 22/30] END estimator__alpha=0.005994842503189421, estimator__penalty=l1;, score=3.730 total time=   2.2s\n",
            "[CV 3/5; 22/30] START estimator__alpha=0.005994842503189421, estimator__penalty=l1\n",
            "[CV 3/5; 22/30] END estimator__alpha=0.005994842503189421, estimator__penalty=l1;, score=3.655 total time=   2.3s\n",
            "[CV 4/5; 22/30] START estimator__alpha=0.005994842503189421, estimator__penalty=l1\n",
            "[CV 4/5; 22/30] END estimator__alpha=0.005994842503189421, estimator__penalty=l1;, score=3.735 total time=   2.2s\n",
            "[CV 5/5; 22/30] START estimator__alpha=0.005994842503189421, estimator__penalty=l1\n",
            "[CV 5/5; 22/30] END estimator__alpha=0.005994842503189421, estimator__penalty=l1;, score=3.211 total time=   2.2s\n",
            "[CV 1/5; 23/30] START estimator__alpha=0.005994842503189421, estimator__penalty=l2\n",
            "[CV 1/5; 23/30] END estimator__alpha=0.005994842503189421, estimator__penalty=l2;, score=1.173 total time=   1.4s\n",
            "[CV 2/5; 23/30] START estimator__alpha=0.005994842503189421, estimator__penalty=l2\n",
            "[CV 2/5; 23/30] END estimator__alpha=0.005994842503189421, estimator__penalty=l2;, score=0.792 total time=   1.4s\n",
            "[CV 3/5; 23/30] START estimator__alpha=0.005994842503189421, estimator__penalty=l2\n",
            "[CV 3/5; 23/30] END estimator__alpha=0.005994842503189421, estimator__penalty=l2;, score=0.792 total time=   1.4s\n",
            "[CV 4/5; 23/30] START estimator__alpha=0.005994842503189421, estimator__penalty=l2\n",
            "[CV 4/5; 23/30] END estimator__alpha=0.005994842503189421, estimator__penalty=l2;, score=0.581 total time=   1.6s\n",
            "[CV 5/5; 23/30] START estimator__alpha=0.005994842503189421, estimator__penalty=l2\n",
            "[CV 5/5; 23/30] END estimator__alpha=0.005994842503189421, estimator__penalty=l2;, score=1.028 total time=   1.7s\n",
            "[CV 1/5; 24/30] START estimator__alpha=0.005994842503189421, estimator__penalty=elasticnet\n",
            "[CV 1/5; 24/30] END estimator__alpha=0.005994842503189421, estimator__penalty=elasticnet;, score=0.468 total time=   2.4s\n",
            "[CV 2/5; 24/30] START estimator__alpha=0.005994842503189421, estimator__penalty=elasticnet\n",
            "[CV 2/5; 24/30] END estimator__alpha=0.005994842503189421, estimator__penalty=elasticnet;, score=0.537 total time=   2.2s\n",
            "[CV 3/5; 24/30] START estimator__alpha=0.005994842503189421, estimator__penalty=elasticnet\n",
            "[CV 3/5; 24/30] END estimator__alpha=0.005994842503189421, estimator__penalty=elasticnet;, score=0.473 total time=   2.5s\n",
            "[CV 4/5; 24/30] START estimator__alpha=0.005994842503189421, estimator__penalty=elasticnet\n",
            "[CV 4/5; 24/30] END estimator__alpha=0.005994842503189421, estimator__penalty=elasticnet;, score=0.290 total time=   2.3s\n",
            "[CV 5/5; 24/30] START estimator__alpha=0.005994842503189421, estimator__penalty=elasticnet\n",
            "[CV 5/5; 24/30] END estimator__alpha=0.005994842503189421, estimator__penalty=elasticnet;, score=0.524 total time=   2.3s\n",
            "[CV 1/5; 25/30] START estimator__alpha=0.07742636826811278, estimator__penalty=l1\n",
            "[CV 1/5; 25/30] END estimator__alpha=0.07742636826811278, estimator__penalty=l1;, score=0.000 total time=   3.3s\n",
            "[CV 2/5; 25/30] START estimator__alpha=0.07742636826811278, estimator__penalty=l1\n",
            "[CV 2/5; 25/30] END estimator__alpha=0.07742636826811278, estimator__penalty=l1;, score=0.000 total time=   3.4s\n",
            "[CV 3/5; 25/30] START estimator__alpha=0.07742636826811278, estimator__penalty=l1\n",
            "[CV 3/5; 25/30] END estimator__alpha=0.07742636826811278, estimator__penalty=l1;, score=0.000 total time=   3.6s\n",
            "[CV 4/5; 25/30] START estimator__alpha=0.07742636826811278, estimator__penalty=l1\n",
            "[CV 4/5; 25/30] END estimator__alpha=0.07742636826811278, estimator__penalty=l1;, score=0.000 total time=   3.5s\n",
            "[CV 5/5; 25/30] START estimator__alpha=0.07742636826811278, estimator__penalty=l1\n",
            "[CV 5/5; 25/30] END estimator__alpha=0.07742636826811278, estimator__penalty=l1;, score=0.000 total time=   3.4s\n",
            "[CV 1/5; 26/30] START estimator__alpha=0.07742636826811278, estimator__penalty=l2\n",
            "[CV 1/5; 26/30] END estimator__alpha=0.07742636826811278, estimator__penalty=l2;, score=0.000 total time=   2.6s\n",
            "[CV 2/5; 26/30] START estimator__alpha=0.07742636826811278, estimator__penalty=l2\n",
            "[CV 2/5; 26/30] END estimator__alpha=0.07742636826811278, estimator__penalty=l2;, score=0.000 total time=   2.4s\n",
            "[CV 3/5; 26/30] START estimator__alpha=0.07742636826811278, estimator__penalty=l2\n",
            "[CV 3/5; 26/30] END estimator__alpha=0.07742636826811278, estimator__penalty=l2;, score=0.000 total time=   2.7s\n",
            "[CV 4/5; 26/30] START estimator__alpha=0.07742636826811278, estimator__penalty=l2\n",
            "[CV 4/5; 26/30] END estimator__alpha=0.07742636826811278, estimator__penalty=l2;, score=0.000 total time=   2.9s\n",
            "[CV 5/5; 26/30] START estimator__alpha=0.07742636826811278, estimator__penalty=l2\n",
            "[CV 5/5; 26/30] END estimator__alpha=0.07742636826811278, estimator__penalty=l2;, score=0.000 total time=   2.9s\n",
            "[CV 1/5; 27/30] START estimator__alpha=0.07742636826811278, estimator__penalty=elasticnet\n",
            "[CV 1/5; 27/30] END estimator__alpha=0.07742636826811278, estimator__penalty=elasticnet;, score=0.000 total time=   3.8s\n",
            "[CV 2/5; 27/30] START estimator__alpha=0.07742636826811278, estimator__penalty=elasticnet\n",
            "[CV 2/5; 27/30] END estimator__alpha=0.07742636826811278, estimator__penalty=elasticnet;, score=0.000 total time=   4.0s\n",
            "[CV 3/5; 27/30] START estimator__alpha=0.07742636826811278, estimator__penalty=elasticnet\n",
            "[CV 3/5; 27/30] END estimator__alpha=0.07742636826811278, estimator__penalty=elasticnet;, score=0.000 total time=   4.0s\n",
            "[CV 4/5; 27/30] START estimator__alpha=0.07742636826811278, estimator__penalty=elasticnet\n",
            "[CV 4/5; 27/30] END estimator__alpha=0.07742636826811278, estimator__penalty=elasticnet;, score=0.000 total time=   3.9s\n",
            "[CV 5/5; 27/30] START estimator__alpha=0.07742636826811278, estimator__penalty=elasticnet\n",
            "[CV 5/5; 27/30] END estimator__alpha=0.07742636826811278, estimator__penalty=elasticnet;, score=0.000 total time=   3.8s\n",
            "[CV 1/5; 28/30] START estimator__alpha=1.0, estimator__penalty=l1...............\n",
            "[CV 1/5; 28/30] END estimator__alpha=1.0, estimator__penalty=l1;, score=0.000 total time=   6.8s\n",
            "[CV 2/5; 28/30] START estimator__alpha=1.0, estimator__penalty=l1...............\n",
            "[CV 2/5; 28/30] END estimator__alpha=1.0, estimator__penalty=l1;, score=0.000 total time=   6.7s\n",
            "[CV 3/5; 28/30] START estimator__alpha=1.0, estimator__penalty=l1...............\n",
            "[CV 3/5; 28/30] END estimator__alpha=1.0, estimator__penalty=l1;, score=0.000 total time=   6.8s\n",
            "[CV 4/5; 28/30] START estimator__alpha=1.0, estimator__penalty=l1...............\n",
            "[CV 4/5; 28/30] END estimator__alpha=1.0, estimator__penalty=l1;, score=0.000 total time=   6.7s\n",
            "[CV 5/5; 28/30] START estimator__alpha=1.0, estimator__penalty=l1...............\n",
            "[CV 5/5; 28/30] END estimator__alpha=1.0, estimator__penalty=l1;, score=0.000 total time=   6.8s\n",
            "[CV 1/5; 29/30] START estimator__alpha=1.0, estimator__penalty=l2...............\n",
            "[CV 1/5; 29/30] END estimator__alpha=1.0, estimator__penalty=l2;, score=0.000 total time=   3.9s\n",
            "[CV 2/5; 29/30] START estimator__alpha=1.0, estimator__penalty=l2...............\n",
            "[CV 2/5; 29/30] END estimator__alpha=1.0, estimator__penalty=l2;, score=0.000 total time=   3.8s\n",
            "[CV 3/5; 29/30] START estimator__alpha=1.0, estimator__penalty=l2...............\n",
            "[CV 3/5; 29/30] END estimator__alpha=1.0, estimator__penalty=l2;, score=0.000 total time=   3.9s\n",
            "[CV 4/5; 29/30] START estimator__alpha=1.0, estimator__penalty=l2...............\n",
            "[CV 4/5; 29/30] END estimator__alpha=1.0, estimator__penalty=l2;, score=0.000 total time=   4.2s\n",
            "[CV 5/5; 29/30] START estimator__alpha=1.0, estimator__penalty=l2...............\n",
            "[CV 5/5; 29/30] END estimator__alpha=1.0, estimator__penalty=l2;, score=0.000 total time=   4.0s\n",
            "[CV 1/5; 30/30] START estimator__alpha=1.0, estimator__penalty=elasticnet.......\n",
            "[CV 1/5; 30/30] END estimator__alpha=1.0, estimator__penalty=elasticnet;, score=0.000 total time=   6.7s\n",
            "[CV 2/5; 30/30] START estimator__alpha=1.0, estimator__penalty=elasticnet.......\n",
            "[CV 2/5; 30/30] END estimator__alpha=1.0, estimator__penalty=elasticnet;, score=0.000 total time=   6.8s\n",
            "[CV 3/5; 30/30] START estimator__alpha=1.0, estimator__penalty=elasticnet.......\n",
            "[CV 3/5; 30/30] END estimator__alpha=1.0, estimator__penalty=elasticnet;, score=0.000 total time=   6.7s\n",
            "[CV 4/5; 30/30] START estimator__alpha=1.0, estimator__penalty=elasticnet.......\n",
            "[CV 4/5; 30/30] END estimator__alpha=1.0, estimator__penalty=elasticnet;, score=0.000 total time=   7.0s\n",
            "[CV 5/5; 30/30] START estimator__alpha=1.0, estimator__penalty=elasticnet.......\n",
            "[CV 5/5; 30/30] END estimator__alpha=1.0, estimator__penalty=elasticnet;, score=0.000 total time=   6.9s\n"
          ]
        },
        {
          "data": {
            "text/plain": [
              "GridSearchCV(cv=5, estimator=OneVsRestClassifier(estimator=SGDClassifier()),\n",
              "             param_grid={'estimator__alpha': array([1.00000000e-10, 1.29154967e-09, 1.66810054e-08, 2.15443469e-07,\n",
              "       2.78255940e-06, 3.59381366e-05, 4.64158883e-04, 5.99484250e-03,\n",
              "       7.74263683e-02, 1.00000000e+00]),\n",
              "                         'estimator__penalty': ['l1', 'l2', 'elasticnet']},\n",
              "             scoring=make_scorer(avg_jacard), verbose=10)"
            ]
          },
          "execution_count": 190,
          "metadata": {},
          "output_type": "execute_result"
        }
      ],
      "source": [
        "sgd = OneVsRestClassifier(SGDClassifier())\n",
        "CV_sgd = GridSearchCV(estimator=sgd, param_grid=param_grid, cv= 5,verbose=10, scoring=make_scorer(avg_jacard,greater_is_better=True))\n",
        "CV_sgd.fit(X_train, y_train)"
      ]
    },
    {
      "cell_type": "code",
      "execution_count": null,
      "metadata": {
        "colab": {
          "base_uri": "https://localhost:8080/"
        },
        "id": "hB35uYdLfYCL",
        "outputId": "5daa38f8-2203-493a-c474-824286584a7e"
      },
      "outputs": [
        {
          "data": {
            "text/plain": [
              "{'estimator__alpha': 3.5938136638046256e-05, 'estimator__penalty': 'l1'}"
            ]
          },
          "execution_count": 191,
          "metadata": {},
          "output_type": "execute_result"
        }
      ],
      "source": [
        "CV_sgd.best_params_"
      ]
    },
    {
      "cell_type": "code",
      "execution_count": null,
      "metadata": {
        "colab": {
          "base_uri": "https://localhost:8080/"
        },
        "id": "yp4bmIQXfYxx",
        "outputId": "0220d202-5063-42df-d43e-d649749e914c"
      },
      "outputs": [
        {
          "data": {
            "text/plain": [
              "OneVsRestClassifier(estimator=SGDClassifier(alpha=3.5938136638046256e-05,\n",
              "                                            penalty='l1'))"
            ]
          },
          "execution_count": 192,
          "metadata": {},
          "output_type": "execute_result"
        }
      ],
      "source": [
        "CV_sgd.best_estimator_"
      ]
    },
    {
      "cell_type": "code",
      "execution_count": null,
      "metadata": {
        "colab": {
          "base_uri": "https://localhost:8080/"
        },
        "id": "0YH1xypZferx",
        "outputId": "1a8bbdc6-f2ec-476f-b96d-95632ec15669"
      },
      "outputs": [
        {
          "name": "stdout",
          "output_type": "stream",
          "text": [
            "Clf:  OneVsRestClassifier\n",
            "Jacard score: 51.129054238212056\n",
            "F1-score: 0.6375168690958165\n",
            "---\n"
          ]
        }
      ],
      "source": [
        "best_model = CV_sgd.best_estimator_\n",
        "y_pred = best_model.predict(X_test)\n",
        "\n",
        "print_score(y_pred, best_model)"
      ]
    },
    {
      "cell_type": "code",
      "execution_count": null,
      "metadata": {
        "colab": {
          "base_uri": "https://localhost:8080/"
        },
        "id": "RUV4N53pJQKs",
        "outputId": "ecd715aa-fc4f-4da1-b7b7-17f3cd19de04"
      },
      "outputs": [
        {
          "name": "stdout",
          "output_type": "stream",
          "text": [
            "Clf:  OneVsRestClassifier\n",
            "Jacard score: 51.86777245648872\n",
            "F1-score: 0.6408422189229316\n",
            "---\n"
          ]
        }
      ],
      "source": [
        "best_model= OneVsRestClassifier(SGDClassifier(alpha=3.5938136638046256e-05,\n",
        "                                            penalty='l1'))\n",
        "best_model.fit(X_train, y_train)\n",
        "y_pred = best_model.predict(X_test)\n",
        "\n",
        "print_score(y_pred, best_model)"
      ]
    },
    {
      "cell_type": "code",
      "execution_count": null,
      "metadata": {
        "id": "ZwfIKqmk2mgs"
      },
      "outputs": [],
      "source": [
        "with open('Best tager questions.pkl','wb') as f:\n",
        "  pickle.dump(best_model,f)"
      ]
    },
    {
      "cell_type": "code",
      "execution_count": null,
      "metadata": {
        "colab": {
          "base_uri": "https://localhost:8080/"
        },
        "id": "dBDYFXsekleo",
        "outputId": "099f6b64-b9ec-4585-d0d8-5a75011623a0"
      },
      "outputs": [
        {
          "data": {
            "text/plain": [
              "10000"
            ]
          },
          "execution_count": 18,
          "metadata": {},
          "output_type": "execute_result"
        }
      ],
      "source": [
        "best_model.n_features_in_"
      ]
    }
  ],
  "metadata": {
    "colab": {
      "collapsed_sections": [],
      "name": "P5_02_notebooktest.ipynb",
      "toc_visible": true,
      "provenance": [],
      "mount_file_id": "1se_oJtceoGfAucs8MdUSKOCPrscQ2eS5",
      "authorship_tag": "ABX9TyNwMsCWmw6hgtp7W115fOqe",
      "include_colab_link": true
    },
    "kernelspec": {
      "display_name": "Python 3",
      "name": "python3"
    },
    "language_info": {
      "name": "python"
    }
  },
  "nbformat": 4,
  "nbformat_minor": 0
}